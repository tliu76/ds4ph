{
 "cells": [
  {
   "cell_type": "code",
   "execution_count": 10,
   "id": "49c91452-b95d-417d-bd24-96e41be18c88",
   "metadata": {},
   "outputs": [],
   "source": [
    "# Q0\n",
    "import numpy as np\n",
    "import pandas as pd\n",
    "import matplotlib.pyplot as plt"
   ]
  },
  {
   "cell_type": "code",
   "execution_count": 11,
   "id": "a12b8bea-7d1d-49c5-9a4f-c3dd5328936e",
   "metadata": {},
   "outputs": [],
   "source": [
    "def linear_regression(x, y):  \n",
    "    \n",
    "    x_mean = np.mean(x)\n",
    "    y_mean = np.mean(y)\n",
    "    B1_num = ((x - x_mean) * (y - y_mean)).sum()\n",
    "    B1_den = ((x - x_mean)**2).sum()\n",
    "    B1 = B1_num / B1_den\n",
    "    B0 = y_mean - (B1 * x_mean)\n",
    "    reg_line = 'y = {} + {}x'.format(B0, round(B1, 3))\n",
    "\n",
    "    return (B0, B1, reg_line)"
   ]
  },
  {
   "cell_type": "code",
   "execution_count": 12,
   "id": "a7a41ebc-c0c1-4012-bc89-95a53c6a18e5",
   "metadata": {},
   "outputs": [
    {
     "name": "stdin",
     "output_type": "stream",
     "text": [
      "X 1,2,3,4\n",
      "Y 5,6,7,8\n"
     ]
    },
    {
     "data": {
      "text/plain": [
       "(4.0, 1.0, 'y = 4.0 + 1.0x')"
      ]
     },
     "execution_count": 12,
     "metadata": {},
     "output_type": "execute_result"
    }
   ],
   "source": [
    "arr_x = input(\"X\")    \n",
    "x = [int(n) for n in arr_x.split(\",\")] \n",
    "arr_y = input(\"Y\")    \n",
    "y = [int(n) for n in arr_y.split(\",\")] \n",
    "linear_regression(x,y)\n"
   ]
  },
  {
   "cell_type": "code",
   "execution_count": 22,
   "id": "696875fb-05d0-49b9-a06f-21edef38ce8c",
   "metadata": {},
   "outputs": [],
   "source": [
    "# Q1\n",
    "RefData = pd.read_csv(\"https://raw.githubusercontent.com/smart-stats/ds4bio_book/main/book/assetts/kirby21AllLevels.csv\")\n",
    "RegData_x = RefData.loc[(RefData.type == 1) & (RefData.level == 1)& (RefData.roi == \"Telencephalon_L\")]\n",
    "RegData_y = RefData.loc[(RefData.type == 1) & (RefData.level == 1)& (RefData.roi == \"Telencephalon_R\")]"
   ]
  },
  {
   "cell_type": "code",
   "execution_count": 24,
   "id": "189f7e0c-8f82-4f0d-8515-ac4fdfafe4bb",
   "metadata": {},
   "outputs": [],
   "source": [
    "x = [int(n) for n in RegData_x.volume] \n",
    "y = [int(n) for n in RegData_y.volume] "
   ]
  },
  {
   "cell_type": "code",
   "execution_count": 25,
   "id": "ce6d0d79-1299-4651-a67d-f98409eadb72",
   "metadata": {},
   "outputs": [
    {
     "data": {
      "text/plain": [
       "(-13875.944799423742, 1.044241539832241, 'y = -13875.944799423742 + 1.044x')"
      ]
     },
     "execution_count": 25,
     "metadata": {},
     "output_type": "execute_result"
    }
   ],
   "source": [
    "linear_regression(x,y)"
   ]
  },
  {
   "cell_type": "code",
   "execution_count": 26,
   "id": "2b1e758f-fcf1-4a97-97c0-4a47dcfe736f",
   "metadata": {},
   "outputs": [],
   "source": [
    "x = [int(n) for n in RegData_y.volume] \n",
    "y = [int(n) for n in RegData_x.volume] "
   ]
  },
  {
   "cell_type": "code",
   "execution_count": 27,
   "id": "125cdbf0-04d4-4d78-af7c-3332029082aa",
   "metadata": {},
   "outputs": [
    {
     "data": {
      "text/plain": [
       "(17150.431045804115, 0.9500552111008128, 'y = 17150.431045804115 + 0.95x')"
      ]
     },
     "execution_count": 27,
     "metadata": {},
     "output_type": "execute_result"
    }
   ],
   "source": [
    "linear_regression(x,y)"
   ]
  },
  {
   "cell_type": "code",
   "execution_count": 28,
   "id": "8a1033d6-ead4-4821-9fa4-408387451e5b",
   "metadata": {},
   "outputs": [
    {
     "data": {
      "text/plain": [
       "[<matplotlib.lines.Line2D at 0x7fcac0b4c5e0>]"
      ]
     },
     "execution_count": 28,
     "metadata": {},
     "output_type": "execute_result"
    },
    {
     "data": {
      "image/png": "[encoded data removed]",
      "text/plain": [
       "<Figure size 432x288 with 1 Axes>"
      ]
     },
     "metadata": {
      "needs_background": "light"
     },
     "output_type": "display_data"
    }
   ],
   "source": [
    "plt.plot(x, y, 'o')"
   ]
  },
  {
   "cell_type": "markdown",
   "id": "0c7d0ae7-e2e2-4990-a42e-c0245dfe4bac",
   "metadata": {},
   "source": [
    "# Q2 Consider a regression through the origin model Y=BX . What would be the impact on the estimate of B if we replaced X by cX where c is a positive constant? Write your answer in a markdown cell of your ipython notebook.\n",
    "Y = B1cX\n",
    "B1=Y/cX\n",
    "because c is a positive constant\n",
    "B1< B"
   ]
  },
  {
   "cell_type": "code",
   "execution_count": 64,
   "id": "991cbaf7-11c6-44d2-b2f2-3ac2c19e8b81",
   "metadata": {},
   "outputs": [],
   "source": [
    "#Q3\n",
    "x= np.random.randint(0,2,10)\n",
    "y= np.random.randint(10,size=10)\n",
    "cheek = zip(x,y)\n",
    "ry=list(cheek)"
   ]
  },
  {
   "cell_type": "code",
   "execution_count": 66,
   "id": "0f299e71-e14c-4bbf-a3f8-c2750cc848a2",
   "metadata": {},
   "outputs": [
    {
     "name": "stdout",
     "output_type": "stream",
     "text": [
      "y = 3.875 + 4.625x\n"
     ]
    }
   ],
   "source": [
    "x_mean = np.mean(x)\n",
    "y_mean = np.mean(y)\n",
    "B1_num = ((x - x_mean) * (y - y_mean)).sum()\n",
    "B1_den = ((x - x_mean)**2).sum()\n",
    "B1 = B1_num / B1_den\n",
    "B0 = y_mean - (B1 * x_mean)\n",
    "reg_line = 'y = {} + {}x'.format(B0, round(B1, 3))\n",
    "print (reg_line)"
   ]
  },
  {
   "cell_type": "code",
   "execution_count": 68,
   "id": "e0529d17-7f74-4bd3-9ae0-5f83e0507b0e",
   "metadata": {},
   "outputs": [
    {
     "name": "stdout",
     "output_type": "stream",
     "text": [
      "8.499999999999998\n",
      "3.875\n"
     ]
    }
   ],
   "source": [
    "x1=1\n",
    "y1 = B0 + B1*x1\n",
    "x2=0\n",
    "y2 = B0 + B1*x2\n",
    "print (y1)\n",
    "print (y2)"
   ]
  },
  {
   "cell_type": "code",
   "execution_count": 70,
   "id": "6c573cc9-9493-498d-bb66-b53444c7a0cd",
   "metadata": {},
   "outputs": [
    {
     "name": "stdout",
     "output_type": "stream",
     "text": [
      "8.5\n",
      "3.875\n"
     ]
    }
   ],
   "source": [
    "m_x0=[] \n",
    "m_x1 =[]\n",
    "for i in ry:\n",
    "    if i[0]==0:\n",
    "        m_x0.append(i[1])\n",
    "    else:\n",
    "        m_x1.append(i[1])\n",
    "x1m = np.mean(m_x1)\n",
    "print(x1m)\n",
    "x0m = np.mean(m_x0)\n",
    "print(x0m)"
   ]
  },
  {
   "cell_type": "code",
   "execution_count": 71,
   "id": "b647cc0c-0365-44a6-be57-d933c1675efc",
   "metadata": {},
   "outputs": [],
   "source": [
    "# Q4\n",
    "x=np.random.randint(10,size=10)\n",
    "y=np.random.randint(15,size=10)"
   ]
  },
  {
   "cell_type": "code",
   "execution_count": 72,
   "id": "2feda146-af6a-422a-ab29-d7ea659f5e36",
   "metadata": {},
   "outputs": [],
   "source": [
    "xstd = np.std(x, ddof=1)\n",
    "ystd = np.std(y, ddof=1)"
   ]
  },
  {
   "cell_type": "code",
   "execution_count": 73,
   "id": "dd22ac16-2412-468c-88e8-f2d81c7329e7",
   "metadata": {},
   "outputs": [],
   "source": [
    "x1 = x/xstd"
   ]
  },
  {
   "cell_type": "code",
   "execution_count": 74,
   "id": "c241344a-d62b-4e20-abbe-9305d3b5ab75",
   "metadata": {},
   "outputs": [],
   "source": [
    "y1 = y/ystd"
   ]
  },
  {
   "cell_type": "code",
   "execution_count": 76,
   "id": "d2478fc7-cf5a-4812-b5f5-d5d86db9d9b8",
   "metadata": {},
   "outputs": [
    {
     "data": {
      "text/plain": [
       "(1.851872086024374, 0.005790183145405001, 'y = 1.851872086024374 + 0.006x')"
      ]
     },
     "execution_count": 76,
     "metadata": {},
     "output_type": "execute_result"
    }
   ],
   "source": [
    "linear_regression(x1,y1)"
   ]
  },
  {
   "cell_type": "code",
   "execution_count": 77,
   "id": "0c56d10c-3d80-4b89-bea7-0eb902f66294",
   "metadata": {},
   "outputs": [
    {
     "data": {
      "text/plain": [
       "(1.2086762271805558, 0.005790183145405001, 'y = 1.2086762271805558 + 0.006x')"
      ]
     },
     "execution_count": 77,
     "metadata": {},
     "output_type": "execute_result"
    }
   ],
   "source": [
    "linear_regression(y1,x1)"
   ]
  },
  {
   "cell_type": "code",
   "execution_count": 79,
   "id": "4fcac396-9e3a-4da8-b9f1-bf7d0c774dd8",
   "metadata": {},
   "outputs": [
    {
     "name": "stdout",
     "output_type": "stream",
     "text": [
      "Defaulting to user installation because normal site-packages is not writeable\n",
      "Requirement already satisfied: dash==2.0.0 in ./.local/lib/python3.9/site-packages (2.0.0)\n",
      "Requirement already satisfied: flask-compress in /opt/tljh/user/lib/python3.9/site-packages (from dash==2.0.0) (1.10.1)\n",
      "Requirement already satisfied: Flask>=1.0.4 in /opt/tljh/user/lib/python3.9/site-packages (from dash==2.0.0) (2.0.3)\n",
      "Requirement already satisfied: plotly>=5.0.0 in /opt/tljh/user/lib/python3.9/site-packages (from dash==2.0.0) (5.6.0)\n",
      "Requirement already satisfied: dash-table==5.0.0 in /opt/tljh/user/lib/python3.9/site-packages (from dash==2.0.0) (5.0.0)\n",
      "Requirement already satisfied: dash-core-components==2.0.0 in /opt/tljh/user/lib/python3.9/site-packages (from dash==2.0.0) (2.0.0)\n",
      "Requirement already satisfied: dash-html-components==2.0.0 in /opt/tljh/user/lib/python3.9/site-packages (from dash==2.0.0) (2.0.0)\n",
      "Requirement already satisfied: click>=7.1.2 in /opt/tljh/user/lib/python3.9/site-packages (from Flask>=1.0.4->dash==2.0.0) (8.0.3)\n",
      "Requirement already satisfied: Jinja2>=3.0 in /opt/tljh/user/lib/python3.9/site-packages (from Flask>=1.0.4->dash==2.0.0) (3.0.3)\n",
      "Requirement already satisfied: Werkzeug>=2.0 in /opt/tljh/user/lib/python3.9/site-packages (from Flask>=1.0.4->dash==2.0.0) (2.0.3)\n",
      "Requirement already satisfied: itsdangerous>=2.0 in /opt/tljh/user/lib/python3.9/site-packages (from Flask>=1.0.4->dash==2.0.0) (2.0.1)\n",
      "Requirement already satisfied: six in /opt/tljh/user/lib/python3.9/site-packages (from plotly>=5.0.0->dash==2.0.0) (1.16.0)\n",
      "Requirement already satisfied: tenacity>=6.2.0 in /opt/tljh/user/lib/python3.9/site-packages (from plotly>=5.0.0->dash==2.0.0) (8.0.1)\n",
      "Requirement already satisfied: brotli in /opt/tljh/user/lib/python3.9/site-packages (from flask-compress->dash==2.0.0) (1.0.9)\n",
      "Requirement already satisfied: MarkupSafe>=2.0 in /opt/tljh/user/lib/python3.9/site-packages (from Jinja2>=3.0->Flask>=1.0.4->dash==2.0.0) (2.0.1)\n"
     ]
    }
   ],
   "source": [
    "# Q5\n",
    "!pip install dash==2.0.0"
   ]
  },
  {
   "cell_type": "code",
   "execution_count": 80,
   "id": "09a48204-0874-46b2-8796-5b585ad5d6c8",
   "metadata": {},
   "outputs": [
    {
     "name": "stdout",
     "output_type": "stream",
     "text": [
      "Defaulting to user installation because normal site-packages is not writeable\n",
      "Requirement already satisfied: dash-leaflet in ./.local/lib/python3.9/site-packages (0.1.23)\n",
      "Requirement already satisfied: geobuf in ./.local/lib/python3.9/site-packages (from dash-leaflet) (1.1.1)\n",
      "Requirement already satisfied: protobuf in /opt/tljh/user/lib/python3.9/site-packages (from geobuf->dash-leaflet) (3.19.4)\n",
      "Requirement already satisfied: six in /opt/tljh/user/lib/python3.9/site-packages (from geobuf->dash-leaflet) (1.16.0)\n",
      "Requirement already satisfied: click in /opt/tljh/user/lib/python3.9/site-packages (from geobuf->dash-leaflet) (8.0.3)\n"
     ]
    }
   ],
   "source": [
    "!pip install dash-leaflet"
   ]
  },
  {
   "cell_type": "code",
   "execution_count": 1,
   "id": "89403efb-afaa-4b1f-966f-f8720e1aab5d",
   "metadata": {},
   "outputs": [],
   "source": [
    "import dash_leaflet as dl\n",
    "from dash import Dash, html, dcc\n",
    "from dash.dependencies import Input, Output, State\n",
    "import os\n",
    "from dash import Dash, dcc, html, Input, Output\n",
    "import plotly.express as px\n",
    "import pandas as pd\n",
    "import numpy as np\n",
    "import pandas as pd\n",
    "import seaborn as sns\n",
    "import matplotlib.pyplot as plt\n",
    "import sklearn.linear_model as lm\n",
    "\n",
    "import plotly.graph_objs as go\n",
    "sns.set()"
   ]
  },
  {
   "cell_type": "code",
   "execution_count": null,
   "id": "89c6c67a-60ef-4554-b1cc-b6c575f9252d",
   "metadata": {},
   "outputs": [
    {
     "name": "stdout",
     "output_type": "stream",
     "text": [
      "Dash is running on http://jupyter.biostat.jhsph.edu:1052/\n",
      "\n",
      " * Serving Flask app '__main__' (lazy loading)\n",
      " * Environment: production\n",
      "\u001b[31m   WARNING: This is a development server. Do not use it in a production deployment.\u001b[0m\n",
      "\u001b[2m   Use a production WSGI server instead.\u001b[0m\n",
      " * Debug mode: off\n"
     ]
    },
    {
     "name": "stderr",
     "output_type": "stream",
     "text": [
      " * Running on http://jupyter.biostat.jhsph.edu:1052/ (Press CTRL+C to quit)\n",
      "144.121.149.45 - - [04/Apr/2022 04:34:55] \"GET / HTTP/1.1\" 200 -\n",
      "144.121.149.45 - - [04/Apr/2022 04:34:55] \"GET /_dash-layout HTTP/1.1\" 200 -\n",
      "144.121.149.45 - - [04/Apr/2022 04:34:55] \"GET /_dash-dependencies HTTP/1.1\" 200 -\n",
      "144.121.149.45 - - [04/Apr/2022 04:34:55] \"POST /_dash-update-component HTTP/1.1\" 200 -\n",
      "144.121.149.45 - - [04/Apr/2022 04:35:07] \"GET / HTTP/1.1\" 200 -\n",
      "144.121.149.45 - - [04/Apr/2022 04:35:08] \"GET /_dash-layout HTTP/1.1\" 200 -\n",
      "144.121.149.45 - - [04/Apr/2022 04:35:08] \"GET /_dash-dependencies HTTP/1.1\" 200 -\n",
      "144.121.149.45 - - [04/Apr/2022 04:35:08] \"POST /_dash-update-component HTTP/1.1\" 200 -\n"
     ]
    }
   ],
   "source": [
    "from dash import Dash, dcc, html, Input, Output\n",
    "app = Dash(__name__)\n",
    "\n",
    "app.layout = html.Div([\n",
    "    html.H1(\"Enter your data to see the results\"),\n",
    "    html.Div([\n",
    "        html.H2('Enter B0'),\n",
    "        dcc.Input(id = 'B0', value = 2.0, type = 'number'),\n",
    "        html.H2('Enter B1'),\n",
    "        dcc.Input(id = 'B1', value = 1.0, type = 'number')\n",
    "    ]),\n",
    "    html.Br(),\n",
    "    html.H1(\" the logistic curve \"),\n",
    "    html.H1(id = 'curve'),\n",
    "\n",
    "])\n",
    "\n",
    "\n",
    "@app.callback(\n",
    "    Output(component_id = 'curve'   , component_property = 'children'),\n",
    "    Input(component_id  = 'B0', component_property = 'value'),\n",
    "    Input(component_id  = 'B1', component_property = 'value')\n",
    ")\n",
    "\n",
    "\n",
    " \n",
    "def update_figure(B0, B1):\n",
    "    x=0.001*np.arange(1,1001)\n",
    "    y=np.exp(B0 + B1*x)/(1 + np.exp(B0 + B1*x))\n",
    "    curve = px.scatter( x, y)\n",
    "    return curve\n",
    "\n",
    "\n",
    "if __name__ == '__main__':\n",
    "    app.run_server(debug = False,  host = 'jupyter.biostat.jhsph.edu', port=os.getuid()+30)\n",
    "    "
   ]
  },
  {
   "cell_type": "code",
   "execution_count": null,
   "id": "7fb0590f-a05d-499b-a847-6beabe8c5e2a",
   "metadata": {},
   "outputs": [],
   "source": []
  }
 ],
 "metadata": {
  "kernelspec": {
   "display_name": "Python 3 (ipykernel)",
   "language": "python",
   "name": "python3"
  },
  "language_info": {
   "codemirror_mode": {
    "name": "ipython",
    "version": 3
   },
   "file_extension": ".py",
   "mimetype": "text/x-python",
   "name": "python",
   "nbconvert_exporter": "python",
   "pygments_lexer": "ipython3",
   "version": "3.9.7"
  }
 },
 "nbformat": 4,
 "nbformat_minor": 5
}
