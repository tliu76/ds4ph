{
 "cells": [
  {
   "cell_type": "code",
   "execution_count": 1,
   "id": "88b673a0-c85f-47c9-8179-b2848f5ec105",
   "metadata": {},
   "outputs": [
    {
     "name": "stdout",
     "output_type": "stream",
     "text": [
      "Defaulting to user installation because normal site-packages is not writeable\n",
      "Requirement already satisfied: medmnist in /home/jupyter-jdong28/.local/lib/python3.9/site-packages (2.1.0)\n",
      "Requirement already satisfied: torch in /opt/tljh/user/lib/python3.9/site-packages (from medmnist) (1.10.2+cpu)\n",
      "Requirement already satisfied: scikit-image in /opt/tljh/user/lib/python3.9/site-packages (from medmnist) (0.19.1)\n",
      "Requirement already satisfied: scikit-learn in /opt/tljh/user/lib/python3.9/site-packages (from medmnist) (1.0.2)\n",
      "Requirement already satisfied: fire in /home/jupyter-jdong28/.local/lib/python3.9/site-packages (from medmnist) (0.4.0)\n",
      "Requirement already satisfied: numpy in /opt/tljh/user/lib/python3.9/site-packages (from medmnist) (1.22.2)\n",
      "Requirement already satisfied: torchvision in /opt/tljh/user/lib/python3.9/site-packages (from medmnist) (0.11.3+cpu)\n",
      "Requirement already satisfied: Pillow in /opt/tljh/user/lib/python3.9/site-packages (from medmnist) (9.0.1)\n",
      "Requirement already satisfied: pandas in /opt/tljh/user/lib/python3.9/site-packages (from medmnist) (1.4.0)\n",
      "Requirement already satisfied: tqdm in /opt/tljh/user/lib/python3.9/site-packages (from medmnist) (4.62.3)\n",
      "Requirement already satisfied: six in /opt/tljh/user/lib/python3.9/site-packages (from fire->medmnist) (1.16.0)\n",
      "Requirement already satisfied: termcolor in /opt/tljh/user/lib/python3.9/site-packages (from fire->medmnist) (1.1.0)\n",
      "Requirement already satisfied: pytz>=2020.1 in /opt/tljh/user/lib/python3.9/site-packages (from pandas->medmnist) (2021.3)\n",
      "Requirement already satisfied: python-dateutil>=2.8.1 in /opt/tljh/user/lib/python3.9/site-packages (from pandas->medmnist) (2.8.2)\n",
      "Requirement already satisfied: tifffile>=2019.7.26 in /opt/tljh/user/lib/python3.9/site-packages (from scikit-image->medmnist) (2022.2.9)\n",
      "Requirement already satisfied: packaging>=20.0 in /opt/tljh/user/lib/python3.9/site-packages (from scikit-image->medmnist) (21.3)\n",
      "Requirement already satisfied: scipy>=1.4.1 in /opt/tljh/user/lib/python3.9/site-packages (from scikit-image->medmnist) (1.8.0)\n",
      "Requirement already satisfied: networkx>=2.2 in /opt/tljh/user/lib/python3.9/site-packages (from scikit-image->medmnist) (2.6.3)\n",
      "Requirement already satisfied: imageio>=2.4.1 in /opt/tljh/user/lib/python3.9/site-packages (from scikit-image->medmnist) (2.15.0)\n",
      "Requirement already satisfied: PyWavelets>=1.1.1 in /opt/tljh/user/lib/python3.9/site-packages (from scikit-image->medmnist) (1.2.0)\n",
      "Requirement already satisfied: joblib>=0.11 in /opt/tljh/user/lib/python3.9/site-packages (from scikit-learn->medmnist) (1.1.0)\n",
      "Requirement already satisfied: threadpoolctl>=2.0.0 in /opt/tljh/user/lib/python3.9/site-packages (from scikit-learn->medmnist) (3.1.0)\n",
      "Requirement already satisfied: typing-extensions in /opt/tljh/user/lib/python3.9/site-packages (from torch->medmnist) (4.0.1)\n",
      "Requirement already satisfied: pyparsing!=3.0.5,>=2.0.2 in /opt/tljh/user/lib/python3.9/site-packages (from packaging>=20.0->scikit-image->medmnist) (3.0.7)\n"
     ]
    }
   ],
   "source": [
    "!pip install medmnist\n"
   ]
  },
  {
   "cell_type": "code",
   "execution_count": 2,
   "id": "f666abe7-1676-45be-8ebc-49062b34b935",
   "metadata": {},
   "outputs": [
    {
     "name": "stderr",
     "output_type": "stream",
     "text": [
      "2022-05-16 04:06:37.185677: W tensorflow/stream_executor/platform/default/dso_loader.cc:64] Could not load dynamic library 'libcudart.so.11.0'; dlerror: libcudart.so.11.0: cannot open shared object file: No such file or directory\n",
      "2022-05-16 04:06:37.185708: I tensorflow/stream_executor/cuda/cudart_stub.cc:29] Ignore above cudart dlerror if you do not have a GPU set up on your machine.\n"
     ]
    }
   ],
   "source": [
    "import urllib.request\n",
    "import PIL\n",
    "import matplotlib.pyplot as plt\n",
    "import numpy as np\n",
    "import tensorflow as tf\n",
    "from tensorflow.keras import layers, models, losses\n"
   ]
  },
  {
   "cell_type": "code",
   "execution_count": 3,
   "id": "74c99897-98bb-4468-bc75-ff974a2c2e7a",
   "metadata": {},
   "outputs": [],
   "source": [
    "\n",
    "## Open the image\n",
    "imgURL = \"https://raw.githubusercontent.com/larvalabs/cryptopunks/master/punks.png\"\n",
    "urllib.request.urlretrieve(imgURL, \"cryptoPunksAll.jpg\")\n",
    "img = PIL.Image.open(\"cryptoPunksAll.jpg\").convert(\"RGB\")\n",
    "imgArray = np.asarray(img)\n",
    "\n",
    "n = 10000\n",
    "\n",
    "finalArray = np.empty((n, 24, 24, 3))\n",
    "for i in range(100):\n",
    "  for j in range(100):\n",
    "    a, b = 24 * i, 24 * (i + 1)  \n",
    "    c, d = 24 * j, 24 * (j + 1) \n",
    "    idx = j + i * (100)\n",
    "    finalArray[idx,:,:,:] = imgArray[a:b,c:d,:]\n",
    "    \n"
   ]
  },
  {
   "cell_type": "code",
   "execution_count": 4,
   "id": "fdf283ae-55b5-41f4-a8c7-76cb730612c4",
   "metadata": {},
   "outputs": [
    {
     "data": {
      "text/plain": [
       "<matplotlib.image.AxesImage at 0x7f1517543520>"
      ]
     },
     "execution_count": 4,
     "metadata": {},
     "output_type": "execute_result"
    },
    {
     "data": {
      "image/png": "[encoded data removed]",
      "text/plain": [
       "<Figure size 432x288 with 1 Axes>"
      ]
     },
     "metadata": {
      "needs_background": "light"
     },
     "output_type": "display_data"
    }
   ],
   "source": [
    "temp  =  finalArray[0,:,:,:].copy()\n",
    "\n",
    "d2min, d2max = 9,14 \n",
    "d1min, d1max = 11,17\n",
    "\n",
    "temp[d1min : (d1max + 1), d2min : (d2max + 1)] = 255\n",
    "\n",
    "plt.imshow(temp.astype('uint8'))\n"
   ]
  },
  {
   "cell_type": "code",
   "execution_count": 5,
   "id": "2ac8d412-a069-4852-8569-f223f1008081",
   "metadata": {},
   "outputs": [
    {
     "name": "stderr",
     "output_type": "stream",
     "text": [
      "<>:7: SyntaxWarning: \"is\" with a literal. Did you mean \"==\"?\n",
      "<>:7: SyntaxWarning: \"is\" with a literal. Did you mean \"==\"?\n",
      "/tmp/ipykernel_1872205/2969927026.py:7: SyntaxWarning: \"is\" with a literal. Did you mean \"==\"?\n",
      "  if flip is 1:\n"
     ]
    }
   ],
   "source": [
    "cancerpunks = finalArray.copy()\n",
    "label = np.zeros(n)\n",
    "\n",
    "## Loop over the cryptopunks\n",
    "for i in range(10000):\n",
    "  flip = np.random.randint(0, 2)\n",
    "  if flip is 1:\n",
    "    label[i] = 1\n",
    "    d1loc = np.random.randint(d1min, d1max + 1)\n",
    "    d2loc = np.random.randint(d2min, d2max + 1)\n",
    "    cancerpunks[i,d1loc,d2loc,:] = 255\n"
   ]
  },
  {
   "cell_type": "code",
   "execution_count": 6,
   "id": "590bf461-3337-4daf-83f4-9e7c493aa72d",
   "metadata": {},
   "outputs": [
    {
     "data": {
      "image/png": "[encoded data removed]",
      "text/plain": [
       "<Figure size 720x720 with 25 Axes>"
      ]
     },
     "metadata": {},
     "output_type": "display_data"
    }
   ],
   "source": [
    "## plot some examples\n",
    "plt.figure(figsize=(10,10))\n",
    "for i in range(25): \n",
    "  plt.subplot(5,5,i+1)\n",
    "  plt.xticks([])\n",
    "  plt.yticks([])\n",
    "  plt.imshow(cancerpunks[i,:,:,:].astype('uint8'))\n",
    "  plt.title(label[i])"
   ]
  },
  {
   "cell_type": "code",
   "execution_count": 7,
   "id": "32644670-5d8c-4c59-91ea-5b3f67f2fc43",
   "metadata": {},
   "outputs": [
    {
     "name": "stdout",
     "output_type": "stream",
     "text": [
      "[1. 0. 0. ... 1. 1. 0.]\n",
      "(10000,)\n"
     ]
    }
   ],
   "source": [
    "print(label)\n",
    "print(label.shape)"
   ]
  },
  {
   "cell_type": "code",
   "execution_count": 8,
   "id": "11fa6ddd-64c1-495d-85c4-d7da6d4f2c0e",
   "metadata": {},
   "outputs": [],
   "source": [
    "cancerpunks = cancerpunks.transpose((0, 3, 1, 2))"
   ]
  },
  {
   "cell_type": "code",
   "execution_count": null,
   "id": "105f8a5c-2517-409c-a6e3-6ca0d36d99e3",
   "metadata": {},
   "outputs": [],
   "source": []
  },
  {
   "cell_type": "code",
   "execution_count": 9,
   "id": "2e394baf-5ae5-4016-a961-80c67edc60e6",
   "metadata": {},
   "outputs": [],
   "source": [
    "import urllib.request\n",
    "import PIL\n",
    "import matplotlib.pyplot as plt\n",
    "import numpy as np\n",
    "import pandas as pd"
   ]
  },
  {
   "cell_type": "code",
   "execution_count": 10,
   "id": "8d026d21-cc6e-415a-a1f6-6f1ebb64015d",
   "metadata": {},
   "outputs": [
    {
     "name": "stdout",
     "output_type": "stream",
     "text": [
      "https://raw.githubusercontent.com/cryptopunksnotdead/punks.attributes/master/original/0-999.csv\n",
      "https://raw.githubusercontent.com/cryptopunksnotdead/punks.attributes/master/original/1000-1999.csv\n",
      "https://raw.githubusercontent.com/cryptopunksnotdead/punks.attributes/master/original/2000-2999.csv\n",
      "https://raw.githubusercontent.com/cryptopunksnotdead/punks.attributes/master/original/3000-3999.csv\n",
      "https://raw.githubusercontent.com/cryptopunksnotdead/punks.attributes/master/original/4000-4999.csv\n",
      "https://raw.githubusercontent.com/cryptopunksnotdead/punks.attributes/master/original/5000-5999.csv\n",
      "https://raw.githubusercontent.com/cryptopunksnotdead/punks.attributes/master/original/6000-6999.csv\n",
      "https://raw.githubusercontent.com/cryptopunksnotdead/punks.attributes/master/original/7000-7999.csv\n",
      "https://raw.githubusercontent.com/cryptopunksnotdead/punks.attributes/master/original/8000-8999.csv\n",
      "https://raw.githubusercontent.com/cryptopunksnotdead/punks.attributes/master/original/9000-9999.csv\n"
     ]
    }
   ],
   "source": [
    "baseUrl = \"https://raw.githubusercontent.com/cryptopunksnotdead/punks.attributes/master/original/\"\n",
    "for i in range(0,10000, 1000):\n",
    "  url = baseUrl+str(i)+\"-\"+str(i + 999)+\".csv\"\n",
    "  print(url)\n",
    "  if (i == 0):\n",
    "    dat = pd.read_csv(url)\n",
    "  else :\n",
    "    dat = pd.concat ([dat, pd.read_csv(url)], \n",
    "                      join = 'inner',\n",
    "                     ignore_index = True)"
   ]
  },
  {
   "cell_type": "code",
   "execution_count": 11,
   "id": "6a4f0105-00db-40cd-af27-8771cec9a002",
   "metadata": {},
   "outputs": [
    {
     "data": {
      "text/html": [
       "<div>\n",
       "<style scoped>\n",
       "    .dataframe tbody tr th:only-of-type {\n",
       "        vertical-align: middle;\n",
       "    }\n",
       "\n",
       "    .dataframe tbody tr th {\n",
       "        vertical-align: top;\n",
       "    }\n",
       "\n",
       "    .dataframe thead th {\n",
       "        text-align: right;\n",
       "    }\n",
       "</style>\n",
       "<table border=\"1\" class=\"dataframe\">\n",
       "  <thead>\n",
       "    <tr style=\"text-align: right;\">\n",
       "      <th></th>\n",
       "      <th>id</th>\n",
       "      <th>type</th>\n",
       "      <th>gender</th>\n",
       "      <th>skin tone</th>\n",
       "      <th>count</th>\n",
       "      <th>accessories</th>\n",
       "    </tr>\n",
       "  </thead>\n",
       "  <tbody>\n",
       "    <tr>\n",
       "      <th>0</th>\n",
       "      <td>0</td>\n",
       "      <td>Human</td>\n",
       "      <td>Female</td>\n",
       "      <td>Medium</td>\n",
       "      <td>3</td>\n",
       "      <td>Green Eye Shadow / Earring / Blonde Bob</td>\n",
       "    </tr>\n",
       "    <tr>\n",
       "      <th>1</th>\n",
       "      <td>1</td>\n",
       "      <td>Human</td>\n",
       "      <td>Male</td>\n",
       "      <td>Dark</td>\n",
       "      <td>2</td>\n",
       "      <td>Smile / Mohawk</td>\n",
       "    </tr>\n",
       "    <tr>\n",
       "      <th>2</th>\n",
       "      <td>2</td>\n",
       "      <td>Human</td>\n",
       "      <td>Female</td>\n",
       "      <td>Light</td>\n",
       "      <td>1</td>\n",
       "      <td>Wild Hair</td>\n",
       "    </tr>\n",
       "    <tr>\n",
       "      <th>3</th>\n",
       "      <td>3</td>\n",
       "      <td>Human</td>\n",
       "      <td>Male</td>\n",
       "      <td>Dark</td>\n",
       "      <td>3</td>\n",
       "      <td>Wild Hair / Nerd Glasses / Pipe</td>\n",
       "    </tr>\n",
       "    <tr>\n",
       "      <th>4</th>\n",
       "      <td>4</td>\n",
       "      <td>Human</td>\n",
       "      <td>Male</td>\n",
       "      <td>Medium</td>\n",
       "      <td>4</td>\n",
       "      <td>Big Shades / Wild Hair / Earring / Goat</td>\n",
       "    </tr>\n",
       "  </tbody>\n",
       "</table>\n",
       "</div>"
      ],
      "text/plain": [
       "   id    type   gender  skin tone   count  \\\n",
       "0   0   Human   Female     Medium       3   \n",
       "1   1   Human     Male       Dark       2   \n",
       "2   2   Human   Female      Light       1   \n",
       "3   3   Human     Male       Dark       3   \n",
       "4   4   Human     Male     Medium       4   \n",
       "\n",
       "                                accessories  \n",
       "0   Green Eye Shadow / Earring / Blonde Bob  \n",
       "1                            Smile / Mohawk  \n",
       "2                                 Wild Hair  \n",
       "3           Wild Hair / Nerd Glasses / Pipe  \n",
       "4   Big Shades / Wild Hair / Earring / Goat  "
      ]
     },
     "execution_count": 11,
     "metadata": {},
     "output_type": "execute_result"
    }
   ],
   "source": [
    "dat.head()\n"
   ]
  },
  {
   "cell_type": "code",
   "execution_count": 12,
   "id": "cf0e9a17-7bcd-43af-bdcb-ab7b762045ed",
   "metadata": {},
   "outputs": [
    {
     "data": {
      "text/plain": [
       "(10000, 6)"
      ]
     },
     "execution_count": 12,
     "metadata": {},
     "output_type": "execute_result"
    }
   ],
   "source": [
    "dat.shape"
   ]
  },
  {
   "cell_type": "code",
   "execution_count": 13,
   "id": "1e535cc1-5791-4693-a01f-045529cbd822",
   "metadata": {},
   "outputs": [],
   "source": [
    "dat.insert(6, 'cancer',  label, allow_duplicates=False)"
   ]
  },
  {
   "cell_type": "code",
   "execution_count": 14,
   "id": "f9fd8afa-6042-4cfd-b8ed-ba6dcca31256",
   "metadata": {},
   "outputs": [
    {
     "data": {
      "text/html": [
       "<div>\n",
       "<style scoped>\n",
       "    .dataframe tbody tr th:only-of-type {\n",
       "        vertical-align: middle;\n",
       "    }\n",
       "\n",
       "    .dataframe tbody tr th {\n",
       "        vertical-align: top;\n",
       "    }\n",
       "\n",
       "    .dataframe thead th {\n",
       "        text-align: right;\n",
       "    }\n",
       "</style>\n",
       "<table border=\"1\" class=\"dataframe\">\n",
       "  <thead>\n",
       "    <tr style=\"text-align: right;\">\n",
       "      <th></th>\n",
       "      <th>id</th>\n",
       "      <th>type</th>\n",
       "      <th>gender</th>\n",
       "      <th>skin tone</th>\n",
       "      <th>count</th>\n",
       "      <th>accessories</th>\n",
       "      <th>cancer</th>\n",
       "    </tr>\n",
       "  </thead>\n",
       "  <tbody>\n",
       "    <tr>\n",
       "      <th>0</th>\n",
       "      <td>0</td>\n",
       "      <td>Human</td>\n",
       "      <td>Female</td>\n",
       "      <td>Medium</td>\n",
       "      <td>3</td>\n",
       "      <td>Green Eye Shadow / Earring / Blonde Bob</td>\n",
       "      <td>1.0</td>\n",
       "    </tr>\n",
       "    <tr>\n",
       "      <th>1</th>\n",
       "      <td>1</td>\n",
       "      <td>Human</td>\n",
       "      <td>Male</td>\n",
       "      <td>Dark</td>\n",
       "      <td>2</td>\n",
       "      <td>Smile / Mohawk</td>\n",
       "      <td>0.0</td>\n",
       "    </tr>\n",
       "    <tr>\n",
       "      <th>2</th>\n",
       "      <td>2</td>\n",
       "      <td>Human</td>\n",
       "      <td>Female</td>\n",
       "      <td>Light</td>\n",
       "      <td>1</td>\n",
       "      <td>Wild Hair</td>\n",
       "      <td>0.0</td>\n",
       "    </tr>\n",
       "    <tr>\n",
       "      <th>3</th>\n",
       "      <td>3</td>\n",
       "      <td>Human</td>\n",
       "      <td>Male</td>\n",
       "      <td>Dark</td>\n",
       "      <td>3</td>\n",
       "      <td>Wild Hair / Nerd Glasses / Pipe</td>\n",
       "      <td>1.0</td>\n",
       "    </tr>\n",
       "    <tr>\n",
       "      <th>4</th>\n",
       "      <td>4</td>\n",
       "      <td>Human</td>\n",
       "      <td>Male</td>\n",
       "      <td>Medium</td>\n",
       "      <td>4</td>\n",
       "      <td>Big Shades / Wild Hair / Earring / Goat</td>\n",
       "      <td>1.0</td>\n",
       "    </tr>\n",
       "  </tbody>\n",
       "</table>\n",
       "</div>"
      ],
      "text/plain": [
       "   id    type   gender  skin tone   count  \\\n",
       "0   0   Human   Female     Medium       3   \n",
       "1   1   Human     Male       Dark       2   \n",
       "2   2   Human   Female      Light       1   \n",
       "3   3   Human     Male       Dark       3   \n",
       "4   4   Human     Male     Medium       4   \n",
       "\n",
       "                                accessories  cancer  \n",
       "0   Green Eye Shadow / Earring / Blonde Bob     1.0  \n",
       "1                            Smile / Mohawk     0.0  \n",
       "2                                 Wild Hair     0.0  \n",
       "3           Wild Hair / Nerd Glasses / Pipe     1.0  \n",
       "4   Big Shades / Wild Hair / Earring / Goat     1.0  "
      ]
     },
     "execution_count": 14,
     "metadata": {},
     "output_type": "execute_result"
    }
   ],
   "source": [
    "dat.head()\n"
   ]
  },
  {
   "cell_type": "code",
   "execution_count": 15,
   "id": "3d263855-0fd5-4fba-a5dc-7423d5a49958",
   "metadata": {},
   "outputs": [
    {
     "data": {
      "text/plain": [
       "(10000, 7)"
      ]
     },
     "execution_count": 15,
     "metadata": {},
     "output_type": "execute_result"
    }
   ],
   "source": [
    "dat.shape"
   ]
  },
  {
   "cell_type": "code",
   "execution_count": 16,
   "id": "adebb174-38d8-4fc0-aefb-7a7aa0678520",
   "metadata": {},
   "outputs": [
    {
     "name": "stdout",
     "output_type": "stream",
     "text": [
      "Defaulting to user installation because normal site-packages is not writeable\n",
      "Requirement already satisfied: fast_ml in /home/jupyter-jdong28/.local/lib/python3.9/site-packages (3.68)\n"
     ]
    }
   ],
   "source": [
    "!pip install fast_ml"
   ]
  },
  {
   "cell_type": "code",
   "execution_count": 17,
   "id": "8ac8b89f-8443-453d-8262-4801f69129a3",
   "metadata": {},
   "outputs": [],
   "source": [
    "from fast_ml.model_development import train_valid_test_split\n",
    "from sklearn.model_selection import train_test_split"
   ]
  },
  {
   "cell_type": "code",
   "execution_count": 18,
   "id": "9aabaa8a-e504-4db0-9583-af56ac891739",
   "metadata": {},
   "outputs": [
    {
     "data": {
      "text/plain": [
       "[(8000, 3, 24, 24), (1000, 3, 24, 24), (1000, 3, 24, 24)]"
      ]
     },
     "execution_count": 18,
     "metadata": {},
     "output_type": "execute_result"
    }
   ],
   "source": [
    "n = cancerpunks.shape[0]\n",
    "trainFraction = 0.8\n",
    "sample = np.random.uniform(size = n) < trainFraction\n",
    "\n",
    "x = cancerpunks/ 255\n",
    "\n",
    "y = dat.cancer.to_numpy()\n",
    "\n",
    "y= y.reshape(y.shape[0], 1)\n",
    "## Need to have the extra dimension\n",
    "\n",
    "x_train, x_rem, y_train, y_rem = train_test_split(x,y, train_size=0.8)\n",
    "test_size = 0.5\n",
    "x_valid, x_test, y_valid, y_test = train_test_split(x_rem,y_rem, test_size=0.5)\n",
    "[x_train.shape, x_test.shape,x_valid.shape]"
   ]
  },
  {
   "cell_type": "code",
   "execution_count": 19,
   "id": "cbf8b0c4-f3a3-45e4-9d2b-1fef7672ca83",
   "metadata": {},
   "outputs": [
    {
     "data": {
      "text/plain": [
       "[(8000, 1), (1000, 1), (1000, 1)]"
      ]
     },
     "execution_count": 19,
     "metadata": {},
     "output_type": "execute_result"
    }
   ],
   "source": [
    "[y_train.shape, y_test.shape,y_valid.shape]"
   ]
  },
  {
   "cell_type": "code",
   "execution_count": 20,
   "id": "330daab4-aaf2-4a23-a5d6-23224b4467ad",
   "metadata": {},
   "outputs": [],
   "source": [
    "import torch \n",
    "import torch.nn as nn\n",
    "import torch.nn.functional as F\n",
    "from torch.utils.data import TensorDataset, DataLoader\n",
    "import torchvision\n",
    "import torchvision.transforms as transforms\n",
    "\n",
    "trainDataset = TensorDataset(torch.Tensor(x_train), torch.Tensor(y_train))\n",
    "trainloader = torch.utils.data.DataLoader(trainDataset, batch_size = 100, shuffle = False, num_workers = 1)"
   ]
  },
  {
   "cell_type": "code",
   "execution_count": 21,
   "id": "9350f069-8e5e-482d-b37f-adba48b9b8dd",
   "metadata": {},
   "outputs": [
    {
     "data": {
      "image/png": "[encoded data removed]",
      "text/plain": [
       "<Figure size 720x720 with 1 Axes>"
      ]
     },
     "metadata": {},
     "output_type": "display_data"
    },
    {
     "data": {
      "text/plain": [
       "tensor([1., 1., 0., 0., 0., 0., 1., 1.])"
      ]
     },
     "execution_count": 21,
     "metadata": {},
     "output_type": "execute_result"
    }
   ],
   "source": [
    "dataiter = iter(trainloader)\n",
    "images, labels = dataiter.next()\n",
    "\n",
    "\n",
    "def imshow(img):\n",
    "    npimg = img.numpy()\n",
    "    plt.imshow(np.transpose(npimg, (1, 2, 0)))\n",
    "    plt.xticks([])\n",
    "    plt.yticks([])\n",
    "    plt.show()\n",
    "\n",
    "# get some random training images\n",
    "dataiter = iter(trainloader)\n",
    "images, labels = dataiter.next()\n",
    "\n",
    "\n",
    "# show images\n",
    "\n",
    "plt.figure(figsize = (10, 10))\n",
    "imshow(torchvision.utils.make_grid(images[11 : 19, :, :, :]))\n",
    "\n",
    "# print labels\n",
    "labels[11 : 19,0]"
   ]
  },
  {
   "cell_type": "code",
   "execution_count": 22,
   "id": "1c4fc921-9375-4220-a5ac-e39218807148",
   "metadata": {},
   "outputs": [
    {
     "data": {
      "text/plain": [
       "[torch.Size([100, 3, 24, 24]), torch.Size([100, 1])]"
      ]
     },
     "execution_count": 22,
     "metadata": {},
     "output_type": "execute_result"
    }
   ],
   "source": [
    "for i, data in enumerate(trainloader, 0):\n",
    "  # get the inputs; data is a list of [inputs, labels]\n",
    "  inputs, labels = data\n",
    "[inputs.shape, labels.shape]"
   ]
  },
  {
   "cell_type": "code",
   "execution_count": 23,
   "id": "01911275-655b-4182-a49b-2a8c80c3e97a",
   "metadata": {},
   "outputs": [],
   "source": [
    "import torch.nn as nn\n",
    "import torch.nn.functional as F\n",
    "\n",
    "class Net(nn.Module):\n",
    "    def __init__(self):\n",
    "        super().__init__()\n",
    "        self.conv1 = nn.Conv2d(3, 6, 5)\n",
    "        self.pool = nn.MaxPool2d(2, 2)\n",
    "        self.conv2 = nn.Conv2d(6, 16, 5)\n",
    "        ## This has to be changed because the size\n",
    "        ## of our inputs is different than the CFAR\n",
    "        ## example. There's is 32x32 and ours is 24x24\n",
    "        ## Also, I changed the rest of the network architecture\n",
    "        ## here\n",
    "        ## Finally, we only have one output.\n",
    "        self.fc1 = nn.Linear(16 * 3 * 3, 64)\n",
    "        self.fc2 = nn.Linear(64, 32)\n",
    "        self.fc3 = nn.Linear(32, 1)\n",
    "\n",
    "    def forward(self, x):\n",
    "        x = self.pool(F.relu(self.conv1(x)))\n",
    "        x = self.pool(F.relu(self.conv2(x)))\n",
    "        x = torch.flatten(x, 1) # flatten all dimensions except batch\n",
    "        x = F.relu(self.fc1(x))\n",
    "        x = F.relu(self.fc2(x))\n",
    "        x = torch.sigmoid(self.fc3(x))\n",
    "        return x\n",
    "net = Net()"
   ]
  },
  {
   "cell_type": "code",
   "execution_count": 24,
   "id": "4040c241-ba16-4821-a671-4a42b5997478",
   "metadata": {},
   "outputs": [
    {
     "name": "stdout",
     "output_type": "stream",
     "text": [
      "Net(\n",
      "  (conv1): Conv2d(3, 6, kernel_size=(5, 5), stride=(1, 1))\n",
      "  (pool): MaxPool2d(kernel_size=2, stride=2, padding=0, dilation=1, ceil_mode=False)\n",
      "  (conv2): Conv2d(6, 16, kernel_size=(5, 5), stride=(1, 1))\n",
      "  (fc1): Linear(in_features=144, out_features=64, bias=True)\n",
      "  (fc2): Linear(in_features=64, out_features=32, bias=True)\n",
      "  (fc3): Linear(in_features=32, out_features=1, bias=True)\n",
      ")\n"
     ]
    }
   ],
   "source": [
    "print(net)"
   ]
  },
  {
   "cell_type": "code",
   "execution_count": 25,
   "id": "d2705605-e442-4f4b-b88e-2631ef79e2fa",
   "metadata": {},
   "outputs": [
    {
     "data": {
      "text/plain": [
       "torch.Size([100, 1])"
      ]
     },
     "execution_count": 25,
     "metadata": {},
     "output_type": "execute_result"
    }
   ],
   "source": [
    "net(inputs).shape"
   ]
  },
  {
   "cell_type": "code",
   "execution_count": 26,
   "id": "b9bc8b39-f2b1-443b-948f-4733ba7884a2",
   "metadata": {},
   "outputs": [],
   "source": [
    "import torch.optim as optim\n",
    "#criterion = nn.CrossEntropyLoss()\n",
    "criterion = nn.BCELoss()\n",
    "optimizer = optim.SGD(net.parameters(), lr=0.001, momentum=0.9)"
   ]
  },
  {
   "cell_type": "code",
   "execution_count": 27,
   "id": "8869f2bc-f044-46af-adec-de439c218c77",
   "metadata": {},
   "outputs": [
    {
     "name": "stdout",
     "output_type": "stream",
     "text": [
      "Finished Training\n"
     ]
    }
   ],
   "source": [
    "for epoch in range(100):  # loop over the dataset multiple times\n",
    "    running_loss = 0.0\n",
    "    for i, data in enumerate(trainloader, 0):\n",
    "        # get the inputs; data is a list of [inputs, labels]\n",
    "        inputs, labels = data\n",
    "\n",
    "        # zero the parameter gradients\n",
    "        optimizer.zero_grad()\n",
    "\n",
    "        # forward + backward + optimize\n",
    "        outputs = net(inputs)\n",
    "\n",
    "        loss = criterion(outputs, labels)\n",
    "        loss.backward()\n",
    "        optimizer.step()\n",
    "\n",
    "        # print statistics\n",
    "        running_loss += loss.item()\n",
    "#        if i % 2000 == 1999:    # print every 2000 mini-batches\n",
    "#            print('[%d, %5d] loss: %.3f' %\n",
    "#                  (epoch + 1, i + 1, running_loss / 2000))\n",
    "#            running_loss = 0.0\n",
    "\n",
    "print('Finished Training')"
   ]
  },
  {
   "cell_type": "code",
   "execution_count": null,
   "id": "3bbbe15e-e543-4877-9f04-c4e9fc3d4e68",
   "metadata": {},
   "outputs": [],
   "source": []
  },
  {
   "cell_type": "code",
   "execution_count": 28,
   "id": "6b7cf84d-3886-4cd6-b0ae-fa632797b1a1",
   "metadata": {},
   "outputs": [
    {
     "data": {
      "image/png": "[encoded data removed]",
      "text/plain": [
       "<Figure size 432x288 with 1 Axes>"
      ]
     },
     "metadata": {
      "needs_background": "light"
     },
     "output_type": "display_data"
    }
   ],
   "source": [
    "## Run the testing data through the NN\n",
    "testout = net(torch.Tensor(x_test)).detach().numpy()\n",
    "\n",
    "## Compare with the testing labels\n",
    "from sklearn.metrics import accuracy_score, roc_curve, auc\n",
    "fpr, tpr, thresholds = roc_curve(y_test, testout)\n",
    "roc_auc = auc(fpr, tpr)\n",
    "\n",
    "plt.figure()\n",
    "lw = 2\n",
    "plt.plot(fpr, tpr, color='darkorange',\n",
    "         lw=lw, label='ROC curve (area = %0.2f)' % roc_auc)\n",
    "plt.plot([0, 1], [0, 1], color='navy', lw=lw, linestyle='--')\n",
    "plt.xlim([-0.05, 1.05])\n",
    "plt.ylim([-0.05, 1.05])\n",
    "plt.xlabel('1-specificity ')\n",
    "plt.ylabel('sensitivity')\n",
    "plt.title('Receiver operating characteristic example')\n",
    "plt.legend(loc=\"lower right\")\n",
    "plt.show()"
   ]
  },
  {
   "cell_type": "code",
   "execution_count": null,
   "id": "2d622da2-8739-45cf-bb60-3cfd061e7cb8",
   "metadata": {},
   "outputs": [],
   "source": []
  },
  {
   "cell_type": "code",
   "execution_count": 29,
   "id": "2ace0d32-5cb8-4523-b2ad-d264e3bcba8f",
   "metadata": {},
   "outputs": [
    {
     "data": {
      "image/png": "[encoded data removed]",
      "text/plain": [
       "<Figure size 432x288 with 1 Axes>"
      ]
     },
     "metadata": {
      "needs_background": "light"
     },
     "output_type": "display_data"
    }
   ],
   "source": [
    "## Run the valid data through the NN\n",
    "testout = net(torch.Tensor(x_valid)).detach().numpy()\n",
    "\n",
    "## Compare with the valid labels\n",
    "from sklearn.metrics import accuracy_score, roc_curve, auc\n",
    "fpr, tpr, thresholds = roc_curve(y_valid, testout)\n",
    "roc_auc = auc(fpr, tpr)\n",
    "\n",
    "plt.figure()\n",
    "lw = 2\n",
    "plt.plot(fpr, tpr, color='darkorange',\n",
    "         lw=lw, label='ROC curve (area = %0.2f)' % roc_auc)\n",
    "plt.plot([0, 1], [0, 1], color='navy', lw=lw, linestyle='--')\n",
    "plt.xlim([-0.05, 1.05])\n",
    "plt.ylim([-0.05, 1.05])\n",
    "plt.xlabel('1-specificity ')\n",
    "plt.ylabel('sensitivity')\n",
    "plt.title('Receiver operating characteristic example')\n",
    "plt.legend(loc=\"lower right\")\n",
    "plt.show()"
   ]
  },
  {
   "cell_type": "code",
   "execution_count": 30,
   "id": "4749c7e3-3fd0-4347-b5e2-7cc2454d1007",
   "metadata": {},
   "outputs": [],
   "source": [
    "from scipy.optimize import brentq\n",
    "from sklearn.metrics import roc_curve\n",
    "from scipy.interpolate import interp1d"
   ]
  },
  {
   "cell_type": "code",
   "execution_count": 31,
   "id": "231c60f5-1d61-49ec-a34e-3573c0e6e43d",
   "metadata": {},
   "outputs": [
    {
     "data": {
      "image/png": "[encoded data removed]",
      "text/plain": [
       "<Figure size 432x288 with 1 Axes>"
      ]
     },
     "metadata": {
      "needs_background": "light"
     },
     "output_type": "display_data"
    }
   ],
   "source": [
    "##Q2\n",
    "testout = net(torch.Tensor(x_test)).detach().numpy()\n",
    "from sklearn.metrics import accuracy_score, roc_curve, auc\n",
    "fpr, tpr, thresholds = roc_curve(y_test, testout)\n",
    "eer = brentq(lambda x : 1. - x - interp1d(fpr, tpr)(x), 0., 1.)\n",
    "thresh = interp1d(fpr, thresholds)(eer)\n",
    "\n",
    "plt.figure()\n",
    "## TPR + FNR = 1\n",
    "lw = 2\n",
    "plt.plot(fpr, 1-tpr, color='darkorange',\n",
    "         lw=lw, label='EER curve (area = %0.2f)' % eer)\n",
    "plt.plot([0, 1], [0, 1], color='navy', lw=lw, linestyle='--')\n",
    "plt.xlim([-0.05, 1.05])\n",
    "plt.ylim([-0.05, 1.05])\n",
    "plt.xlabel('False positive rate ')\n",
    "plt.ylabel('False negative rate')\n",
    "plt.title('Equal Error Rate')\n",
    "plt.legend(loc=\"lower right\")\n",
    "plt.show()"
   ]
  },
  {
   "cell_type": "code",
   "execution_count": 32,
   "id": "d9468263-0301-40d0-90a4-cfd380bac9a4",
   "metadata": {},
   "outputs": [
    {
     "data": {
      "image/png": "[encoded data removed]",
      "text/plain": [
       "<Figure size 432x288 with 1 Axes>"
      ]
     },
     "metadata": {
      "needs_background": "light"
     },
     "output_type": "display_data"
    }
   ],
   "source": [
    "\n",
    "testout = net(torch.Tensor(x_valid)).detach().numpy()\n",
    "from sklearn.metrics import accuracy_score, roc_curve, auc\n",
    "fpr, tpr, thresholds = roc_curve(y_valid, testout)\n",
    "eer = brentq(lambda x : 1. - x - interp1d(fpr, tpr)(x), 0., 1.)\n",
    "thresh = interp1d(fpr, thresholds)(eer)\n",
    "\n",
    "plt.figure()\n",
    "lw = 2\n",
    "## TPR + FNR = 1\n",
    "plt.plot(fpr, 1-tpr, color='darkorange',\n",
    "         lw=lw, label='EER curve (area = %0.2f)' % eer)\n",
    "plt.plot([0, 1], [0, 1], color='navy', lw=lw, linestyle='--')\n",
    "plt.xlim([-0.05, 1.05])\n",
    "plt.ylim([-0.05, 1.05])\n",
    "plt.xlabel('False positive rate ')\n",
    "plt.ylabel('False negative rate')\n",
    "plt.title('Equal Error Rate')\n",
    "plt.legend(loc=\"lower right\")\n",
    "plt.show()\n"
   ]
  },
  {
   "cell_type": "markdown",
   "id": "8aa646e3-ea0e-456d-9447-50a4aa508ffe",
   "metadata": {},
   "source": [
    "Is there a reason why it seems like it's so wrong for these cases?\n",
    "1. Probably because the probability of the disease is exactly 50%\n"
   ]
  },
  {
   "cell_type": "code",
   "execution_count": 33,
   "id": "93dcec7d-4bfc-46eb-ae91-0f3ca7c11998",
   "metadata": {},
   "outputs": [],
   "source": [
    "##Q3\n"
   ]
  },
  {
   "cell_type": "code",
   "execution_count": 60,
   "id": "f490f059-f8b7-4a24-bc2d-363cf98a84db",
   "metadata": {},
   "outputs": [],
   "source": [
    "## j=imgArray[x:x+24,y:y+24,:]\n",
    "\n",
    "def probability_disease(x,y):\n",
    "    a, b = 24 * x, 24 * (x + 1)  \n",
    "    c, d = 24 * y, 24 * (y + 1)\n",
    "    idx = y + x * (100)\n",
    "    cancerpunks[idx,0,:,:]=imgArray[a:b,c:d,0]\n",
    "    cancerpunks[idx,1,:,:]=imgArray[a:b,c:d,1]\n",
    "    cancerpunks[idx,2,:,:]=imgArray[a:b,c:d,2]\n",
    "    pro_x = net(torch.Tensor(cancerpunks)).detach().numpy().mean()\n",
    "  \n",
    "    print(pro_x)\n"
   ]
  },
  {
   "cell_type": "code",
   "execution_count": 61,
   "id": "3e649a80-4fd7-42bf-b003-2a8336cf7d05",
   "metadata": {},
   "outputs": [
    {
     "name": "stdout",
     "output_type": "stream",
     "text": [
      "0.45789853\n"
     ]
    }
   ],
   "source": [
    "probability_disease(1,2)"
   ]
  }
 ],
 "metadata": {
  "kernelspec": {
   "display_name": "Python 3 (ipykernel)",
   "language": "python",
   "name": "python3"
  },
  "language_info": {
   "codemirror_mode": {
    "name": "ipython",
    "version": 3
   },
   "file_extension": ".py",
   "mimetype": "text/x-python",
   "name": "python",
   "nbconvert_exporter": "python",
   "pygments_lexer": "ipython3",
   "version": "3.9.7"
  }
 },
 "nbformat": 4,
 "nbformat_minor": 5
}
