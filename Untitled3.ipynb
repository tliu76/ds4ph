{
 "cells": [
  {
   "cell_type": "code",
   "execution_count": 37,
   "id": "b5657e03-07f6-4511-ba47-3841e8497b32",
   "metadata": {},
   "outputs": [],
   "source": [
    "##Q1\n",
    "import pandas as pd\n",
    "import numpy as np\n",
    "from sklearn import linear_model\n",
    "import matplotlib.pyplot as plt\n",
    "import statsmodels.api as sm\n",
    "import csv\n"
   ]
  },
  {
   "cell_type": "code",
   "execution_count": 38,
   "id": "27d39300-173b-4150-b554-8b132e791354",
   "metadata": {},
   "outputs": [
    {
     "data": {
      "text/html": [
       "<div>\n",
       "<style scoped>\n",
       "    .dataframe tbody tr th:only-of-type {\n",
       "        vertical-align: middle;\n",
       "    }\n",
       "\n",
       "    .dataframe tbody tr th {\n",
       "        vertical-align: top;\n",
       "    }\n",
       "\n",
       "    .dataframe thead th {\n",
       "        text-align: right;\n",
       "    }\n",
       "</style>\n",
       "<table border=\"1\" class=\"dataframe\">\n",
       "  <thead>\n",
       "    <tr style=\"text-align: right;\">\n",
       "      <th></th>\n",
       "      <th>Province/State</th>\n",
       "      <th>Country/Region</th>\n",
       "      <th>Lat</th>\n",
       "      <th>Long</th>\n",
       "      <th>1/22/20</th>\n",
       "      <th>1/23/20</th>\n",
       "      <th>1/24/20</th>\n",
       "      <th>1/25/20</th>\n",
       "      <th>1/26/20</th>\n",
       "      <th>1/27/20</th>\n",
       "      <th>...</th>\n",
       "      <th>4/9/22</th>\n",
       "      <th>4/10/22</th>\n",
       "      <th>4/11/22</th>\n",
       "      <th>4/12/22</th>\n",
       "      <th>4/13/22</th>\n",
       "      <th>4/14/22</th>\n",
       "      <th>4/15/22</th>\n",
       "      <th>4/16/22</th>\n",
       "      <th>4/17/22</th>\n",
       "      <th>4/18/22</th>\n",
       "    </tr>\n",
       "  </thead>\n",
       "  <tbody>\n",
       "    <tr>\n",
       "      <th>0</th>\n",
       "      <td>NaN</td>\n",
       "      <td>Afghanistan</td>\n",
       "      <td>33.93911</td>\n",
       "      <td>67.709953</td>\n",
       "      <td>0</td>\n",
       "      <td>0</td>\n",
       "      <td>0</td>\n",
       "      <td>0</td>\n",
       "      <td>0</td>\n",
       "      <td>0</td>\n",
       "      <td>...</td>\n",
       "      <td>177974</td>\n",
       "      <td>177974</td>\n",
       "      <td>178141</td>\n",
       "      <td>178257</td>\n",
       "      <td>178295</td>\n",
       "      <td>178352</td>\n",
       "      <td>178373</td>\n",
       "      <td>178387</td>\n",
       "      <td>178418</td>\n",
       "      <td>178457</td>\n",
       "    </tr>\n",
       "    <tr>\n",
       "      <th>1</th>\n",
       "      <td>NaN</td>\n",
       "      <td>Albania</td>\n",
       "      <td>41.15330</td>\n",
       "      <td>20.168300</td>\n",
       "      <td>0</td>\n",
       "      <td>0</td>\n",
       "      <td>0</td>\n",
       "      <td>0</td>\n",
       "      <td>0</td>\n",
       "      <td>0</td>\n",
       "      <td>...</td>\n",
       "      <td>274191</td>\n",
       "      <td>274219</td>\n",
       "      <td>274219</td>\n",
       "      <td>274272</td>\n",
       "      <td>274320</td>\n",
       "      <td>274376</td>\n",
       "      <td>274429</td>\n",
       "      <td>274462</td>\n",
       "      <td>274504</td>\n",
       "      <td>274520</td>\n",
       "    </tr>\n",
       "    <tr>\n",
       "      <th>2</th>\n",
       "      <td>NaN</td>\n",
       "      <td>Algeria</td>\n",
       "      <td>28.03390</td>\n",
       "      <td>1.659600</td>\n",
       "      <td>0</td>\n",
       "      <td>0</td>\n",
       "      <td>0</td>\n",
       "      <td>0</td>\n",
       "      <td>0</td>\n",
       "      <td>0</td>\n",
       "      <td>...</td>\n",
       "      <td>265720</td>\n",
       "      <td>265724</td>\n",
       "      <td>265727</td>\n",
       "      <td>265730</td>\n",
       "      <td>265731</td>\n",
       "      <td>265733</td>\n",
       "      <td>265738</td>\n",
       "      <td>265739</td>\n",
       "      <td>265739</td>\n",
       "      <td>265741</td>\n",
       "    </tr>\n",
       "    <tr>\n",
       "      <th>3</th>\n",
       "      <td>NaN</td>\n",
       "      <td>Andorra</td>\n",
       "      <td>42.50630</td>\n",
       "      <td>1.521800</td>\n",
       "      <td>0</td>\n",
       "      <td>0</td>\n",
       "      <td>0</td>\n",
       "      <td>0</td>\n",
       "      <td>0</td>\n",
       "      <td>0</td>\n",
       "      <td>...</td>\n",
       "      <td>40328</td>\n",
       "      <td>40328</td>\n",
       "      <td>40328</td>\n",
       "      <td>40328</td>\n",
       "      <td>40709</td>\n",
       "      <td>40709</td>\n",
       "      <td>40709</td>\n",
       "      <td>40709</td>\n",
       "      <td>40709</td>\n",
       "      <td>40709</td>\n",
       "    </tr>\n",
       "    <tr>\n",
       "      <th>4</th>\n",
       "      <td>NaN</td>\n",
       "      <td>Angola</td>\n",
       "      <td>-11.20270</td>\n",
       "      <td>17.873900</td>\n",
       "      <td>0</td>\n",
       "      <td>0</td>\n",
       "      <td>0</td>\n",
       "      <td>0</td>\n",
       "      <td>0</td>\n",
       "      <td>0</td>\n",
       "      <td>...</td>\n",
       "      <td>99194</td>\n",
       "      <td>99194</td>\n",
       "      <td>99194</td>\n",
       "      <td>99194</td>\n",
       "      <td>99194</td>\n",
       "      <td>99194</td>\n",
       "      <td>99194</td>\n",
       "      <td>99194</td>\n",
       "      <td>99194</td>\n",
       "      <td>99194</td>\n",
       "    </tr>\n",
       "  </tbody>\n",
       "</table>\n",
       "<p>5 rows × 822 columns</p>\n",
       "</div>"
      ],
      "text/plain": [
       "  Province/State Country/Region       Lat       Long  1/22/20  1/23/20  \\\n",
       "0            NaN    Afghanistan  33.93911  67.709953        0        0   \n",
       "1            NaN        Albania  41.15330  20.168300        0        0   \n",
       "2            NaN        Algeria  28.03390   1.659600        0        0   \n",
       "3            NaN        Andorra  42.50630   1.521800        0        0   \n",
       "4            NaN         Angola -11.20270  17.873900        0        0   \n",
       "\n",
       "   1/24/20  1/25/20  1/26/20  1/27/20  ...  4/9/22  4/10/22  4/11/22  4/12/22  \\\n",
       "0        0        0        0        0  ...  177974   177974   178141   178257   \n",
       "1        0        0        0        0  ...  274191   274219   274219   274272   \n",
       "2        0        0        0        0  ...  265720   265724   265727   265730   \n",
       "3        0        0        0        0  ...   40328    40328    40328    40328   \n",
       "4        0        0        0        0  ...   99194    99194    99194    99194   \n",
       "\n",
       "   4/13/22  4/14/22  4/15/22  4/16/22  4/17/22  4/18/22  \n",
       "0   178295   178352   178373   178387   178418   178457  \n",
       "1   274320   274376   274429   274462   274504   274520  \n",
       "2   265731   265733   265738   265739   265739   265741  \n",
       "3    40709    40709    40709    40709    40709    40709  \n",
       "4    99194    99194    99194    99194    99194    99194  \n",
       "\n",
       "[5 rows x 822 columns]"
      ]
     },
     "execution_count": 38,
     "metadata": {},
     "output_type": "execute_result"
    }
   ],
   "source": [
    "dat = pd.read_csv('https://raw.githubusercontent.com/CSSEGISandData/COVID-19/master/csse_covid_19_data/csse_covid_19_time_series/time_series_covid19_confirmed_global.csv')\n",
    "dat.head()"
   ]
  },
  {
   "cell_type": "code",
   "execution_count": 39,
   "id": "da0f2667-3feb-4595-8278-ca4eaac2c958",
   "metadata": {},
   "outputs": [],
   "source": [
    "## Get Italy, drop everyrthing except dates, convert to long (unstack converts to tuple)\n",
    "y=dat[dat['Country/Region'] == 'Italy'].drop([\"Province/State\", \"Country/Region\", \"Lat\", \"Long\"], axis=1).unstack()\n",
    "## convert from tuple to array\n",
    "y = np.asarray(y)  \n",
    "## get case counts instead of cumulative counts\n",
    "y = y[1 : y.size] - y[0 : (y.size - 1)]\n"
   ]
  },
  {
   "cell_type": "code",
   "execution_count": 40,
   "id": "ecf4aee9-5d1b-467d-8de3-ed40596e89a3",
   "metadata": {},
   "outputs": [
    {
     "data": {
      "text/plain": [
       "[<matplotlib.lines.Line2D at 0x7f098c77b3d0>]"
      ]
     },
     "execution_count": 40,
     "metadata": {},
     "output_type": "execute_result"
    },
    {
     "data": {
      "image/png": "[encoded data removed]",
      "text/plain": [
       "<Figure size 432x288 with 1 Axes>"
      ]
     },
     "metadata": {
      "needs_background": "light"
     },
     "output_type": "display_data"
    }
   ],
   "source": [
    "\n",
    "## get the first non zero entry\n",
    "y =  y[np.min(np.where(y !=  0)) : y.size]\n",
    "plt.plot(y)"
   ]
  },
  {
   "cell_type": "code",
   "execution_count": 41,
   "id": "21c269b5-53b2-4aee-82bf-5167a16c9009",
   "metadata": {},
   "outputs": [
    {
     "name": "stdout",
     "output_type": "stream",
     "text": [
      "804\n",
      "804\n",
      "804\n",
      "804\n",
      "804\n",
      "804\n"
     ]
    },
    {
     "data": {
      "text/html": [
       "<div>\n",
       "<style scoped>\n",
       "    .dataframe tbody tr th:only-of-type {\n",
       "        vertical-align: middle;\n",
       "    }\n",
       "\n",
       "    .dataframe tbody tr th {\n",
       "        vertical-align: top;\n",
       "    }\n",
       "\n",
       "    .dataframe thead th {\n",
       "        text-align: right;\n",
       "    }\n",
       "</style>\n",
       "<table border=\"1\" class=\"dataframe\">\n",
       "  <thead>\n",
       "    <tr style=\"text-align: right;\">\n",
       "      <th></th>\n",
       "      <th>Y</th>\n",
       "      <th>X1</th>\n",
       "      <th>X2</th>\n",
       "      <th>X3</th>\n",
       "      <th>X4</th>\n",
       "      <th>X5</th>\n",
       "    </tr>\n",
       "  </thead>\n",
       "  <tbody>\n",
       "    <tr>\n",
       "      <th>0</th>\n",
       "      <td>0</td>\n",
       "      <td>0</td>\n",
       "      <td>0</td>\n",
       "      <td>0</td>\n",
       "      <td>0</td>\n",
       "      <td>2</td>\n",
       "    </tr>\n",
       "    <tr>\n",
       "      <th>1</th>\n",
       "      <td>0</td>\n",
       "      <td>0</td>\n",
       "      <td>0</td>\n",
       "      <td>0</td>\n",
       "      <td>0</td>\n",
       "      <td>0</td>\n",
       "    </tr>\n",
       "    <tr>\n",
       "      <th>2</th>\n",
       "      <td>1</td>\n",
       "      <td>0</td>\n",
       "      <td>0</td>\n",
       "      <td>0</td>\n",
       "      <td>0</td>\n",
       "      <td>0</td>\n",
       "    </tr>\n",
       "    <tr>\n",
       "      <th>3</th>\n",
       "      <td>0</td>\n",
       "      <td>1</td>\n",
       "      <td>0</td>\n",
       "      <td>0</td>\n",
       "      <td>0</td>\n",
       "      <td>0</td>\n",
       "    </tr>\n",
       "    <tr>\n",
       "      <th>4</th>\n",
       "      <td>0</td>\n",
       "      <td>0</td>\n",
       "      <td>1</td>\n",
       "      <td>0</td>\n",
       "      <td>0</td>\n",
       "      <td>0</td>\n",
       "    </tr>\n",
       "    <tr>\n",
       "      <th>...</th>\n",
       "      <td>...</td>\n",
       "      <td>...</td>\n",
       "      <td>...</td>\n",
       "      <td>...</td>\n",
       "      <td>...</td>\n",
       "      <td>...</td>\n",
       "    </tr>\n",
       "    <tr>\n",
       "      <th>799</th>\n",
       "      <td>65617</td>\n",
       "      <td>62586</td>\n",
       "      <td>84056</td>\n",
       "      <td>28705</td>\n",
       "      <td>53920</td>\n",
       "      <td>64421</td>\n",
       "    </tr>\n",
       "    <tr>\n",
       "      <th>800</th>\n",
       "      <td>62290</td>\n",
       "      <td>65617</td>\n",
       "      <td>62586</td>\n",
       "      <td>84056</td>\n",
       "      <td>28705</td>\n",
       "      <td>53920</td>\n",
       "    </tr>\n",
       "    <tr>\n",
       "      <th>801</th>\n",
       "      <td>64533</td>\n",
       "      <td>62290</td>\n",
       "      <td>65617</td>\n",
       "      <td>62586</td>\n",
       "      <td>84056</td>\n",
       "      <td>28705</td>\n",
       "    </tr>\n",
       "    <tr>\n",
       "      <th>802</th>\n",
       "      <td>52253</td>\n",
       "      <td>64533</td>\n",
       "      <td>62290</td>\n",
       "      <td>65617</td>\n",
       "      <td>62586</td>\n",
       "      <td>84056</td>\n",
       "    </tr>\n",
       "    <tr>\n",
       "      <th>803</th>\n",
       "      <td>18588</td>\n",
       "      <td>52253</td>\n",
       "      <td>64533</td>\n",
       "      <td>62290</td>\n",
       "      <td>65617</td>\n",
       "      <td>62586</td>\n",
       "    </tr>\n",
       "  </tbody>\n",
       "</table>\n",
       "<p>804 rows × 6 columns</p>\n",
       "</div>"
      ],
      "text/plain": [
       "         Y     X1     X2     X3     X4     X5\n",
       "0        0      0      0      0      0      2\n",
       "1        0      0      0      0      0      0\n",
       "2        1      0      0      0      0      0\n",
       "3        0      1      0      0      0      0\n",
       "4        0      0      1      0      0      0\n",
       "..     ...    ...    ...    ...    ...    ...\n",
       "799  65617  62586  84056  28705  53920  64421\n",
       "800  62290  65617  62586  84056  28705  53920\n",
       "801  64533  62290  65617  62586  84056  28705\n",
       "802  52253  64533  62290  65617  62586  84056\n",
       "803  18588  52253  64533  62290  65617  62586\n",
       "\n",
       "[804 rows x 6 columns]"
      ]
     },
     "execution_count": 41,
     "metadata": {},
     "output_type": "execute_result"
    }
   ],
   "source": [
    "y1= y[np.min(np.where(y !=  0))+5 : y.size]\n",
    "x1=y[np.min(np.where(y !=  0))+4 : y.size-1]\n",
    "x2=y[np.min(np.where(y !=  0))+3 : y.size-2]\n",
    "x3=y[np.min(np.where(y !=  0))+2 : y.size-3]\n",
    "x4=y[np.min(np.where(y !=  0))+1 : y.size-4]\n",
    "x5=y[np.min(np.where(y !=  0)) : y.size-5]\n",
    "\n",
    "data = {\"Y\": y1, \"X1\": x1, \"X2\": x2, \"X3\": x3,\"X4\": x4,\"X5\": x5}\n",
    "print(x1.size)\n",
    "print(x2.size)\n",
    "print(x3.size)\n",
    "print(x4.size)\n",
    "print(x5.size)\n",
    "print(y1.size)\n",
    "df = pd.DataFrame(data)\n",
    "df"
   ]
  },
  {
   "cell_type": "code",
   "execution_count": 42,
   "id": "39580c24-9fcc-426a-9900-58bdbc79813b",
   "metadata": {},
   "outputs": [],
   "source": [
    "from sklearn.linear_model import LinearRegression\n",
    "import statsmodels.formula.api as smf"
   ]
  },
  {
   "cell_type": "code",
   "execution_count": 43,
   "id": "6a7d4c77-98db-4b69-b14e-b5ca6b6b05db",
   "metadata": {},
   "outputs": [],
   "source": [
    "trainFraction = 1\n",
    "\n",
    "sample = np.random.uniform(size = y1.size) < trainFraction\n",
    "trainingDat = df[sample]\n",
    "testingDat = df[~sample]"
   ]
  },
  {
   "cell_type": "code",
   "execution_count": 44,
   "id": "cf7dca72-e3eb-40da-a675-477a789f65f1",
   "metadata": {},
   "outputs": [
    {
     "name": "stdout",
     "output_type": "stream",
     "text": [
      "                  Results: Ordinary least squares\n",
      "===================================================================\n",
      "Model:              OLS              Adj. R-squared:     0.878     \n",
      "Dependent Variable: Y                AIC:                17450.8613\n",
      "Date:               2022-04-19 04:05 BIC:                17478.9989\n",
      "No. Observations:   804              Log-Likelihood:     -8719.4   \n",
      "Df Model:           5                F-statistic:        1158.     \n",
      "Df Residuals:       798              Prob (F-statistic): 0.00      \n",
      "R-squared:          0.879            Scale:              1.5512e+08\n",
      "--------------------------------------------------------------------\n",
      "            Coef.    Std.Err.     t     P>|t|     [0.025     0.975] \n",
      "--------------------------------------------------------------------\n",
      "Intercept  657.3460  504.9001   1.3019  0.1933  -333.7431  1648.4351\n",
      "X1           0.4507    0.0351  12.8427  0.0000     0.3818     0.5196\n",
      "X2           0.1283    0.0384   3.3375  0.0009     0.0528     0.2037\n",
      "X3           0.1383    0.0384   3.5998  0.0003     0.0629     0.2137\n",
      "X4           0.0852    0.0384   2.2150  0.0270     0.0097     0.1606\n",
      "X5           0.1702    0.0351   4.8431  0.0000     0.1012     0.2392\n",
      "-------------------------------------------------------------------\n",
      "Omnibus:              302.618      Durbin-Watson:         2.035    \n",
      "Prob(Omnibus):        0.000        Jarque-Bera (JB):      18600.392\n",
      "Skew:                 0.846        Prob(JB):              0.000    \n",
      "Kurtosis:             26.503       Condition No.:         101150   \n",
      "===================================================================\n",
      "* The condition number is large (1e+05). This might indicate\n",
      "strong multicollinearity or other numerical problems.\n",
      "Intercept    657.346006\n",
      "X1             0.450726\n",
      "X2             0.128275\n",
      "X3             0.138266\n",
      "X4             0.085158\n",
      "X5             0.170197\n",
      "dtype: float64\n"
     ]
    }
   ],
   "source": [
    "results = smf.ols('Y ~ X1 + X2 + X3  + X4 +X5', data = trainingDat).fit()\n",
    "print(results.summary2())\n",
    "\n",
    "print (results.params)"
   ]
  },
  {
   "cell_type": "code",
   "execution_count": 45,
   "id": "a7106c08-97d0-42fe-ac2b-74eac6bc1408",
   "metadata": {},
   "outputs": [
    {
     "name": "stdout",
     "output_type": "stream",
     "text": [
      "<statsmodels.regression.linear_model.RegressionResultsWrapper object at 0x7f098c715ac0>\n"
     ]
    }
   ],
   "source": [
    "print(results)"
   ]
  },
  {
   "cell_type": "code",
   "execution_count": 46,
   "id": "4917c4f1-a1c1-44bc-80ad-e91ec0f8871b",
   "metadata": {},
   "outputs": [],
   "source": [
    "\n",
    "yhat= results.params[0]+results.params[1]*x1+results.params[2]*x2+results.params[3]*x3+results.params[4]*x4+results.params[5]*x5"
   ]
  },
  {
   "cell_type": "code",
   "execution_count": 47,
   "id": "8c0a7a16-1efa-46a1-8aab-96d9684d5e62",
   "metadata": {},
   "outputs": [
    {
     "data": {
      "text/plain": [
       "[<matplotlib.lines.Line2D at 0x7f098c7325e0>]"
      ]
     },
     "execution_count": 47,
     "metadata": {},
     "output_type": "execute_result"
    },
    {
     "data": {
      "image/png": "[encoded data removed]",
      "text/plain": [
       "<Figure size 432x288 with 1 Axes>"
      ]
     },
     "metadata": {
      "needs_background": "light"
     },
     "output_type": "display_data"
    }
   ],
   "source": [
    "e=y1-yhat\n",
    "\n",
    "plt.plot(e)"
   ]
  },
  {
   "cell_type": "code",
   "execution_count": 48,
   "id": "433ab242-262c-49e7-ba89-0cb5d7729341",
   "metadata": {},
   "outputs": [],
   "source": [
    "##Q2A\n",
    "\n",
    "trainFraction = 1\n",
    "\n",
    "sample = np.random.uniform(size = y1.size) < trainFraction\n",
    "trainingDat = df[sample]\n",
    "testingDat = df[~sample]"
   ]
  },
  {
   "cell_type": "code",
   "execution_count": 49,
   "id": "e4a7fe89-7ed2-4cc0-b2af-be8d515189f8",
   "metadata": {},
   "outputs": [
    {
     "name": "stdout",
     "output_type": "stream",
     "text": [
      "                  Results: Ordinary least squares\n",
      "===================================================================\n",
      "Model:              OLS              Adj. R-squared:     0.878     \n",
      "Dependent Variable: Y                AIC:                17450.8613\n",
      "Date:               2022-04-19 04:05 BIC:                17478.9989\n",
      "No. Observations:   804              Log-Likelihood:     -8719.4   \n",
      "Df Model:           5                F-statistic:        1158.     \n",
      "Df Residuals:       798              Prob (F-statistic): 0.00      \n",
      "R-squared:          0.879            Scale:              1.5512e+08\n",
      "--------------------------------------------------------------------\n",
      "            Coef.    Std.Err.     t     P>|t|     [0.025     0.975] \n",
      "--------------------------------------------------------------------\n",
      "Intercept  657.3460  504.9001   1.3019  0.1933  -333.7431  1648.4351\n",
      "X1           0.4507    0.0351  12.8427  0.0000     0.3818     0.5196\n",
      "X2           0.1283    0.0384   3.3375  0.0009     0.0528     0.2037\n",
      "X3           0.1383    0.0384   3.5998  0.0003     0.0629     0.2137\n",
      "X4           0.0852    0.0384   2.2150  0.0270     0.0097     0.1606\n",
      "X5           0.1702    0.0351   4.8431  0.0000     0.1012     0.2392\n",
      "-------------------------------------------------------------------\n",
      "Omnibus:              302.618      Durbin-Watson:         2.035    \n",
      "Prob(Omnibus):        0.000        Jarque-Bera (JB):      18600.392\n",
      "Skew:                 0.846        Prob(JB):              0.000    \n",
      "Kurtosis:             26.503       Condition No.:         101150   \n",
      "===================================================================\n",
      "* The condition number is large (1e+05). This might indicate\n",
      "strong multicollinearity or other numerical problems.\n",
      "Intercept    657.346006\n",
      "X1             0.450726\n",
      "X2             0.128275\n",
      "X3             0.138266\n",
      "X4             0.085158\n",
      "X5             0.170197\n",
      "dtype: float64\n"
     ]
    }
   ],
   "source": [
    "results = smf.ols('Y ~ X1 + X2 + X3  + X4 +X5', data = trainingDat).fit()\n",
    "print(results.summary2())\n",
    "\n",
    "print (results.params)"
   ]
  },
  {
   "cell_type": "code",
   "execution_count": 50,
   "id": "d7043bc1-fd95-4c9c-b14a-ec35c9dbf139",
   "metadata": {},
   "outputs": [],
   "source": [
    "\n",
    "yhat= results.params[0]+results.params[1]*x1+results.params[2]*x2+results.params[3]*x3+results.params[4]*x4+results.params[5]*x5"
   ]
  },
  {
   "cell_type": "code",
   "execution_count": 51,
   "id": "810ba049-c373-4a9b-b2e3-ec19c85e0c0c",
   "metadata": {},
   "outputs": [
    {
     "data": {
      "text/plain": [
       "[<matplotlib.lines.Line2D at 0x7f098c69a0a0>]"
      ]
     },
     "execution_count": 51,
     "metadata": {},
     "output_type": "execute_result"
    },
    {
     "data": {
      "image/png": "[encoded data removed]",
      "text/plain": [
       "<Figure size 432x288 with 1 Axes>"
      ]
     },
     "metadata": {
      "needs_background": "light"
     },
     "output_type": "display_data"
    }
   ],
   "source": [
    "e=y1-yhat\n",
    "\n",
    "plt.plot(e)"
   ]
  },
  {
   "cell_type": "code",
   "execution_count": 52,
   "id": "0c12548a-60fa-42ca-8f21-5aa707a924c6",
   "metadata": {},
   "outputs": [
    {
     "name": "stdout",
     "output_type": "stream",
     "text": [
      "[0 0 0 0 0 2]\n"
     ]
    }
   ],
   "source": [
    "##Q2B\n",
    "\n",
    "X = df.values\n",
    "print(X[0])\n",
    "train_size = int(len(X) * 0.5)\n",
    "train, test = X[0:train_size], X[:]"
   ]
  },
  {
   "cell_type": "code",
   "execution_count": 53,
   "id": "e14cc850-4693-4b46-9231-144ffaa59928",
   "metadata": {},
   "outputs": [],
   "source": [
    "\n",
    "train_X1, train_X2,train_X3,train_X4,train_X5,train_Y = train[:,0], train[:,1], train[:,2], train[:,3], train[:,4], train[:,5]\n",
    "test_X1, test_X2,test_X3,test_X4,test_X5,test_Y = test[:,0], test[:,1], test[:,2], test[:,3], test[:,4], test[:,5]\n"
   ]
  },
  {
   "cell_type": "code",
   "execution_count": 54,
   "id": "ea920ffa-0050-4d33-9e58-5030e8f31491",
   "metadata": {},
   "outputs": [],
   "source": [
    "data_train = {\"Ytr\": train_Y, \"X1tr\": train_X1, \"X2tr\": train_X2, \"X3tr\": train_X3,\"X4tr\": train_X4,\"X5tr\": train_X5}\n",
    "\n",
    "df_train = pd.DataFrame(data_train)\n",
    "\n",
    "data_test = {\"Yte\": test_Y, \"X1tr\": test_X1, \"X2tr\": test_X2, \"X3tr\": test_X3,\"X4tr\": test_X4,\"X5tr\": test_X5}\n",
    "\n",
    "df_test = pd.DataFrame(data_test)"
   ]
  },
  {
   "cell_type": "code",
   "execution_count": 55,
   "id": "cd9b20fb-3e70-4ec5-862f-a4ad89f99ad4",
   "metadata": {},
   "outputs": [
    {
     "name": "stdout",
     "output_type": "stream",
     "text": [
      "402\n",
      "402\n",
      "402\n",
      "402\n",
      "402\n",
      "402\n"
     ]
    }
   ],
   "source": [
    "print(train_X1.size)\n",
    "print(train_X2.size)\n",
    "print(train_X3.size)\n",
    "print(train_X4.size)\n",
    "print(train_X5.size)\n",
    "print(train_Y.size)"
   ]
  },
  {
   "cell_type": "code",
   "execution_count": 56,
   "id": "bde0a6cc-4bc0-4e90-b085-969aac8a6f0d",
   "metadata": {},
   "outputs": [
    {
     "name": "stdout",
     "output_type": "stream",
     "text": [
      "                  Results: Ordinary least squares\n",
      "===================================================================\n",
      "Model:              OLS              Adj. R-squared:     0.965     \n",
      "Dependent Variable: train_Y          AIC:                7171.5319 \n",
      "Date:               2022-04-19 04:05 BIC:                7195.5106 \n",
      "No. Observations:   402              Log-Likelihood:     -3579.8   \n",
      "Df Model:           5                F-statistic:        2242.     \n",
      "Df Residuals:       396              Prob (F-statistic): 7.11e-288 \n",
      "R-squared:          0.966            Scale:              3.2266e+06\n",
      "--------------------------------------------------------------------\n",
      "              Coef.   Std.Err.     t     P>|t|     [0.025    0.975] \n",
      "--------------------------------------------------------------------\n",
      "Intercept    -2.4561  115.8964  -0.0212  0.9831  -230.3053  225.3930\n",
      "train_X1      0.3729    0.0456   8.1830  0.0000     0.2833    0.4624\n",
      "train_X2     -0.1194    0.0655  -1.8235  0.0690    -0.2481    0.0093\n",
      "train_X3     -0.0572    0.0659  -0.8677  0.3861    -0.1867    0.0724\n",
      "train_X4     -0.1537    0.0655  -2.3457  0.0195    -0.2825   -0.0249\n",
      "train_X5      0.9462    0.0459  20.6158  0.0000     0.8559    1.0364\n",
      "-------------------------------------------------------------------\n",
      "Omnibus:               59.826       Durbin-Watson:          2.118  \n",
      "Prob(Omnibus):         0.000        Jarque-Bera (JB):       607.061\n",
      "Skew:                  -0.050       Prob(JB):               0.000  \n",
      "Kurtosis:              9.019        Condition No.:          35529  \n",
      "===================================================================\n",
      "* The condition number is large (4e+04). This might indicate\n",
      "strong multicollinearity or other numerical problems.\n",
      "Intercept   -2.456125\n",
      "train_X1     0.372865\n",
      "train_X2    -0.119372\n",
      "train_X3    -0.057162\n",
      "train_X4    -0.153711\n",
      "train_X5     0.946152\n",
      "dtype: float64\n"
     ]
    }
   ],
   "source": [
    "resultstr = smf.ols('train_Y ~ train_X1+train_X2+train_X3+train_X4+train_X5', data = df_train).fit()\n",
    "print(resultstr.summary2())\n",
    "\n",
    "print (resultstr.params)"
   ]
  },
  {
   "cell_type": "code",
   "execution_count": 57,
   "id": "cb8e1fce-4284-421c-92d9-8b2c143fc276",
   "metadata": {},
   "outputs": [],
   "source": [
    "\n",
    "yhattr= resultstr.params[0]+resultstr.params[1]*test_X1+resultstr.params[2]*test_X2+resultstr.params[3]*test_X3+resultstr.params[4]*test_X4+resultstr.params[5]*test_X5"
   ]
  },
  {
   "cell_type": "code",
   "execution_count": 58,
   "id": "10d90e3d-6644-4da6-808b-49c077b71718",
   "metadata": {},
   "outputs": [
    {
     "data": {
      "text/plain": [
       "[<matplotlib.lines.Line2D at 0x7f098c682d30>]"
      ]
     },
     "execution_count": 58,
     "metadata": {},
     "output_type": "execute_result"
    },
    {
     "data": {
      "image/png": "[encoded data removed]",
      "text/plain": [
       "<Figure size 432x288 with 1 Axes>"
      ]
     },
     "metadata": {
      "needs_background": "light"
     },
     "output_type": "display_data"
    }
   ],
   "source": [
    "data_test = {\"Yte\": test_Y, \"X1tr\": test_X1, \"X2tr\": test_X2, \"X3tr\": test_X3,\"X4tr\": test_X4,\"X5tr\": test_X5}\n",
    "\n",
    "df_test = pd.DataFrame(data_test)\n",
    "\n",
    "e = test_Y- yhattr\n",
    "plt.plot(e)"
   ]
  },
  {
   "cell_type": "code",
   "execution_count": 59,
   "id": "2b786467-261c-4a65-aba1-8daa9853ca95",
   "metadata": {},
   "outputs": [],
   "source": [
    "##Q3\n",
    "yb=dat[dat['Country/Region'] == 'Afghanistan'].drop([\"Province/State\", \"Country/Region\", \"Lat\", \"Long\"], axis=1).unstack()\n",
    "## convert from tuple to array\n",
    "yb = np.asarray(yb)  \n",
    "## get case counts instead of cumulative counts\n",
    "yb = yb[1 : yb.size] - yb[0 : (yb.size - 1)]"
   ]
  },
  {
   "cell_type": "code",
   "execution_count": 60,
   "id": "91ff94cf-de07-4b80-b731-02a905c6b12f",
   "metadata": {},
   "outputs": [
    {
     "data": {
      "text/plain": [
       "[<matplotlib.lines.Line2D at 0x7f098c5e7580>]"
      ]
     },
     "execution_count": 60,
     "metadata": {},
     "output_type": "execute_result"
    },
    {
     "data": {
      "image/png": "[encoded data removed]",
      "text/plain": [
       "<Figure size 432x288 with 1 Axes>"
      ]
     },
     "metadata": {
      "needs_background": "light"
     },
     "output_type": "display_data"
    }
   ],
   "source": [
    "yb =  yb[np.min(np.where(yb !=  0)) : yb.size]\n",
    "plt.plot(yb)"
   ]
  },
  {
   "cell_type": "code",
   "execution_count": 61,
   "id": "a90f9a79-f173-40db-97e9-d7906817d61b",
   "metadata": {},
   "outputs": [
    {
     "name": "stdout",
     "output_type": "stream",
     "text": [
      "780\n",
      "780\n",
      "780\n",
      "780\n",
      "780\n",
      "780\n"
     ]
    },
    {
     "data": {
      "text/html": [
       "<div>\n",
       "<style scoped>\n",
       "    .dataframe tbody tr th:only-of-type {\n",
       "        vertical-align: middle;\n",
       "    }\n",
       "\n",
       "    .dataframe tbody tr th {\n",
       "        vertical-align: top;\n",
       "    }\n",
       "\n",
       "    .dataframe thead th {\n",
       "        text-align: right;\n",
       "    }\n",
       "</style>\n",
       "<table border=\"1\" class=\"dataframe\">\n",
       "  <thead>\n",
       "    <tr style=\"text-align: right;\">\n",
       "      <th></th>\n",
       "      <th>Yb</th>\n",
       "      <th>Xb1</th>\n",
       "      <th>Xb2</th>\n",
       "      <th>Xb3</th>\n",
       "      <th>Xb4</th>\n",
       "      <th>Xb5</th>\n",
       "    </tr>\n",
       "  </thead>\n",
       "  <tbody>\n",
       "    <tr>\n",
       "      <th>0</th>\n",
       "      <td>0</td>\n",
       "      <td>0</td>\n",
       "      <td>0</td>\n",
       "      <td>0</td>\n",
       "      <td>0</td>\n",
       "      <td>5</td>\n",
       "    </tr>\n",
       "    <tr>\n",
       "      <th>1</th>\n",
       "      <td>0</td>\n",
       "      <td>0</td>\n",
       "      <td>0</td>\n",
       "      <td>0</td>\n",
       "      <td>0</td>\n",
       "      <td>0</td>\n",
       "    </tr>\n",
       "    <tr>\n",
       "      <th>2</th>\n",
       "      <td>0</td>\n",
       "      <td>0</td>\n",
       "      <td>0</td>\n",
       "      <td>0</td>\n",
       "      <td>0</td>\n",
       "      <td>0</td>\n",
       "    </tr>\n",
       "    <tr>\n",
       "      <th>3</th>\n",
       "      <td>0</td>\n",
       "      <td>0</td>\n",
       "      <td>0</td>\n",
       "      <td>0</td>\n",
       "      <td>0</td>\n",
       "      <td>0</td>\n",
       "    </tr>\n",
       "    <tr>\n",
       "      <th>4</th>\n",
       "      <td>0</td>\n",
       "      <td>0</td>\n",
       "      <td>0</td>\n",
       "      <td>0</td>\n",
       "      <td>0</td>\n",
       "      <td>0</td>\n",
       "    </tr>\n",
       "    <tr>\n",
       "      <th>...</th>\n",
       "      <td>...</td>\n",
       "      <td>...</td>\n",
       "      <td>...</td>\n",
       "      <td>...</td>\n",
       "      <td>...</td>\n",
       "      <td>...</td>\n",
       "    </tr>\n",
       "    <tr>\n",
       "      <th>775</th>\n",
       "      <td>57</td>\n",
       "      <td>38</td>\n",
       "      <td>116</td>\n",
       "      <td>167</td>\n",
       "      <td>0</td>\n",
       "      <td>0</td>\n",
       "    </tr>\n",
       "    <tr>\n",
       "      <th>776</th>\n",
       "      <td>21</td>\n",
       "      <td>57</td>\n",
       "      <td>38</td>\n",
       "      <td>116</td>\n",
       "      <td>167</td>\n",
       "      <td>0</td>\n",
       "    </tr>\n",
       "    <tr>\n",
       "      <th>777</th>\n",
       "      <td>14</td>\n",
       "      <td>21</td>\n",
       "      <td>57</td>\n",
       "      <td>38</td>\n",
       "      <td>116</td>\n",
       "      <td>167</td>\n",
       "    </tr>\n",
       "    <tr>\n",
       "      <th>778</th>\n",
       "      <td>31</td>\n",
       "      <td>14</td>\n",
       "      <td>21</td>\n",
       "      <td>57</td>\n",
       "      <td>38</td>\n",
       "      <td>116</td>\n",
       "    </tr>\n",
       "    <tr>\n",
       "      <th>779</th>\n",
       "      <td>39</td>\n",
       "      <td>31</td>\n",
       "      <td>14</td>\n",
       "      <td>21</td>\n",
       "      <td>57</td>\n",
       "      <td>38</td>\n",
       "    </tr>\n",
       "  </tbody>\n",
       "</table>\n",
       "<p>780 rows × 6 columns</p>\n",
       "</div>"
      ],
      "text/plain": [
       "     Yb  Xb1  Xb2  Xb3  Xb4  Xb5\n",
       "0     0    0    0    0    0    5\n",
       "1     0    0    0    0    0    0\n",
       "2     0    0    0    0    0    0\n",
       "3     0    0    0    0    0    0\n",
       "4     0    0    0    0    0    0\n",
       "..   ..  ...  ...  ...  ...  ...\n",
       "775  57   38  116  167    0    0\n",
       "776  21   57   38  116  167    0\n",
       "777  14   21   57   38  116  167\n",
       "778  31   14   21   57   38  116\n",
       "779  39   31   14   21   57   38\n",
       "\n",
       "[780 rows x 6 columns]"
      ]
     },
     "execution_count": 61,
     "metadata": {},
     "output_type": "execute_result"
    }
   ],
   "source": [
    "yb1= yb[np.min(np.where(yb !=  0))+5 : yb.size]\n",
    "xb1=yb[np.min(np.where(yb !=  0))+4 : yb.size-1]\n",
    "xb2=yb[np.min(np.where(yb !=  0))+3 : yb.size-2]\n",
    "xb3=yb[np.min(np.where(yb !=  0))+2 : yb.size-3]\n",
    "xb4=yb[np.min(np.where(yb !=  0))+1 : yb.size-4]\n",
    "xb5=yb[np.min(np.where(yb !=  0)) : yb.size-5]\n",
    "data2 = {\"Yb\": yb1, \"Xb1\": xb1, \"Xb2\": xb2, \"Xb3\": xb3,\"Xb4\": xb4,\"Xb5\": xb5}\n",
    "print(xb1.size)\n",
    "print(xb2.size)\n",
    "print(xb3.size)\n",
    "print(xb4.size)\n",
    "print(xb5.size)\n",
    "print(yb1.size)\n",
    "df2 = pd.DataFrame(data2)\n",
    "df2"
   ]
  },
  {
   "cell_type": "code",
   "execution_count": 62,
   "id": "250cb417-df2a-4989-bcf5-264a9664e541",
   "metadata": {},
   "outputs": [],
   "source": [
    "\n",
    "ybhat= results.params[0]+results.params[1]*xb1+results.params[2]*xb2+results.params[3]*xb3+results.params[4]*xb4+results.params[5]*xb5"
   ]
  },
  {
   "cell_type": "code",
   "execution_count": 63,
   "id": "e1f3eaf2-3331-44d1-af06-279f25c7cd64",
   "metadata": {},
   "outputs": [],
   "source": [
    "eb = yb1- ybhat"
   ]
  },
  {
   "cell_type": "code",
   "execution_count": 64,
   "id": "46362329-9619-40d5-be5e-a06dd286629e",
   "metadata": {},
   "outputs": [
    {
     "data": {
      "text/plain": [
       "[<matplotlib.lines.Line2D at 0x7f098c5b86a0>]"
      ]
     },
     "execution_count": 64,
     "metadata": {},
     "output_type": "execute_result"
    },
    {
     "data": {
      "image/png": "[encoded data removed]",
      "text/plain": [
       "<Figure size 432x288 with 1 Axes>"
      ]
     },
     "metadata": {
      "needs_background": "light"
     },
     "output_type": "display_data"
    }
   ],
   "source": [
    "plt.plot(eb)"
   ]
  },
  {
   "cell_type": "code",
   "execution_count": 72,
   "id": "6db385cb-ceca-4f07-bd6a-61b34cf7dba1",
   "metadata": {},
   "outputs": [
    {
     "data": {
      "text/plain": [
       "0"
      ]
     },
     "execution_count": 72,
     "metadata": {},
     "output_type": "execute_result"
    }
   ],
   "source": [
    "xb5[1]"
   ]
  },
  {
   "cell_type": "code",
   "execution_count": 84,
   "id": "f8b2dbcf-a79d-4b55-99f5-c9f1992b135a",
   "metadata": {},
   "outputs": [
    {
     "data": {
      "text/html": [
       "<div>\n",
       "<style scoped>\n",
       "    .dataframe tbody tr th:only-of-type {\n",
       "        vertical-align: middle;\n",
       "    }\n",
       "\n",
       "    .dataframe tbody tr th {\n",
       "        vertical-align: top;\n",
       "    }\n",
       "\n",
       "    .dataframe thead th {\n",
       "        text-align: right;\n",
       "    }\n",
       "</style>\n",
       "<table border=\"1\" class=\"dataframe\">\n",
       "  <thead>\n",
       "    <tr style=\"text-align: right;\">\n",
       "      <th></th>\n",
       "      <th>Y</th>\n",
       "      <th>X1</th>\n",
       "      <th>X2</th>\n",
       "      <th>X3</th>\n",
       "      <th>X4</th>\n",
       "      <th>X5</th>\n",
       "    </tr>\n",
       "  </thead>\n",
       "  <tbody>\n",
       "    <tr>\n",
       "      <th>0</th>\n",
       "      <td>0</td>\n",
       "      <td>0</td>\n",
       "      <td>0</td>\n",
       "      <td>0</td>\n",
       "      <td>0</td>\n",
       "      <td>1</td>\n",
       "    </tr>\n",
       "    <tr>\n",
       "      <th>1</th>\n",
       "      <td>0</td>\n",
       "      <td>0</td>\n",
       "      <td>0</td>\n",
       "      <td>0</td>\n",
       "      <td>0</td>\n",
       "      <td>0</td>\n",
       "    </tr>\n",
       "    <tr>\n",
       "      <th>2</th>\n",
       "      <td>1</td>\n",
       "      <td>0</td>\n",
       "      <td>0</td>\n",
       "      <td>0</td>\n",
       "      <td>0</td>\n",
       "      <td>0</td>\n",
       "    </tr>\n",
       "    <tr>\n",
       "      <th>3</th>\n",
       "      <td>0</td>\n",
       "      <td>1</td>\n",
       "      <td>0</td>\n",
       "      <td>0</td>\n",
       "      <td>0</td>\n",
       "      <td>0</td>\n",
       "    </tr>\n",
       "    <tr>\n",
       "      <th>4</th>\n",
       "      <td>0</td>\n",
       "      <td>0</td>\n",
       "      <td>1</td>\n",
       "      <td>0</td>\n",
       "      <td>0</td>\n",
       "      <td>0</td>\n",
       "    </tr>\n",
       "    <tr>\n",
       "      <th>...</th>\n",
       "      <td>...</td>\n",
       "      <td>...</td>\n",
       "      <td>...</td>\n",
       "      <td>...</td>\n",
       "      <td>...</td>\n",
       "      <td>...</td>\n",
       "    </tr>\n",
       "    <tr>\n",
       "      <th>799</th>\n",
       "      <td>1</td>\n",
       "      <td>0</td>\n",
       "      <td>1</td>\n",
       "      <td>0</td>\n",
       "      <td>0</td>\n",
       "      <td>1</td>\n",
       "    </tr>\n",
       "    <tr>\n",
       "      <th>800</th>\n",
       "      <td>0</td>\n",
       "      <td>1</td>\n",
       "      <td>0</td>\n",
       "      <td>1</td>\n",
       "      <td>0</td>\n",
       "      <td>0</td>\n",
       "    </tr>\n",
       "    <tr>\n",
       "      <th>801</th>\n",
       "      <td>1</td>\n",
       "      <td>0</td>\n",
       "      <td>1</td>\n",
       "      <td>0</td>\n",
       "      <td>1</td>\n",
       "      <td>0</td>\n",
       "    </tr>\n",
       "    <tr>\n",
       "      <th>802</th>\n",
       "      <td>0</td>\n",
       "      <td>1</td>\n",
       "      <td>0</td>\n",
       "      <td>1</td>\n",
       "      <td>0</td>\n",
       "      <td>1</td>\n",
       "    </tr>\n",
       "    <tr>\n",
       "      <th>803</th>\n",
       "      <td>0</td>\n",
       "      <td>0</td>\n",
       "      <td>1</td>\n",
       "      <td>0</td>\n",
       "      <td>1</td>\n",
       "      <td>1</td>\n",
       "    </tr>\n",
       "  </tbody>\n",
       "</table>\n",
       "<p>804 rows × 6 columns</p>\n",
       "</div>"
      ],
      "text/plain": [
       "     Y  X1  X2  X3  X4  X5\n",
       "0    0   0   0   0   0   1\n",
       "1    0   0   0   0   0   0\n",
       "2    1   0   0   0   0   0\n",
       "3    0   1   0   0   0   0\n",
       "4    0   0   1   0   0   0\n",
       "..  ..  ..  ..  ..  ..  ..\n",
       "799  1   0   1   0   0   1\n",
       "800  0   1   0   1   0   0\n",
       "801  1   0   1   0   1   0\n",
       "802  0   1   0   1   0   1\n",
       "803  0   0   1   0   1   1\n",
       "\n",
       "[804 rows x 6 columns]"
      ]
     },
     "execution_count": 84,
     "metadata": {},
     "output_type": "execute_result"
    }
   ],
   "source": [
    "##Q4\n",
    "y=dat[dat['Country/Region'] == 'Italy'].drop([\"Province/State\", \"Country/Region\", \"Lat\", \"Long\"], axis=1).unstack()\n",
    "## convert from tuple to array\n",
    "y = np.asarray(y)  \n",
    "## get case counts instead of cumulative counts\n",
    "y = y[1 : y.size] - y[0 : (y.size - 1)]\n",
    "y =  y[np.min(np.where(y !=  0)) : y.size]\n",
    "\n",
    "y1= y[np.min(np.where(y !=  0))+5 : y.size]\n",
    "x1=y[np.min(np.where(y !=  0))+4 : y.size-1]\n",
    "x2=y[np.min(np.where(y !=  0))+3 : y.size-2]\n",
    "x3=y[np.min(np.where(y !=  0))+2 : y.size-3]\n",
    "x4=y[np.min(np.where(y !=  0))+1 : y.size-4]\n",
    "x5=y[np.min(np.where(y !=  0)) : y.size-5]\n",
    "\n",
    "\n",
    "yl1=y1-x1\n",
    "xl1=x1-x2\n",
    "xl2=x2-x3\n",
    "xl3=x3-x4\n",
    "xl4=x4-x5\n",
    "xl5=[]\n",
    "for i in range(x5.size):\n",
    "    if i ==0:\n",
    "        xl5.append(x5[i])\n",
    "    else:\n",
    "        xl5.append(x5[i]-y1[i-1])\n",
    "\n",
    "yc1=[]\n",
    "for i in yl1:\n",
    "    if i >0:\n",
    "        yc1.append(1)\n",
    "    else:\n",
    "        yc1.append(0)\n",
    "x1c=[]\n",
    "for i in xl1:\n",
    "    if i >0:\n",
    "        x1c.append(1)\n",
    "    else:\n",
    "        x1c.append(0)\n",
    "x2c=[]\n",
    "for i in xl2:\n",
    "    if i >0:\n",
    "        x2c.append(1)\n",
    "    else:\n",
    "        x2c.append(0)\n",
    "x3c=[]\n",
    "for i in xl3:\n",
    "    if i >0:\n",
    "        x3c.append(1)\n",
    "    else:\n",
    "        x3c.append(0)\n",
    "x4c=[]\n",
    "for i in xl4:\n",
    "    if i >0:\n",
    "        x4c.append(1)\n",
    "    else:\n",
    "        x4c.append(0)\n",
    "x5c=[]\n",
    "for i in xl5:\n",
    "    if i >0:\n",
    "        x5c.append(1)\n",
    "    else:\n",
    "        x5c.append(0)\n",
    "        \n",
    "datac = {\"Y\": yc1, \"X1\": x1c, \"X2\": x2c, \"X3\": x3c,\"X4\": x4c,\"X5\": x5c}\n",
    "\n",
    "dfc = pd.DataFrame(datac)\n",
    "dfc\n"
   ]
  },
  {
   "cell_type": "code",
   "execution_count": 85,
   "id": "424bd0d4-dd3b-4c0f-974e-ea4d824bf311",
   "metadata": {},
   "outputs": [],
   "source": [
    "x = dfc[['X1', 'X2', 'X3', 'X4', 'X5']]\n",
    "y = dfc[['Y']]"
   ]
  },
  {
   "cell_type": "code",
   "execution_count": 86,
   "id": "e104267a-ef29-47f2-90ba-1729e7515bea",
   "metadata": {},
   "outputs": [],
   "source": [
    "x = sm.tools.add_constant(x)\n",
    "\n",
    "xtraining = x[sample]\n",
    "xtesting = x[~sample]\n",
    "ytraining = y[sample]\n",
    "ytesting = y[~sample]"
   ]
  },
  {
   "cell_type": "code",
   "execution_count": 88,
   "id": "0b3f3485-0b9d-4c1d-a587-4aa56d7e8861",
   "metadata": {},
   "outputs": [],
   "source": [
    "import numpy as np\n",
    "import pandas as pd\n",
    "import seaborn as sns\n",
    "import matplotlib.pyplot as plt\n",
    "import sklearn.linear_model as lm\n",
    "import sklearn as skl\n",
    "import statsmodels.formula.api as smf\n",
    "import statsmodels as sm\n",
    "\n",
    "## this sets some style parameters  \n",
    "sns.set()"
   ]
  },
  {
   "cell_type": "code",
   "execution_count": 89,
   "id": "ce0c6668-7a14-4b08-9aa6-69ea74c0a762",
   "metadata": {},
   "outputs": [
    {
     "name": "stdout",
     "output_type": "stream",
     "text": [
      "Optimization terminated successfully.\n",
      "         Current function value: 0.634921\n",
      "         Iterations 5\n"
     ]
    }
   ],
   "source": [
    "fit = sm.discrete.discrete_model.Logit(ytraining, xtraining).fit()"
   ]
  },
  {
   "cell_type": "code",
   "execution_count": 90,
   "id": "ed518abe-8ece-4713-a321-470ae590e3e9",
   "metadata": {},
   "outputs": [
    {
     "data": {
      "text/html": [
       "<table class=\"simpletable\">\n",
       "<caption>Logit Regression Results</caption>\n",
       "<tr>\n",
       "  <th>Dep. Variable:</th>           <td>Y</td>        <th>  No. Observations:  </th>  <td>   804</td>  \n",
       "</tr>\n",
       "<tr>\n",
       "  <th>Model:</th>                 <td>Logit</td>      <th>  Df Residuals:      </th>  <td>   798</td>  \n",
       "</tr>\n",
       "<tr>\n",
       "  <th>Method:</th>                 <td>MLE</td>       <th>  Df Model:          </th>  <td>     5</td>  \n",
       "</tr>\n",
       "<tr>\n",
       "  <th>Date:</th>            <td>Tue, 19 Apr 2022</td> <th>  Pseudo R-squ.:     </th>  <td>0.08386</td> \n",
       "</tr>\n",
       "<tr>\n",
       "  <th>Time:</th>                <td>04:44:36</td>     <th>  Log-Likelihood:    </th> <td> -510.48</td> \n",
       "</tr>\n",
       "<tr>\n",
       "  <th>converged:</th>             <td>True</td>       <th>  LL-Null:           </th> <td> -557.20</td> \n",
       "</tr>\n",
       "<tr>\n",
       "  <th>Covariance Type:</th>     <td>nonrobust</td>    <th>  LLR p-value:       </th> <td>1.266e-18</td>\n",
       "</tr>\n",
       "</table>\n",
       "<table class=\"simpletable\">\n",
       "<tr>\n",
       "    <td></td>       <th>coef</th>     <th>std err</th>      <th>z</th>      <th>P>|z|</th>  <th>[0.025</th>    <th>0.975]</th>  \n",
       "</tr>\n",
       "<tr>\n",
       "  <th>const</th> <td>   -0.5718</td> <td>    0.245</td> <td>   -2.335</td> <td> 0.020</td> <td>   -1.052</td> <td>   -0.092</td>\n",
       "</tr>\n",
       "<tr>\n",
       "  <th>X1</th>    <td>    0.8581</td> <td>    0.165</td> <td>    5.195</td> <td> 0.000</td> <td>    0.534</td> <td>    1.182</td>\n",
       "</tr>\n",
       "<tr>\n",
       "  <th>X2</th>    <td>    0.0899</td> <td>    0.163</td> <td>    0.550</td> <td> 0.582</td> <td>   -0.230</td> <td>    0.410</td>\n",
       "</tr>\n",
       "<tr>\n",
       "  <th>X3</th>    <td>   -0.3456</td> <td>    0.163</td> <td>   -2.124</td> <td> 0.034</td> <td>   -0.664</td> <td>   -0.027</td>\n",
       "</tr>\n",
       "<tr>\n",
       "  <th>X4</th>    <td>   -0.3930</td> <td>    0.158</td> <td>   -2.491</td> <td> 0.013</td> <td>   -0.702</td> <td>   -0.084</td>\n",
       "</tr>\n",
       "<tr>\n",
       "  <th>X5</th>    <td>    0.9561</td> <td>    0.189</td> <td>    5.054</td> <td> 0.000</td> <td>    0.585</td> <td>    1.327</td>\n",
       "</tr>\n",
       "</table>"
      ],
      "text/plain": [
       "<class 'statsmodels.iolib.summary.Summary'>\n",
       "\"\"\"\n",
       "                           Logit Regression Results                           \n",
       "==============================================================================\n",
       "Dep. Variable:                      Y   No. Observations:                  804\n",
       "Model:                          Logit   Df Residuals:                      798\n",
       "Method:                           MLE   Df Model:                            5\n",
       "Date:                Tue, 19 Apr 2022   Pseudo R-squ.:                 0.08386\n",
       "Time:                        04:44:36   Log-Likelihood:                -510.48\n",
       "converged:                       True   LL-Null:                       -557.20\n",
       "Covariance Type:            nonrobust   LLR p-value:                 1.266e-18\n",
       "==============================================================================\n",
       "                 coef    std err          z      P>|z|      [0.025      0.975]\n",
       "------------------------------------------------------------------------------\n",
       "const         -0.5718      0.245     -2.335      0.020      -1.052      -0.092\n",
       "X1             0.8581      0.165      5.195      0.000       0.534       1.182\n",
       "X2             0.0899      0.163      0.550      0.582      -0.230       0.410\n",
       "X3            -0.3456      0.163     -2.124      0.034      -0.664      -0.027\n",
       "X4            -0.3930      0.158     -2.491      0.013      -0.702      -0.084\n",
       "X5             0.9561      0.189      5.054      0.000       0.585       1.327\n",
       "==============================================================================\n",
       "\"\"\""
      ]
     },
     "execution_count": 90,
     "metadata": {},
     "output_type": "execute_result"
    }
   ],
   "source": [
    "fit.summary()"
   ]
  },
  {
   "cell_type": "code",
   "execution_count": null,
   "id": "01770031-fa0e-498e-b4c8-383523b5e05a",
   "metadata": {},
   "outputs": [],
   "source": []
  }
 ],
 "metadata": {
  "kernelspec": {
   "display_name": "Python 3 (ipykernel)",
   "language": "python",
   "name": "python3"
  },
  "language_info": {
   "codemirror_mode": {
    "name": "ipython",
    "version": 3
   },
   "file_extension": ".py",
   "mimetype": "text/x-python",
   "name": "python",
   "nbconvert_exporter": "python",
   "pygments_lexer": "ipython3",
   "version": "3.9.7"
  }
 },
 "nbformat": 4,
 "nbformat_minor": 5
}
