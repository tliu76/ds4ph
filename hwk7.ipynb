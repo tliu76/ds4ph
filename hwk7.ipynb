{
 "cells": [
  {
   "cell_type": "code",
   "execution_count": 1,
   "id": "30bf73f2-3627-4a59-b3f6-f27b706dde5e",
   "metadata": {},
   "outputs": [],
   "source": [
    "# Q0\n",
    "import numpy as np\n",
    "import pandas as pd\n",
    "import matplotlib.pyplot as plt\n",
    "import seaborn as sns"
   ]
  },
  {
   "cell_type": "markdown",
   "id": "dc75143a-9ee6-451c-ac15-b12624458e4b",
   "metadata": {},
   "source": [
    "0. Write a python function that takes an X and Y vector and returns an estimated  β0  and  β1  from linear regression. Check your function versus one of the prewritten ones. Include this in code cells of your ipython notebook."
   ]
  },
  {
   "cell_type": "code",
   "execution_count": 2,
   "id": "79a1e52c-3ea2-4928-a198-5e2a50b4aa45",
   "metadata": {},
   "outputs": [],
   "source": [
    "def linear(x, y):  \n",
    "    xmean=np.mean(x)\n",
    "    ymean = np.mean(y)\n",
    "    # Calculate the terms needed for the numator and denominator of beta\n",
    "    b1_num = ((x - xmean) * (y - ymean)).sum()\n",
    "    b1_deno = ((x - xmean)**2).sum()\n",
    "    # Calculate beta 1\n",
    "    b1=b1_num/b1_deno\n",
    "    b0 = ymean - (b1 * xmean)\n",
    "    reg_line = 'y = {} + {}x'.format(round(b0,3), round(b1, 3))\n",
    "    return (round(b0,3), round(b1,3) ,reg_line)\n",
    "\n"
   ]
  },
  {
   "cell_type": "code",
   "execution_count": 3,
   "id": "ad8babbd-4487-43f8-b7ee-4845e42e2a32",
   "metadata": {},
   "outputs": [
    {
     "name": "stdin",
     "output_type": "stream",
     "text": [
      "X 1,2,3,4\n",
      "Y 2,3,4,5\n"
     ]
    },
    {
     "data": {
      "text/plain": [
       "(1.0, 1.0, 'y = 1.0 + 1.0x')"
      ]
     },
     "execution_count": 3,
     "metadata": {},
     "output_type": "execute_result"
    }
   ],
   "source": [
    "arr_x = input(\"X\")    \n",
    "x = [int(n) for n in arr_x.split(\",\")] \n",
    "arr_y = input(\"Y\")    \n",
    "y = [int(n) for n in arr_y.split(\",\")] \n",
    "\n",
    "linear(x,y)"
   ]
  },
  {
   "cell_type": "code",
   "execution_count": 3,
   "id": "b86043e2-bd50-4753-b831-249876eb28c2",
   "metadata": {},
   "outputs": [
    {
     "data": {
      "text/plain": [
       "(2.003, 0.323, 'y = 2.003 + 0.323x')"
      ]
     },
     "execution_count": 3,
     "metadata": {},
     "output_type": "execute_result"
    }
   ],
   "source": [
    "#### Generate 'random' data\n",
    "np.random.seed(0)\n",
    "x = 2.5 * np.random.randn(100) + 1.5   # Array of 100 values with mean = 1.5, stddev = 2.5\n",
    "res = 0.5 * np.random.randn(100)       # Generate 100 residual terms\n",
    "y = 2 + 0.3 * x + res                  # Actual values of Y\n",
    "\n",
    "df = pd.DataFrame(\n",
    "    {'x': x,\n",
    "     'y': y})\n",
    "df.head()\n",
    "\n",
    "linear(x,y)"
   ]
  },
  {
   "cell_type": "code",
   "execution_count": 10,
   "id": "b5f41471-e704-4749-b4ab-60eeaba5c94d",
   "metadata": {},
   "outputs": [],
   "source": [
    "##linear regression"
   ]
  },
  {
   "cell_type": "markdown",
   "id": "29f1f04b-757b-413c-8042-0ca7de503b6a",
   "metadata": {},
   "source": [
    "#Question 1. Using Python and basic numpy functions, fit a linear regression model to the kirby 21 dataset into colab for the left telencelphalon (predictor) to the right telencephalon (outcome). Also, do the same reversing the predictor and response relationship. Do a scatterplot of the left telencephalon (type 1 level 1) volume by the right. Do not hold out any data (there's only 21 observations)."
   ]
  },
  {
   "cell_type": "code",
   "execution_count": 3,
   "id": "ffe88ba0-ce0b-45b3-9bb9-994e26cdd88d",
   "metadata": {},
   "outputs": [
    {
     "data": {
      "text/plain": [
       "(-13875.945, 1.044, 'y = -13875.945 + 1.044x')"
      ]
     },
     "execution_count": 3,
     "metadata": {},
     "output_type": "execute_result"
    }
   ],
   "source": [
    "# Q1\n",
    "\n",
    "subjectData  = pd.read_csv(\"https://raw.githubusercontent.com/smart-stats/ds4bio_book/main/book/assetts/kirby21AllLevels.csv\")\n",
    "leftR = subjectData.loc[ (subjectData.roi == \"Telencephalon_L\")]\n",
    "rightR = subjectData.loc[ (subjectData.roi == \"Telencephalon_R\")]\n",
    "\n",
    "response = [int(n) for n in rightR.volume] \n",
    "predictor = [int(n) for n in leftR.volume] \n",
    "\n",
    "#print(len(predictor))\n",
    "#print(len(response))\n",
    "\n",
    "\n",
    "linear(predictor, response)"
   ]
  },
  {
   "cell_type": "code",
   "execution_count": 4,
   "id": "4ce34e18-81fe-4116-aa8b-1a1e10cab33b",
   "metadata": {},
   "outputs": [
    {
     "data": {
      "text/plain": [
       "(17150.431, 0.95, 'y = 17150.431 + 0.95x')"
      ]
     },
     "execution_count": 4,
     "metadata": {},
     "output_type": "execute_result"
    }
   ],
   "source": [
    "#reverse the predictor and response relationship\n",
    "\n",
    "linear(response, predictor)"
   ]
  },
  {
   "cell_type": "code",
   "execution_count": 5,
   "id": "e86fcf43-63f7-46f7-aac2-82aeb56c89de",
   "metadata": {},
   "outputs": [
    {
     "data": {
      "text/plain": [
       "[<matplotlib.lines.Line2D at 0x7fd21f43e6a0>]"
      ]
     },
     "execution_count": 5,
     "metadata": {},
     "output_type": "execute_result"
    },
    {
     "data": {
      "image/png": "[encoded data removed]",
      "text/plain": [
       "<Figure size 432x288 with 1 Axes>"
      ]
     },
     "metadata": {
      "needs_background": "light"
     },
     "output_type": "display_data"
    }
   ],
   "source": [
    "plt.plot(predictor, response, 'o', color='red')"
   ]
  },
  {
   "cell_type": "markdown",
   "id": "195a8f0a-35ac-42a0-a519-f45188a4c857",
   "metadata": {},
   "source": [
    "#Question 2. Consider a regression through the origin model Y=BX . What would be the impact on the estimate of B if we replaced X by cX where c is a positive constant? Write your answer in a markdown cell of your ipython notebook."
   ]
  },
  {
   "cell_type": "markdown",
   "id": "dd6c7f2a-2edc-4d22-87dd-5d5e0f74b564",
   "metadata": {},
   "source": [
    "The estimate B will decrease if we replaced x by cx if c is a positive constant...\n",
    "Y=BX=(B/c)*(cX)\n",
    "\n",
    "\n",
    "\n",
    "_Therefore, B/c < B _"
   ]
  },
  {
   "cell_type": "markdown",
   "id": "34c8ad52-3891-44e0-996b-7cdf2d8d29e6",
   "metadata": {},
   "source": [
    "#Question 3. Let  Xi  be a group indicator so that  xi=I(i∈G1)  I.e. takes the value 1 when  i  is in group 1 and 0 if i is in group 0. Consider optimizing  ∑i1n(Yi−β0−β1Xi)2 . If  Y^=β^0+β^1X , argue that  Y^  is the group mean for group 1 if  X=1  and the group mean for group 0 if  X=0 . You can either make a text argument in a markdown cell, or create a simulated example and show that the results holds."
   ]
  },
  {
   "cell_type": "code",
   "execution_count": 6,
   "id": "c36dc089-9a49-4b23-9ba4-ace0ee2ad8f3",
   "metadata": {},
   "outputs": [
    {
     "name": "stdout",
     "output_type": "stream",
     "text": [
      "[0 0 1 0 0 1 1 1 1 0]\n",
      "[1 7 8 0 7 1 6 5 8 9]\n",
      "<zip object at 0x7fd21f38dac0>\n",
      "[(0, 1), (0, 7), (1, 8), (0, 0), (0, 7), (1, 1), (1, 6), (1, 5), (1, 8), (0, 9)]\n"
     ]
    }
   ],
   "source": [
    "#simulated example\n",
    "x= np.random.randint(0,2,10)\n",
    "y= np.random.randint(10,size=10)\n",
    "mm = zip(x,y)\n",
    "rp=list(mm)\n",
    "\n",
    "print(x)\n",
    "print(y)\n",
    "print(mm)\n",
    "print(rp)"
   ]
  },
  {
   "cell_type": "code",
   "execution_count": 7,
   "id": "bb33771e-3419-4901-835e-349df0bc4b9f",
   "metadata": {},
   "outputs": [
    {
     "name": "stdout",
     "output_type": "stream",
     "text": [
      "y = 4.8 + 0.8x\n"
     ]
    }
   ],
   "source": [
    "x_mean = np.mean(x)\n",
    "y_mean = np.mean(y)\n",
    "B1_num = ((x - x_mean) * (y - y_mean)).sum()\n",
    "B1_den = ((x - x_mean)**2).sum()\n",
    "B1 = B1_num / B1_den\n",
    "B0 = y_mean - (B1 * x_mean)\n",
    "reg_line = 'y = {} + {}x'.format(round(B0,3), round(B1, 3))\n",
    "print (reg_line)"
   ]
  },
  {
   "cell_type": "code",
   "execution_count": 8,
   "id": "47d64aa8-5ec3-4373-936d-348f9b55fb6e",
   "metadata": {},
   "outputs": [
    {
     "name": "stdout",
     "output_type": "stream",
     "text": [
      "4.8\n",
      "y= 5.6 when x=1\n",
      "y= 4.8 when x=0\n"
     ]
    }
   ],
   "source": [
    "\n",
    "x2=0\n",
    "y2 = B0 + B1*x2\n",
    "\n",
    "print (y2) \n",
    "\n",
    "x1=1 \n",
    "y1=B0+B1*x1\n",
    "\n",
    "print('y= ' + str(y1) + ' when x=1')\n",
    "print('y= ' + str(round(y2,3)) + ' when x=0')"
   ]
  },
  {
   "cell_type": "code",
   "execution_count": 9,
   "id": "be33b29c-fce2-4f5a-abdf-1024228973b7",
   "metadata": {},
   "outputs": [
    {
     "name": "stdout",
     "output_type": "stream",
     "text": [
      "group mean is 5.6 if x=1\n",
      "group mean is 4.8 if x=0\n"
     ]
    }
   ],
   "source": [
    "\n",
    "m_x0=[] \n",
    "m_x1 =[]\n",
    "for i in rp:\n",
    "    if i[0]==0:\n",
    "        m_x0.append(i[1])\n",
    "    else:\n",
    "        m_x1.append(i[1])\n",
    "x1m = np.mean(m_x1)\n",
    "print('group mean is ' + str(x1m) + ' if x=1')\n",
    "x0m = np.mean(m_x0)\n",
    "print('group mean is ' + str(x0m) + ' if x=0')\n",
    "\n",
    "\n"
   ]
  },
  {
   "cell_type": "code",
   "execution_count": null,
   "id": "bb4c19a8-53ee-4a52-9ec9-02572cb45d76",
   "metadata": {},
   "outputs": [],
   "source": []
  },
  {
   "cell_type": "markdown",
   "id": "3257457c-9fcb-4578-b690-63cbadc4ee7b",
   "metadata": {},
   "source": [
    "#Question 4. Argue that if you take the vectors  Y  and  X  and divide them by their standard deviations (respectively), the slope for either regressing  Y  on  X  or  X  on  Y  is simply the correlation."
   ]
  },
  {
   "cell_type": "code",
   "execution_count": 10,
   "id": "c3c5e364-c848-4aac-b8f7-4457af9bbc64",
   "metadata": {},
   "outputs": [],
   "source": [
    "x3=np.random.randint(10,size=10)\n",
    "y3=np.random.randint(15,size=10)\n"
   ]
  },
  {
   "cell_type": "code",
   "execution_count": 11,
   "id": "9112e4ce-f0e8-4ae8-8c28-4aadd40529ae",
   "metadata": {},
   "outputs": [
    {
     "data": {
      "text/plain": [
       "(1.611, 0.113, 'y = 1.611 + 0.113x')"
      ]
     },
     "execution_count": 11,
     "metadata": {},
     "output_type": "execute_result"
    }
   ],
   "source": [
    "xstd = np.std(x3)\n",
    "ystd = np.std(y3)\n",
    "\n",
    "xd= x3/xstd\n",
    "yd= y3/ystd\n",
    "linear(xd,yd)\n"
   ]
  },
  {
   "cell_type": "code",
   "execution_count": 12,
   "id": "fb229e80-f44a-4e67-adeb-2a66e6578f4d",
   "metadata": {},
   "outputs": [],
   "source": [
    "#regress x on y:"
   ]
  },
  {
   "cell_type": "code",
   "execution_count": 13,
   "id": "91350d5e-5b14-4c85-9350-69658ea088f8",
   "metadata": {},
   "outputs": [
    {
     "data": {
      "text/plain": [
       "(1.016, 0.113, 'y = 1.016 + 0.113x')"
      ]
     },
     "execution_count": 13,
     "metadata": {},
     "output_type": "execute_result"
    }
   ],
   "source": [
    "linear(yd,xd)"
   ]
  },
  {
   "cell_type": "code",
   "execution_count": 14,
   "id": "7a609b04-4878-42d3-a72c-a0f3530d0a50",
   "metadata": {},
   "outputs": [
    {
     "name": "stdout",
     "output_type": "stream",
     "text": [
      "correlation between x and y is 0.113\n"
     ]
    }
   ],
   "source": [
    "#correlation:\n",
    "xm=np.mean(x3)\n",
    "ym = np.mean(y3)\n",
    "  \n",
    "num = ((x3 - xm) * (y3 - ym)).sum()\n",
    "de1 = ((x3 - xm)**2).sum()\n",
    "de2= ((y3 - ym)**2).sum()\n",
    "de3=np.sqrt(de1*de2)\n",
    "\n",
    "r = num/ de3\n",
    "print('correlation between x and y is ' + str(round(r,3)))"
   ]
  },
  {
   "cell_type": "markdown",
   "id": "7e35f7f4-b6cc-4ac2-9750-a68601358774",
   "metadata": {},
   "source": [
    "#Question 5. Consider the logistic curve\n",
    "f(x)=eβ0+β1x1+eβ0+β1x. \n",
    "Use dash to create a web page that shows the impact of changing  β0  and  β1 . That is, it takes in two inputs, as sliders,  β0  and  β1 , and plots the resulting logistic curve."
   ]
  },
  {
   "cell_type": "code",
   "execution_count": 15,
   "id": "0e85cea5-99cd-4af5-88da-964482da7f4b",
   "metadata": {},
   "outputs": [],
   "source": [
    "#pip install dash==2.0.0"
   ]
  },
  {
   "cell_type": "code",
   "execution_count": 16,
   "id": "3fc093c1-ee64-4107-9c24-183e33013eec",
   "metadata": {},
   "outputs": [],
   "source": [
    "#pip install dash-leaflet"
   ]
  },
  {
   "cell_type": "code",
   "execution_count": 20,
   "id": "d68eb00e-cb06-4512-b5b0-02e879e93589",
   "metadata": {},
   "outputs": [],
   "source": [
    "import dash\n",
    "import os\n",
    "import dash_leaflet as dl\n",
    "from dash import Dash, dcc, html, Input, Output\n",
    "from dash.dependencies import Input, Output, State\n",
    "import os\n",
    "from dash import Dash, dcc, html, Input, Output\n",
    "import plotly.express as px\n",
    "import pandas as pd\n",
    "import plotly.graph_objects as go\n",
    "import numpy as np\n",
    "import dash\n",
    "import seaborn as sns\n",
    "from dash.dependencies import Input, Output\n",
    "import random\n",
    "import pandas as pd\n",
    "import plotly.graph_objs as go"
   ]
  },
  {
   "cell_type": "code",
   "execution_count": null,
   "id": "3ebce451-4330-481c-8543-7f8958041472",
   "metadata": {},
   "outputs": [
    {
     "name": "stdout",
     "output_type": "stream",
     "text": [
      "Dash is running on http://jupyter.biostat.jhsph.edu:1044/\n",
      "\n",
      "Dash is running on http://jupyter.biostat.jhsph.edu:1044/\n",
      "\n",
      " * Serving Flask app '__main__' (lazy loading)\n",
      " * Environment: production\n",
      "\u001b[31m   WARNING: This is a development server. Do not use it in a production deployment.\u001b[0m\n",
      "\u001b[2m   Use a production WSGI server instead.\u001b[0m\n",
      " * Debug mode: off\n"
     ]
    },
    {
     "name": "stderr",
     "output_type": "stream",
     "text": [
      " * Running on http://jupyter.biostat.jhsph.edu:1044/ (Press CTRL+C to quit)\n"
     ]
    }
   ],
   "source": [
    "# Step 1. Launch the application\n",
    "app = dash.Dash()\n",
    "\n",
    "# Step 3. Create a plotly figure\n",
    "import random\n",
    "B0= random.randrange(1,10)\n",
    "B1= random.randrange(1,10)\n",
    "B0\n",
    "x=np.linspace(-2,2,1000)\n",
    "y=np.exp(B0 + B1*x)/(1 + np.exp(B0 + B1*x))\n",
    "\n",
    "fig=px.scatter(x,y)\n",
    "\n",
    "\n",
    "trace_1 = go.Scatter(x=x,y=y)\n",
    "layout=go.Layout(title=\"Logistic regression\", hovermode=\"closest\")\n",
    "fig= go.Figure(data=[trace_1],layout=layout)\n",
    "\n",
    "# Step 4. Create a Dash layout\n",
    "app.layout = html.Div([\n",
    "          dcc.Graph(id = 'plot', figure = fig),\n",
    "                html.P([\n",
    "                    html.H1(\"B0\"),\n",
    "                    dcc.Slider(min = -1, max = 1, step = 0.1, value = 0.5, id='B0'),\n",
    "                    html.H2(\"B1\"),\n",
    "                    dcc.Slider(min = -1, max = 1, step = 0.1, value = 0.5, id='B1') \n",
    "                        ])\n",
    "                      ])\n",
    "\n",
    "\n",
    "# Step 5. Add callback functions\n",
    "@app.callback(Output('plot', 'figure'),\n",
    "             Input('B0', 'value'),\n",
    "             Input('B1', 'value')\n",
    ")\n",
    "\n",
    "def update_figure(B0, B1):\n",
    "    #updating the plot\n",
    "    x=np.linspace(-2,2,1000)\n",
    "    y=np.exp(B0 + B1*x)/(1 + np.exp(B0 + B1*x))\n",
    "    fig=px.scatter(x,y)\n",
    "    return fig\n",
    "\n",
    "# Step 6. Add the server clause\n",
    "if __name__ == '__main__':\n",
    "    app.run_server(debug=False, host = 'jupyter.biostat.jhsph.edu', port=os.getuid()+24)\n",
    "\n",
    "    "
   ]
  },
  {
   "cell_type": "code",
   "execution_count": null,
   "id": "08eaeaf0-35f2-49cf-997e-f3739ed410ea",
   "metadata": {},
   "outputs": [],
   "source": []
  },
  {
   "cell_type": "code",
   "execution_count": null,
   "id": "f2542f1a-9aa0-47b7-a11c-c0a08c3f19e3",
   "metadata": {},
   "outputs": [],
   "source": []
  },
  {
   "cell_type": "code",
   "execution_count": null,
   "id": "68bb5906-b116-4dbb-a253-083a149c7fed",
   "metadata": {},
   "outputs": [],
   "source": []
  },
  {
   "cell_type": "code",
   "execution_count": null,
   "id": "8f05938b-e593-41a4-b69f-a85cbc5586f2",
   "metadata": {},
   "outputs": [],
   "source": [
    "# Step 1. Launch the application\n",
    "app = dash.Dash(_name_)\n",
    "\n",
    "df = pd.DataFrame(np.random.randint(1,10,size=(10, 2)), columns=list('BC'))\n",
    "df2 = df.rename({'B': 'B1', 'C': 'B0'}, axis='columns')\n",
    "\n",
    "\n",
    "# Step 4. Create a Dash layout\n",
    "app.layout = html.Div([ \n",
    "                  dcc.Graph(id = 'plot', figure = fig), \n",
    "             html.P([\n",
    "                  html.Label(\"B0\"), \n",
    "                  dcc.RangeSlider(id = 'B0',\n",
    "                                   min = 0,\n",
    "                                    max = 11,\n",
    "                                    value = [1, 10])\n",
    "                        ]), \n",
    "             html.P([\n",
    "                   html.Label(\"B1\"), \n",
    "                   dcc.RangeSlider(id = 'B1',\n",
    "                                    min = 0,\n",
    "                                    max = 11,\n",
    "                                    value = [1, 10])\n",
    "                        ])\n",
    "\n",
    "\n",
    "\n",
    "\n",
    "# Step 5. Add callback functions\n",
    "@app.callback(Output('plot', 'figure'),\n",
    "             Input('B0', 'value'),\n",
    "             Input('B1', 'value')\n",
    ")\n",
    "\n",
    "    \n",
    "    \n",
    "    \n",
    "def update_figure(B0, B1):\n",
    "    #updating the plot\n",
    "    x=0.001*np.arange(1,1001)\n",
    "    y=np.exp(B0 + B1*x)/(1 + np.exp(B0 + B1*x))\n",
    "    fig=px.scatter(x,y)\n",
    "    return fig\n",
    "\n",
    "# Step 6. Add the server clause\n",
    "if __name__ == '__main__':\n",
    "    app.run_server(debug=False, host = 'jupyter.biostat.jhsph.edu', port=os.getuid()+35)\n",
    "\n",
    "    \n",
    "    "
   ]
  },
  {
   "cell_type": "code",
   "execution_count": null,
   "id": "8674a153-26fc-46b0-bc06-6c5df0ca1ce4",
   "metadata": {},
   "outputs": [],
   "source": [
    "\n",
    "import dash\n",
    "import os\n",
    "import dash_leaflet as dl\n",
    "from dash import Dash, dcc, html, Input, Output\n",
    "from dash.dependencies import Input, Output, State\n",
    "import plotly.express as px\n",
    "import pandas as pd\n",
    "import plotly.graph_objects as go\n",
    "import numpy as np\n",
    "import seaborn as sns\n",
    "from dash.dependencies import Input, Output\n",
    "import random\n",
    "\n",
    "\n",
    "\n",
    "app = Dash(__name__)\n",
    "app.title ='Logistic Regression'\n",
    "\n",
    "app.layout = html.Div([\n",
    "  dcc.Graph(id='output_graph'),\n",
    "  dcc.RangeSlider(\n",
    "      min = 1,  max = 9,  value = [1, 9],\n",
    "      step=None,  marks={1,9},\n",
    "               id='b1' ),\n",
    " dcc.RangeSlider(\n",
    "      min = 2,  max = 9,  value = [2, 9],\n",
    "      step=None,   marks={2,9},\n",
    "               id='b0' )\n",
    " ])\n",
    "\n",
    "@app.callback(\n",
    "  Output('output-graph', 'figure'),\n",
    "  Input('b1', 'value'),\n",
    "  Input('b0', 'value'))\n",
    "\n",
    "def update_figure(b0, b1):\n",
    "    #updating the plot\n",
    "    x=0.001*np.arange(1,1001)\n",
    "    \n",
    "    y=np.exp(b0 + b1*x)/(1 + np.exp(b0 + b1*x))\n",
    "    \n",
    "    fig=px.scatter(x,y)\n",
    "    return fig\n",
    "\n",
    "if __name__ == '__main__':\n",
    "    app.run_server(debug=False, host = 'jupyter.biostat.jhsph.edu', port=os.getuid()+23)\n"
   ]
  },
  {
   "cell_type": "code",
   "execution_count": null,
   "id": "d3ccdba5-ac71-4da7-9f26-5f42103183d4",
   "metadata": {},
   "outputs": [],
   "source": []
  },
  {
   "cell_type": "code",
   "execution_count": null,
   "id": "41dfc74a-4714-423f-8e86-7fba0f8f8332",
   "metadata": {},
   "outputs": [],
   "source": []
  },
  {
   "cell_type": "code",
   "execution_count": null,
   "id": "e0386471-26fb-43d5-a20c-3226528b652b",
   "metadata": {},
   "outputs": [],
   "source": []
  }
 ],
 "metadata": {
  "kernelspec": {
   "display_name": "Python 3 (ipykernel)",
   "language": "python",
   "name": "python3"
  },
  "language_info": {
   "codemirror_mode": {
    "name": "ipython",
    "version": 3
   },
   "file_extension": ".py",
   "mimetype": "text/x-python",
   "name": "python",
   "nbconvert_exporter": "python",
   "pygments_lexer": "ipython3",
   "version": "3.9.7"
  }
 },
 "nbformat": 4,
 "nbformat_minor": 5
}
