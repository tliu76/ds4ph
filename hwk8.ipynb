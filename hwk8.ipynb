{
 "cells": [
  {
   "cell_type": "code",
   "execution_count": null,
   "id": "a1387a16-854c-4258-bc7e-a44c640f9dfb",
   "metadata": {},
   "outputs": [],
   "source": [
    "#homework 8"
   ]
  },
  {
   "cell_type": "code",
   "execution_count": 1,
   "id": "7a077f1b-bbbb-4118-9681-f27b8a86f518",
   "metadata": {},
   "outputs": [],
   "source": [
    "import numpy as np\n",
    "import pandas as pd\n",
    "import seaborn as sns\n",
    "import matplotlib.pyplot as plt\n",
    "import sklearn.linear_model as lm\n",
    "import sklearn as skl\n",
    "import statsmodels.formula.api as smf\n",
    "import statsmodels as sm\n",
    "from sklearn.linear_model import LinearRegression\n",
    "import pandas as pd\n",
    "import numpy as np\n",
    "from sklearn import linear_model\n",
    "import matplotlib.pyplot as plt\n",
    "import statsmodels.api as sm\n",
    "## this sets some style parameters  \n",
    "sns.set()\n",
    "\n",
    "## Read in the data "
   ]
  },
  {
   "cell_type": "code",
   "execution_count": 2,
   "id": "0ea0a68e-fa21-4e4b-8990-c3e36bb09814",
   "metadata": {},
   "outputs": [],
   "source": []
  },
  {
   "cell_type": "code",
   "execution_count": 3,
   "id": "e441a70d-8b9b-45cd-88a5-75f89691f825",
   "metadata": {},
   "outputs": [],
   "source": [
    "#pip install streamlit"
   ]
  },
  {
   "cell_type": "markdown",
   "id": "4cc4bdc6-23f6-4b96-83c2-f79a309f74c4",
   "metadata": {},
   "source": [
    "#question 1\n",
    "Get the country-specific covid case data from here. (Note pandas allows you to load a csv file from a URL. \n",
    "Make sure to use the \"raw\" link to the file on github.). Pick a country. Let  Yt  be the case count for day  t  since the outbreak onset for that country. That is, process the time series so that  t=0  is the first day with more than 0 cases. Then, fit a distributed lag linear model as follows.\n",
    "Yt=α0+β1Yt−1+β2Yt−2+…+βkYt−5+ϵt\n",
    "\n",
    "That is, see how the last five days predicts the current day. Report and interpret the coefficients.\n"
   ]
  },
  {
   "cell_type": "code",
   "execution_count": 14,
   "id": "7c933a52-1d5e-4cd3-9b20-63be32593113",
   "metadata": {},
   "outputs": [
    {
     "data": {
      "text/html": [
       "<div>\n",
       "<style scoped>\n",
       "    .dataframe tbody tr th:only-of-type {\n",
       "        vertical-align: middle;\n",
       "    }\n",
       "\n",
       "    .dataframe tbody tr th {\n",
       "        vertical-align: top;\n",
       "    }\n",
       "\n",
       "    .dataframe thead th {\n",
       "        text-align: right;\n",
       "    }\n",
       "</style>\n",
       "<table border=\"1\" class=\"dataframe\">\n",
       "  <thead>\n",
       "    <tr style=\"text-align: right;\">\n",
       "      <th></th>\n",
       "      <th>metric</th>\n",
       "      <th>values</th>\n",
       "      <th>y0</th>\n",
       "      <th>y1</th>\n",
       "      <th>y2</th>\n",
       "      <th>y3</th>\n",
       "      <th>y4</th>\n",
       "      <th>y5</th>\n",
       "    </tr>\n",
       "  </thead>\n",
       "  <tbody>\n",
       "    <tr>\n",
       "      <th>9</th>\n",
       "      <td>1/31/20</td>\n",
       "      <td>2</td>\n",
       "      <td>2.0</td>\n",
       "      <td>NaN</td>\n",
       "      <td>NaN</td>\n",
       "      <td>NaN</td>\n",
       "      <td>NaN</td>\n",
       "      <td>NaN</td>\n",
       "    </tr>\n",
       "    <tr>\n",
       "      <th>10</th>\n",
       "      <td>2/1/20</td>\n",
       "      <td>2</td>\n",
       "      <td>0.0</td>\n",
       "      <td>2.0</td>\n",
       "      <td>NaN</td>\n",
       "      <td>NaN</td>\n",
       "      <td>NaN</td>\n",
       "      <td>NaN</td>\n",
       "    </tr>\n",
       "    <tr>\n",
       "      <th>11</th>\n",
       "      <td>2/2/20</td>\n",
       "      <td>2</td>\n",
       "      <td>0.0</td>\n",
       "      <td>0.0</td>\n",
       "      <td>2.0</td>\n",
       "      <td>NaN</td>\n",
       "      <td>NaN</td>\n",
       "      <td>NaN</td>\n",
       "    </tr>\n",
       "    <tr>\n",
       "      <th>12</th>\n",
       "      <td>2/3/20</td>\n",
       "      <td>2</td>\n",
       "      <td>0.0</td>\n",
       "      <td>0.0</td>\n",
       "      <td>0.0</td>\n",
       "      <td>2.0</td>\n",
       "      <td>NaN</td>\n",
       "      <td>NaN</td>\n",
       "    </tr>\n",
       "    <tr>\n",
       "      <th>13</th>\n",
       "      <td>2/4/20</td>\n",
       "      <td>2</td>\n",
       "      <td>0.0</td>\n",
       "      <td>0.0</td>\n",
       "      <td>0.0</td>\n",
       "      <td>0.0</td>\n",
       "      <td>2.0</td>\n",
       "      <td>NaN</td>\n",
       "    </tr>\n",
       "    <tr>\n",
       "      <th>...</th>\n",
       "      <td>...</td>\n",
       "      <td>...</td>\n",
       "      <td>...</td>\n",
       "      <td>...</td>\n",
       "      <td>...</td>\n",
       "      <td>...</td>\n",
       "      <td>...</td>\n",
       "      <td>...</td>\n",
       "    </tr>\n",
       "    <tr>\n",
       "      <th>813</th>\n",
       "      <td>4/14/22</td>\n",
       "      <td>15533012</td>\n",
       "      <td>65617.0</td>\n",
       "      <td>62586.0</td>\n",
       "      <td>84056.0</td>\n",
       "      <td>28705.0</td>\n",
       "      <td>53920.0</td>\n",
       "      <td>64421.0</td>\n",
       "    </tr>\n",
       "    <tr>\n",
       "      <th>814</th>\n",
       "      <td>4/15/22</td>\n",
       "      <td>15595302</td>\n",
       "      <td>62290.0</td>\n",
       "      <td>65617.0</td>\n",
       "      <td>62586.0</td>\n",
       "      <td>84056.0</td>\n",
       "      <td>28705.0</td>\n",
       "      <td>53920.0</td>\n",
       "    </tr>\n",
       "    <tr>\n",
       "      <th>815</th>\n",
       "      <td>4/16/22</td>\n",
       "      <td>15659835</td>\n",
       "      <td>64533.0</td>\n",
       "      <td>62290.0</td>\n",
       "      <td>65617.0</td>\n",
       "      <td>62586.0</td>\n",
       "      <td>84056.0</td>\n",
       "      <td>28705.0</td>\n",
       "    </tr>\n",
       "    <tr>\n",
       "      <th>816</th>\n",
       "      <td>4/17/22</td>\n",
       "      <td>15712088</td>\n",
       "      <td>52253.0</td>\n",
       "      <td>64533.0</td>\n",
       "      <td>62290.0</td>\n",
       "      <td>65617.0</td>\n",
       "      <td>62586.0</td>\n",
       "      <td>84056.0</td>\n",
       "    </tr>\n",
       "    <tr>\n",
       "      <th>817</th>\n",
       "      <td>4/18/22</td>\n",
       "      <td>15730676</td>\n",
       "      <td>18588.0</td>\n",
       "      <td>52253.0</td>\n",
       "      <td>64533.0</td>\n",
       "      <td>62290.0</td>\n",
       "      <td>65617.0</td>\n",
       "      <td>62586.0</td>\n",
       "    </tr>\n",
       "  </tbody>\n",
       "</table>\n",
       "<p>809 rows × 8 columns</p>\n",
       "</div>"
      ],
      "text/plain": [
       "      metric    values       y0       y1       y2       y3       y4       y5\n",
       "9    1/31/20         2      2.0      NaN      NaN      NaN      NaN      NaN\n",
       "10    2/1/20         2      0.0      2.0      NaN      NaN      NaN      NaN\n",
       "11    2/2/20         2      0.0      0.0      2.0      NaN      NaN      NaN\n",
       "12    2/3/20         2      0.0      0.0      0.0      2.0      NaN      NaN\n",
       "13    2/4/20         2      0.0      0.0      0.0      0.0      2.0      NaN\n",
       "..       ...       ...      ...      ...      ...      ...      ...      ...\n",
       "813  4/14/22  15533012  65617.0  62586.0  84056.0  28705.0  53920.0  64421.0\n",
       "814  4/15/22  15595302  62290.0  65617.0  62586.0  84056.0  28705.0  53920.0\n",
       "815  4/16/22  15659835  64533.0  62290.0  65617.0  62586.0  84056.0  28705.0\n",
       "816  4/17/22  15712088  52253.0  64533.0  62290.0  65617.0  62586.0  84056.0\n",
       "817  4/18/22  15730676  18588.0  52253.0  64533.0  62290.0  65617.0  62586.0\n",
       "\n",
       "[809 rows x 8 columns]"
      ]
     },
     "execution_count": 14,
     "metadata": {},
     "output_type": "execute_result"
    }
   ],
   "source": [
    "dat= pd.read_csv(\"https://raw.githubusercontent.com/CSSEGISandData/COVID-19/master/csse_covid_19_data/csse_covid_19_time_series/time_series_covid19_confirmed_global.csv\")\n",
    "\n",
    "## Get Italy, drop everyrthing except dates, convert to long (unstack converts to tuple)\n",
    "df= dat.loc[dat['Country/Region'] == 'Italy'].drop([\"Province/State\", \"Country/Region\", \"Lat\", \"Long\"],axis=1)\n",
    "\n",
    "\n",
    "df[\"id\"] = df.index\n",
    "df=pd.melt(df,id_vars=['id'],var_name='metric', value_name='values')\n",
    "df =df.drop('id', axis=1)\n",
    "df\n",
    "\n",
    "## get case counts instead of cumulative counts\n",
    "df['y0']=df['values']-df['values'].shift(1)\n",
    "df\n",
    "## get the first non zero entry\n",
    "df =df[df['values']!=0]\n",
    "df['y1']=df['y0'].shift(1)\n",
    "df['y2']=df['y1'].shift(1)\n",
    "df['y3']=df['y2'].shift(1)\n",
    "df['y4']=df['y3'].shift(1)\n",
    "df['y5']=df['y4'].shift(1)\n",
    "df\n"
   ]
  },
  {
   "cell_type": "code",
   "execution_count": 15,
   "id": "3cfc0b39-7035-47f3-8495-2c16da3ae876",
   "metadata": {},
   "outputs": [
    {
     "name": "stdout",
     "output_type": "stream",
     "text": [
      "                            OLS Regression Results                            \n",
      "==============================================================================\n",
      "Dep. Variable:                     y0   R-squared:                       0.879\n",
      "Model:                            OLS   Adj. R-squared:                  0.878\n",
      "Method:                 Least Squares   F-statistic:                     1158.\n",
      "Date:                Tue, 19 Apr 2022   Prob (F-statistic):               0.00\n",
      "Time:                        08:20:44   Log-Likelihood:                -8719.4\n",
      "No. Observations:                 804   AIC:                         1.745e+04\n",
      "Df Residuals:                     798   BIC:                         1.748e+04\n",
      "Df Model:                           5                                         \n",
      "Covariance Type:            nonrobust                                         \n",
      "==============================================================================\n",
      "                 coef    std err          t      P>|t|      [0.025      0.975]\n",
      "------------------------------------------------------------------------------\n",
      "Intercept    657.3460    504.900      1.302      0.193    -333.743    1648.435\n",
      "y1             0.4507      0.035     12.843      0.000       0.382       0.520\n",
      "y2             0.1283      0.038      3.337      0.001       0.053       0.204\n",
      "y3             0.1383      0.038      3.600      0.000       0.063       0.214\n",
      "y4             0.0852      0.038      2.215      0.027       0.010       0.161\n",
      "y5             0.1702      0.035      4.843      0.000       0.101       0.239\n",
      "==============================================================================\n",
      "Omnibus:                      302.618   Durbin-Watson:                   2.035\n",
      "Prob(Omnibus):                  0.000   Jarque-Bera (JB):            18600.392\n",
      "Skew:                           0.846   Prob(JB):                         0.00\n",
      "Kurtosis:                      26.503   Cond. No.                     1.01e+05\n",
      "==============================================================================\n",
      "\n",
      "Notes:\n",
      "[1] Standard Errors assume that the covariance matrix of the errors is correctly specified.\n",
      "[2] The condition number is large, 1.01e+05. This might indicate that there are\n",
      "strong multicollinearity or other numerical problems.\n"
     ]
    }
   ],
   "source": [
    "\n",
    "model1 = smf.ols(formula = 'y0 ~ y1+y2+y3+y4+y5', data=df).fit()\n",
    "model1.summary()\n",
    "print(model1.summary())"
   ]
  },
  {
   "cell_type": "markdown",
   "id": "d0ff42e7-87a9-4c4b-a806-eb2099c779d2",
   "metadata": {},
   "source": [
    "#report and interpret coefficients\n",
    "intercept:\n",
    "#Y(t-1): coefficient 0.45: the estimated expected change 0.45 in the daily case count for a 1 case increase in the previous day holidng the number of cases in other days (t-2, t-3, t-4, t-5) fixed. \n",
    "\n",
    "\n",
    "#y(t-2):coefficient 0.13: the estimated expected change 0.13 in the daily case count for a 1 case increase in the two days previous case count holidng the number of other days case count fixed (t-1, t-3, t-4, t-5)\n",
    "\n",
    "\n",
    "#y(T-3):coefficient: 0:14 : the estimated expected change 0:14 in the daily case count for a 1 case increase in the three days previous case count holidng the number of other days case count fixed (t-1, t-2, t-4, t-5)\n",
    "\n",
    "\n",
    "#y(t-4):coefficient 0.08 :  the estimated expected change 0.08 in the daily case count for a 1 case increase in the four days previous case count holidng the number of other days case count fixed (t-1, t-2, t-3, t-5)\n",
    "\n",
    "##y(t-5):coefficient:0.18 : the estimated expected change 0.18 in the daily case count for a 1 case increase in the five days previous case count holidng the number of other days case count fixed (t-1,t-2, t-3, t-4)"
   ]
  },
  {
   "cell_type": "code",
   "execution_count": 30,
   "id": "8b3b61cf-ba56-462e-8c1d-9915ab11d884",
   "metadata": {},
   "outputs": [],
   "source": [
    "from sklearn.linear_model import LinearRegression\n",
    "import statsmodels.formula.api as smf"
   ]
  },
  {
   "cell_type": "markdown",
   "id": "4a849c98-551e-4c4a-9444-41a882305bb3",
   "metadata": {},
   "source": [
    "\n",
    "#question 2 Refer to the previous question. Let A and B be your two countries. Create a plot of time versus prediction error for the following: a. fit the model on (all of) A and apply it to (all of) A, b. fit A on the first half of the time for A, apply it to all of A. This contrasts the forecasting error, a model fit using prior data applied to future data that didn't get to impact the fitting, with the training error."
   ]
  },
  {
   "cell_type": "code",
   "execution_count": 71,
   "id": "3ebb0e70-a592-4503-9e45-0d803e4baa1a",
   "metadata": {},
   "outputs": [],
   "source": [
    "## Get Italy, drop everyrthing except dates, convert to long (unstack converts to tuple)\n",
    "dat = pd.read_csv('https://raw.githubusercontent.com/CSSEGISandData/COVID-19/master/csse_covid_19_data/csse_covid_19_time_series/time_series_covid19_confirmed_global.csv')\n",
    "\n",
    "y=dat[dat['Country/Region'] == 'Italy'].drop([\"Province/State\", \"Country/Region\", \"Lat\", \"Long\"], axis=1).unstack()\n",
    "## convert from tuple to array\n",
    "y = np.asarray(y)  \n",
    "## get case counts instead of cumulative counts\n",
    "y = y[1 : y.size] - y[0 : (y.size - 1)]\n",
    "## get the first non zero entry\n",
    "y =  y[np.min(np.where(y !=  0)) : y.size]\n",
    "\n",
    "\n",
    "y1= y[np.min(np.where(y !=  0))+5 : y.size]\n",
    "x1=y[np.min(np.where(y !=  0))+4 : y.size-1]\n",
    "x2=y[np.min(np.where(y !=  0))+3 : y.size-2]\n",
    "x3=y[np.min(np.where(y !=  0))+2 : y.size-3]\n",
    "x4=y[np.min(np.where(y !=  0))+1 : y.size-4]\n",
    "x5=y[np.min(np.where(y !=  0)) : y.size-5]\n",
    "\n",
    "data = {\"Y\": y1, \"X1\": x1, \"X2\": x2, \"X3\": x3,\"X4\": x4,\"X5\": x5}\n",
    "trainFraction = 1\n",
    "\n",
    "sample = np.random.uniform(size = y1.size) < trainFraction\n",
    "trainingDat = df[sample]\n",
    "testingDat = df[~sample]"
   ]
  },
  {
   "cell_type": "code",
   "execution_count": 74,
   "id": "f7299996-e674-438d-8ac3-08a7fbdec719",
   "metadata": {},
   "outputs": [
    {
     "name": "stdout",
     "output_type": "stream",
     "text": [
      "                  Results: Ordinary least squares\n",
      "===================================================================\n",
      "Model:              OLS              Adj. R-squared:     0.878     \n",
      "Dependent Variable: Y                AIC:                17450.8613\n",
      "Date:               2022-04-19 08:47 BIC:                17478.9989\n",
      "No. Observations:   804              Log-Likelihood:     -8719.4   \n",
      "Df Model:           5                F-statistic:        1158.     \n",
      "Df Residuals:       798              Prob (F-statistic): 0.00      \n",
      "R-squared:          0.879            Scale:              1.5512e+08\n",
      "--------------------------------------------------------------------\n",
      "            Coef.    Std.Err.     t     P>|t|     [0.025     0.975] \n",
      "--------------------------------------------------------------------\n",
      "Intercept  657.3460  504.9001   1.3019  0.1933  -333.7431  1648.4351\n",
      "X1           0.4507    0.0351  12.8427  0.0000     0.3818     0.5196\n",
      "X2           0.1283    0.0384   3.3375  0.0009     0.0528     0.2037\n",
      "X3           0.1383    0.0384   3.5998  0.0003     0.0629     0.2137\n",
      "X4           0.0852    0.0384   2.2150  0.0270     0.0097     0.1606\n",
      "X5           0.1702    0.0351   4.8431  0.0000     0.1012     0.2392\n",
      "-------------------------------------------------------------------\n",
      "Omnibus:              302.618      Durbin-Watson:         2.035    \n",
      "Prob(Omnibus):        0.000        Jarque-Bera (JB):      18600.392\n",
      "Skew:                 0.846        Prob(JB):              0.000    \n",
      "Kurtosis:             26.503       Condition No.:         101150   \n",
      "===================================================================\n",
      "* The condition number is large (1e+05). This might indicate\n",
      "strong multicollinearity or other numerical problems.\n"
     ]
    }
   ],
   "source": [
    "results = smf.ols('Y ~ X1 + X2 + X3  + X4 +X5', data = trainingDat).fit()\n",
    "print(results.summary2())\n"
   ]
  },
  {
   "cell_type": "code",
   "execution_count": 75,
   "id": "9da7f05f-492b-40a4-a289-a1aec6c4f8b0",
   "metadata": {},
   "outputs": [],
   "source": [
    "\n",
    "yhat= results.params[0]+results.params[1]*x1+results.params[2]*x2+results.params[3]*x3+results.params[4]*x4+results.params[5]*x5"
   ]
  },
  {
   "cell_type": "code",
   "execution_count": 76,
   "id": "5f5263ec-185e-4aa6-8175-2e2dd627809e",
   "metadata": {},
   "outputs": [
    {
     "data": {
      "text/plain": [
       "[<matplotlib.lines.Line2D at 0x7f8f80143310>]"
      ]
     },
     "execution_count": 76,
     "metadata": {},
     "output_type": "execute_result"
    },
    {
     "data": {
      "image/png": "[encoded data removed]",
      "text/plain": [
       "<Figure size 432x288 with 1 Axes>"
      ]
     },
     "metadata": {},
     "output_type": "display_data"
    }
   ],
   "source": [
    "e=y1-yhat\n",
    "\n",
    "plt.plot(e)"
   ]
  },
  {
   "cell_type": "code",
   "execution_count": null,
   "id": "23716085-7541-4cd3-a2e0-36d3473b8a20",
   "metadata": {},
   "outputs": [],
   "source": [
    "#another way to solve this quesition 2A:"
   ]
  },
  {
   "cell_type": "code",
   "execution_count": 97,
   "id": "267ba824-8587-4340-abe8-d89e6af009bd",
   "metadata": {},
   "outputs": [
    {
     "data": {
      "text/html": [
       "<div>\n",
       "<style scoped>\n",
       "    .dataframe tbody tr th:only-of-type {\n",
       "        vertical-align: middle;\n",
       "    }\n",
       "\n",
       "    .dataframe tbody tr th {\n",
       "        vertical-align: top;\n",
       "    }\n",
       "\n",
       "    .dataframe thead th {\n",
       "        text-align: right;\n",
       "    }\n",
       "</style>\n",
       "<table border=\"1\" class=\"dataframe\">\n",
       "  <thead>\n",
       "    <tr style=\"text-align: right;\">\n",
       "      <th></th>\n",
       "      <th>t</th>\n",
       "    </tr>\n",
       "  </thead>\n",
       "  <tbody>\n",
       "    <tr>\n",
       "      <th>9</th>\n",
       "      <td>2.0</td>\n",
       "    </tr>\n",
       "    <tr>\n",
       "      <th>10</th>\n",
       "      <td>0.0</td>\n",
       "    </tr>\n",
       "    <tr>\n",
       "      <th>11</th>\n",
       "      <td>0.0</td>\n",
       "    </tr>\n",
       "    <tr>\n",
       "      <th>12</th>\n",
       "      <td>0.0</td>\n",
       "    </tr>\n",
       "    <tr>\n",
       "      <th>13</th>\n",
       "      <td>0.0</td>\n",
       "    </tr>\n",
       "    <tr>\n",
       "      <th>...</th>\n",
       "      <td>...</td>\n",
       "    </tr>\n",
       "    <tr>\n",
       "      <th>813</th>\n",
       "      <td>65617.0</td>\n",
       "    </tr>\n",
       "    <tr>\n",
       "      <th>814</th>\n",
       "      <td>62290.0</td>\n",
       "    </tr>\n",
       "    <tr>\n",
       "      <th>815</th>\n",
       "      <td>64533.0</td>\n",
       "    </tr>\n",
       "    <tr>\n",
       "      <th>816</th>\n",
       "      <td>52253.0</td>\n",
       "    </tr>\n",
       "    <tr>\n",
       "      <th>817</th>\n",
       "      <td>18588.0</td>\n",
       "    </tr>\n",
       "  </tbody>\n",
       "</table>\n",
       "<p>809 rows × 1 columns</p>\n",
       "</div>"
      ],
      "text/plain": [
       "           t\n",
       "9        2.0\n",
       "10       0.0\n",
       "11       0.0\n",
       "12       0.0\n",
       "13       0.0\n",
       "..       ...\n",
       "813  65617.0\n",
       "814  62290.0\n",
       "815  64533.0\n",
       "816  52253.0\n",
       "817  18588.0\n",
       "\n",
       "[809 rows x 1 columns]"
      ]
     },
     "execution_count": 97,
     "metadata": {},
     "output_type": "execute_result"
    }
   ],
   "source": [
    "\n",
    "\n",
    "#part a\n",
    "dat= pd.read_csv(\"https://raw.githubusercontent.com/CSSEGISandData/COVID-19/master/csse_covid_19_data/csse_covid_19_time_series/time_series_covid19_confirmed_global.csv\")\n",
    "\n",
    "## Get Italy, drop everyrthing except dates, convert to long (unstack converts to tuple)\n",
    "dt= dat.loc[dat['Country/Region'] == 'Italy'].drop([\"Province/State\", \"Country/Region\", \"Lat\", \"Long\"],axis=1)\n",
    "\n",
    "\n",
    "dt[\"id\"] = dt.index\n",
    "dt=pd.melt(dt,id_vars=['id'],var_name='metric', value_name='values')\n",
    "dt =dt.drop(['id','metric'], axis=1)\n",
    "dt\n",
    "\n",
    "## get case counts instead of cumulative counts\n",
    "dt['t']=dt['values']-dt['values'].shift(1)\n",
    "dt\n",
    "## get the first non zero entry\n",
    "dt =dt[dt['values']!=0]\n",
    "dt=dt.drop('values',axis=1)\n",
    "dt\n",
    "\n"
   ]
  },
  {
   "cell_type": "markdown",
   "id": "2a1372e8-b1ff-4bec-b02e-439ccfd457e4",
   "metadata": {},
   "source": []
  },
  {
   "cell_type": "code",
   "execution_count": 29,
   "id": "758f8031-487e-4bb7-b30b-425e9868e2b0",
   "metadata": {},
   "outputs": [],
   "source": []
  },
  {
   "cell_type": "code",
   "execution_count": null,
   "id": "3070a224-9807-4a33-a54d-ec6dbab4da9e",
   "metadata": {},
   "outputs": [],
   "source": []
  },
  {
   "cell_type": "code",
   "execution_count": null,
   "id": "e650bb45-53cf-49d7-95b5-59091538a357",
   "metadata": {},
   "outputs": [],
   "source": []
  },
  {
   "cell_type": "code",
   "execution_count": null,
   "id": "247520f8-0fe5-4d25-93b9-990f642b4248",
   "metadata": {},
   "outputs": [],
   "source": []
  },
  {
   "cell_type": "code",
   "execution_count": 77,
   "id": "c8619c1b-d548-4fc2-8499-b0ec14498172",
   "metadata": {},
   "outputs": [
    {
     "name": "stdout",
     "output_type": "stream",
     "text": [
      "[0 0 0 0 0 2]\n"
     ]
    }
   ],
   "source": [
    "##Q2B\n",
    "\n",
    "X = df.values\n",
    "print(X[0])\n",
    "train_size = int(len(X) * 0.5)\n",
    "train, test = X[0:train_size], X[:]"
   ]
  },
  {
   "cell_type": "code",
   "execution_count": 78,
   "id": "0b964bf1-2ed1-4f92-a86a-d5605ff262e6",
   "metadata": {},
   "outputs": [],
   "source": [
    "\n",
    "train_X1, train_X2,train_X3,train_X4,train_X5,train_Y = train[:,0], train[:,1], train[:,2], train[:,3], train[:,4], train[:,5]\n",
    "test_X1, test_X2,test_X3,test_X4,test_X5,test_Y = test[:,0], test[:,1], test[:,2], test[:,3], test[:,4], test[:,5]\n"
   ]
  },
  {
   "cell_type": "code",
   "execution_count": 79,
   "id": "5aff7a4a-18c4-4114-b340-59b99fe0c9bd",
   "metadata": {},
   "outputs": [],
   "source": [
    "data_train = {\"Ytr\": train_Y, \"X1tr\": train_X1, \"X2tr\": train_X2, \"X3tr\": train_X3,\"X4tr\": train_X4,\"X5tr\": train_X5}\n",
    "\n",
    "df_train = pd.DataFrame(data_train)\n",
    "\n",
    "data_test = {\"Yte\": test_Y, \"X1tr\": test_X1, \"X2tr\": test_X2, \"X3tr\": test_X3,\"X4tr\": test_X4,\"X5tr\": test_X5}\n",
    "\n",
    "df_test = pd.DataFrame(data_test)"
   ]
  },
  {
   "cell_type": "code",
   "execution_count": 80,
   "id": "69efdaf6-aff5-4376-b73b-0cd8d4a767d7",
   "metadata": {},
   "outputs": [
    {
     "name": "stdout",
     "output_type": "stream",
     "text": [
      "402\n",
      "402\n",
      "402\n",
      "402\n",
      "402\n",
      "402\n"
     ]
    }
   ],
   "source": [
    "print(train_X1.size)\n",
    "print(train_X2.size)\n",
    "print(train_X3.size)\n",
    "print(train_X4.size)\n",
    "print(train_X5.size)\n",
    "print(train_Y.size)"
   ]
  },
  {
   "cell_type": "code",
   "execution_count": 81,
   "id": "341116c8-d14e-4154-9c92-660ced8dd579",
   "metadata": {},
   "outputs": [
    {
     "name": "stdout",
     "output_type": "stream",
     "text": [
      "                  Results: Ordinary least squares\n",
      "===================================================================\n",
      "Model:              OLS              Adj. R-squared:     0.965     \n",
      "Dependent Variable: train_Y          AIC:                7171.5319 \n",
      "Date:               2022-04-19 08:48 BIC:                7195.5106 \n",
      "No. Observations:   402              Log-Likelihood:     -3579.8   \n",
      "Df Model:           5                F-statistic:        2242.     \n",
      "Df Residuals:       396              Prob (F-statistic): 7.11e-288 \n",
      "R-squared:          0.966            Scale:              3.2266e+06\n",
      "--------------------------------------------------------------------\n",
      "              Coef.   Std.Err.     t     P>|t|     [0.025    0.975] \n",
      "--------------------------------------------------------------------\n",
      "Intercept    -2.4561  115.8964  -0.0212  0.9831  -230.3053  225.3930\n",
      "train_X1      0.3729    0.0456   8.1830  0.0000     0.2833    0.4624\n",
      "train_X2     -0.1194    0.0655  -1.8235  0.0690    -0.2481    0.0093\n",
      "train_X3     -0.0572    0.0659  -0.8677  0.3861    -0.1867    0.0724\n",
      "train_X4     -0.1537    0.0655  -2.3457  0.0195    -0.2825   -0.0249\n",
      "train_X5      0.9462    0.0459  20.6158  0.0000     0.8559    1.0364\n",
      "-------------------------------------------------------------------\n",
      "Omnibus:               59.826       Durbin-Watson:          2.118  \n",
      "Prob(Omnibus):         0.000        Jarque-Bera (JB):       607.061\n",
      "Skew:                  -0.050       Prob(JB):               0.000  \n",
      "Kurtosis:              9.019        Condition No.:          35529  \n",
      "===================================================================\n",
      "* The condition number is large (4e+04). This might indicate\n",
      "strong multicollinearity or other numerical problems.\n",
      "Intercept   -2.456125\n",
      "train_X1     0.372865\n",
      "train_X2    -0.119372\n",
      "train_X3    -0.057162\n",
      "train_X4    -0.153711\n",
      "train_X5     0.946152\n",
      "dtype: float64\n"
     ]
    }
   ],
   "source": [
    "resultstr = smf.ols('train_Y ~ train_X1+train_X2+train_X3+train_X4+train_X5', data = df_train).fit()\n",
    "print(resultstr.summary2())\n",
    "\n",
    "print (resultstr.params)"
   ]
  },
  {
   "cell_type": "code",
   "execution_count": 82,
   "id": "8622123a-3df7-4b1e-b926-9f2be20f0638",
   "metadata": {},
   "outputs": [],
   "source": [
    "\n",
    "yhattr= resultstr.params[0]+resultstr.params[1]*test_X1+resultstr.params[2]*test_X2+resultstr.params[3]*test_X3+resultstr.params[4]*test_X4+resultstr.params[5]*test_X5"
   ]
  },
  {
   "cell_type": "code",
   "execution_count": 83,
   "id": "934810dc-5b6f-466d-a39d-bd2156b18cc9",
   "metadata": {},
   "outputs": [
    {
     "data": {
      "text/plain": [
       "[<matplotlib.lines.Line2D at 0x7f8f80157370>]"
      ]
     },
     "execution_count": 83,
     "metadata": {},
     "output_type": "execute_result"
    },
    {
     "data": {
      "image/png": "[encoded data removed]",
      "text/plain": [
       "<Figure size 432x288 with 1 Axes>"
      ]
     },
     "metadata": {},
     "output_type": "display_data"
    }
   ],
   "source": [
    "data_test = {\"Yte\": test_Y, \"X1tr\": test_X1, \"X2tr\": test_X2, \"X3tr\": test_X3,\"X4tr\": test_X4,\"X5tr\": test_X5}\n",
    "\n",
    "df_test = pd.DataFrame(data_test)\n",
    "\n",
    "e = test_Y- yhattr\n",
    "plt.plot(e)"
   ]
  },
  {
   "cell_type": "markdown",
   "id": "0d95a173-5cca-4f43-a4cf-c3598063c7af",
   "metadata": {},
   "source": [
    "#question 3 \n",
    "Plot the errors over time for applying the model from country A and applying it to a new country, B that you pick. This is out of sample error."
   ]
  },
  {
   "cell_type": "code",
   "execution_count": 84,
   "id": "ed882cc0-d4ac-4efc-a5c1-6893ab1ca0e8",
   "metadata": {},
   "outputs": [],
   "source": [
    "\n",
    "yb=dat[dat['Country/Region'] == 'Afghanistan'].drop([\"Province/State\", \"Country/Region\", \"Lat\", \"Long\"], axis=1).unstack()\n",
    "## convert from tuple to array\n",
    "yb = np.asarray(yb)  \n",
    "## get case counts instead of cumulative counts\n",
    "yb = yb[1 : yb.size] - yb[0 : (yb.size - 1)]"
   ]
  },
  {
   "cell_type": "code",
   "execution_count": 85,
   "id": "cd0e1a40-a7f7-4d63-84a5-2204c054d373",
   "metadata": {},
   "outputs": [
    {
     "data": {
      "text/plain": [
       "[<matplotlib.lines.Line2D at 0x7f8f8011b880>]"
      ]
     },
     "execution_count": 85,
     "metadata": {},
     "output_type": "execute_result"
    },
    {
     "data": {
      "image/png": "[encoded data removed]",
      "text/plain": [
       "<Figure size 432x288 with 1 Axes>"
      ]
     },
     "metadata": {},
     "output_type": "display_data"
    }
   ],
   "source": [
    "yb =  yb[np.min(np.where(yb !=  0)) : yb.size]\n",
    "plt.plot(yb)"
   ]
  },
  {
   "cell_type": "code",
   "execution_count": 86,
   "id": "c7dbe496-b7e9-4c0f-b790-589b4a43d160",
   "metadata": {},
   "outputs": [
    {
     "name": "stdout",
     "output_type": "stream",
     "text": [
      "780\n",
      "780\n",
      "780\n",
      "780\n",
      "780\n",
      "780\n"
     ]
    },
    {
     "data": {
      "text/html": [
       "<div>\n",
       "<style scoped>\n",
       "    .dataframe tbody tr th:only-of-type {\n",
       "        vertical-align: middle;\n",
       "    }\n",
       "\n",
       "    .dataframe tbody tr th {\n",
       "        vertical-align: top;\n",
       "    }\n",
       "\n",
       "    .dataframe thead th {\n",
       "        text-align: right;\n",
       "    }\n",
       "</style>\n",
       "<table border=\"1\" class=\"dataframe\">\n",
       "  <thead>\n",
       "    <tr style=\"text-align: right;\">\n",
       "      <th></th>\n",
       "      <th>Yb</th>\n",
       "      <th>Xb1</th>\n",
       "      <th>Xb2</th>\n",
       "      <th>Xb3</th>\n",
       "      <th>Xb4</th>\n",
       "      <th>Xb5</th>\n",
       "    </tr>\n",
       "  </thead>\n",
       "  <tbody>\n",
       "    <tr>\n",
       "      <th>0</th>\n",
       "      <td>0</td>\n",
       "      <td>0</td>\n",
       "      <td>0</td>\n",
       "      <td>0</td>\n",
       "      <td>0</td>\n",
       "      <td>5</td>\n",
       "    </tr>\n",
       "    <tr>\n",
       "      <th>1</th>\n",
       "      <td>0</td>\n",
       "      <td>0</td>\n",
       "      <td>0</td>\n",
       "      <td>0</td>\n",
       "      <td>0</td>\n",
       "      <td>0</td>\n",
       "    </tr>\n",
       "    <tr>\n",
       "      <th>2</th>\n",
       "      <td>0</td>\n",
       "      <td>0</td>\n",
       "      <td>0</td>\n",
       "      <td>0</td>\n",
       "      <td>0</td>\n",
       "      <td>0</td>\n",
       "    </tr>\n",
       "    <tr>\n",
       "      <th>3</th>\n",
       "      <td>0</td>\n",
       "      <td>0</td>\n",
       "      <td>0</td>\n",
       "      <td>0</td>\n",
       "      <td>0</td>\n",
       "      <td>0</td>\n",
       "    </tr>\n",
       "    <tr>\n",
       "      <th>4</th>\n",
       "      <td>0</td>\n",
       "      <td>0</td>\n",
       "      <td>0</td>\n",
       "      <td>0</td>\n",
       "      <td>0</td>\n",
       "      <td>0</td>\n",
       "    </tr>\n",
       "    <tr>\n",
       "      <th>...</th>\n",
       "      <td>...</td>\n",
       "      <td>...</td>\n",
       "      <td>...</td>\n",
       "      <td>...</td>\n",
       "      <td>...</td>\n",
       "      <td>...</td>\n",
       "    </tr>\n",
       "    <tr>\n",
       "      <th>775</th>\n",
       "      <td>57</td>\n",
       "      <td>38</td>\n",
       "      <td>116</td>\n",
       "      <td>167</td>\n",
       "      <td>0</td>\n",
       "      <td>0</td>\n",
       "    </tr>\n",
       "    <tr>\n",
       "      <th>776</th>\n",
       "      <td>21</td>\n",
       "      <td>57</td>\n",
       "      <td>38</td>\n",
       "      <td>116</td>\n",
       "      <td>167</td>\n",
       "      <td>0</td>\n",
       "    </tr>\n",
       "    <tr>\n",
       "      <th>777</th>\n",
       "      <td>14</td>\n",
       "      <td>21</td>\n",
       "      <td>57</td>\n",
       "      <td>38</td>\n",
       "      <td>116</td>\n",
       "      <td>167</td>\n",
       "    </tr>\n",
       "    <tr>\n",
       "      <th>778</th>\n",
       "      <td>31</td>\n",
       "      <td>14</td>\n",
       "      <td>21</td>\n",
       "      <td>57</td>\n",
       "      <td>38</td>\n",
       "      <td>116</td>\n",
       "    </tr>\n",
       "    <tr>\n",
       "      <th>779</th>\n",
       "      <td>39</td>\n",
       "      <td>31</td>\n",
       "      <td>14</td>\n",
       "      <td>21</td>\n",
       "      <td>57</td>\n",
       "      <td>38</td>\n",
       "    </tr>\n",
       "  </tbody>\n",
       "</table>\n",
       "<p>780 rows × 6 columns</p>\n",
       "</div>"
      ],
      "text/plain": [
       "     Yb  Xb1  Xb2  Xb3  Xb4  Xb5\n",
       "0     0    0    0    0    0    5\n",
       "1     0    0    0    0    0    0\n",
       "2     0    0    0    0    0    0\n",
       "3     0    0    0    0    0    0\n",
       "4     0    0    0    0    0    0\n",
       "..   ..  ...  ...  ...  ...  ...\n",
       "775  57   38  116  167    0    0\n",
       "776  21   57   38  116  167    0\n",
       "777  14   21   57   38  116  167\n",
       "778  31   14   21   57   38  116\n",
       "779  39   31   14   21   57   38\n",
       "\n",
       "[780 rows x 6 columns]"
      ]
     },
     "execution_count": 86,
     "metadata": {},
     "output_type": "execute_result"
    }
   ],
   "source": [
    "yb1= yb[np.min(np.where(yb !=  0))+5 : yb.size]\n",
    "xb1=yb[np.min(np.where(yb !=  0))+4 : yb.size-1]\n",
    "xb2=yb[np.min(np.where(yb !=  0))+3 : yb.size-2]\n",
    "xb3=yb[np.min(np.where(yb !=  0))+2 : yb.size-3]\n",
    "xb4=yb[np.min(np.where(yb !=  0))+1 : yb.size-4]\n",
    "xb5=yb[np.min(np.where(yb !=  0)) : yb.size-5]\n",
    "data2 = {\"Yb\": yb1, \"Xb1\": xb1, \"Xb2\": xb2, \"Xb3\": xb3,\"Xb4\": xb4,\"Xb5\": xb5}\n",
    "print(xb1.size)\n",
    "print(xb2.size)\n",
    "print(xb3.size)\n",
    "print(xb4.size)\n",
    "print(xb5.size)\n",
    "print(yb1.size)\n",
    "df2 = pd.DataFrame(data2)\n",
    "df2"
   ]
  },
  {
   "cell_type": "code",
   "execution_count": 87,
   "id": "62c5282b-dd48-43db-a0de-c8f457956b7e",
   "metadata": {},
   "outputs": [],
   "source": [
    "\n",
    "ybhat= results.params[0]+results.params[1]*xb1+results.params[2]*xb2+results.params[3]*xb3+results.params[4]*xb4+results.params[5]*xb5"
   ]
  },
  {
   "cell_type": "code",
   "execution_count": 88,
   "id": "d587b09e-08b5-44c4-a628-503b55c36772",
   "metadata": {},
   "outputs": [],
   "source": [
    "eb = yb1- ybhat"
   ]
  },
  {
   "cell_type": "code",
   "execution_count": 89,
   "id": "df6b950e-05af-41d6-b94e-3d4476d3329c",
   "metadata": {},
   "outputs": [
    {
     "data": {
      "text/plain": [
       "[<matplotlib.lines.Line2D at 0x7f8f80086070>]"
      ]
     },
     "execution_count": 89,
     "metadata": {},
     "output_type": "execute_result"
    },
    {
     "data": {
      "image/png": "[encoded data removed]",
      "text/plain": [
       "<Figure size 432x288 with 1 Axes>"
      ]
     },
     "metadata": {},
     "output_type": "display_data"
    }
   ],
   "source": [
    "plt.plot(eb)"
   ]
  },
  {
   "cell_type": "markdown",
   "id": "5377a17b-a7b4-4ea9-9cf5-8cabcfb8be1f",
   "metadata": {},
   "source": [
    "#question 4 \n",
    "Consider the covid data from the previous questions. Let  Zt=I(Yt>Yt−1) . That is,  Zt  is 1 if cases went up on day  t  and  0  otherwise. Consider the following Markovian logit model:\n",
    "logit{P(Zt=1)}=α0+β1Zt−1+β2Zt−2+β3Zt−3+β4Zt−4+β4Zt−5 \n",
    "In other words, how does whether or not the previous five days case values predict whether or not the number of cases will go up or down? Report and interpret your coefficients."
   ]
  },
  {
   "cell_type": "code",
   "execution_count": 90,
   "id": "c475fdf0-90a9-4951-8f1d-92476a8d384e",
   "metadata": {},
   "outputs": [
    {
     "data": {
      "text/html": [
       "<div>\n",
       "<style scoped>\n",
       "    .dataframe tbody tr th:only-of-type {\n",
       "        vertical-align: middle;\n",
       "    }\n",
       "\n",
       "    .dataframe tbody tr th {\n",
       "        vertical-align: top;\n",
       "    }\n",
       "\n",
       "    .dataframe thead th {\n",
       "        text-align: right;\n",
       "    }\n",
       "</style>\n",
       "<table border=\"1\" class=\"dataframe\">\n",
       "  <thead>\n",
       "    <tr style=\"text-align: right;\">\n",
       "      <th></th>\n",
       "      <th>Y</th>\n",
       "      <th>X1</th>\n",
       "      <th>X2</th>\n",
       "      <th>X3</th>\n",
       "      <th>X4</th>\n",
       "      <th>X5</th>\n",
       "    </tr>\n",
       "  </thead>\n",
       "  <tbody>\n",
       "    <tr>\n",
       "      <th>0</th>\n",
       "      <td>0</td>\n",
       "      <td>0</td>\n",
       "      <td>0</td>\n",
       "      <td>0</td>\n",
       "      <td>0</td>\n",
       "      <td>1</td>\n",
       "    </tr>\n",
       "    <tr>\n",
       "      <th>1</th>\n",
       "      <td>0</td>\n",
       "      <td>0</td>\n",
       "      <td>0</td>\n",
       "      <td>0</td>\n",
       "      <td>0</td>\n",
       "      <td>0</td>\n",
       "    </tr>\n",
       "    <tr>\n",
       "      <th>2</th>\n",
       "      <td>1</td>\n",
       "      <td>0</td>\n",
       "      <td>0</td>\n",
       "      <td>0</td>\n",
       "      <td>0</td>\n",
       "      <td>0</td>\n",
       "    </tr>\n",
       "    <tr>\n",
       "      <th>3</th>\n",
       "      <td>0</td>\n",
       "      <td>1</td>\n",
       "      <td>0</td>\n",
       "      <td>0</td>\n",
       "      <td>0</td>\n",
       "      <td>0</td>\n",
       "    </tr>\n",
       "    <tr>\n",
       "      <th>4</th>\n",
       "      <td>0</td>\n",
       "      <td>0</td>\n",
       "      <td>1</td>\n",
       "      <td>0</td>\n",
       "      <td>0</td>\n",
       "      <td>0</td>\n",
       "    </tr>\n",
       "    <tr>\n",
       "      <th>...</th>\n",
       "      <td>...</td>\n",
       "      <td>...</td>\n",
       "      <td>...</td>\n",
       "      <td>...</td>\n",
       "      <td>...</td>\n",
       "      <td>...</td>\n",
       "    </tr>\n",
       "    <tr>\n",
       "      <th>799</th>\n",
       "      <td>1</td>\n",
       "      <td>0</td>\n",
       "      <td>1</td>\n",
       "      <td>0</td>\n",
       "      <td>0</td>\n",
       "      <td>1</td>\n",
       "    </tr>\n",
       "    <tr>\n",
       "      <th>800</th>\n",
       "      <td>0</td>\n",
       "      <td>1</td>\n",
       "      <td>0</td>\n",
       "      <td>1</td>\n",
       "      <td>0</td>\n",
       "      <td>0</td>\n",
       "    </tr>\n",
       "    <tr>\n",
       "      <th>801</th>\n",
       "      <td>1</td>\n",
       "      <td>0</td>\n",
       "      <td>1</td>\n",
       "      <td>0</td>\n",
       "      <td>1</td>\n",
       "      <td>0</td>\n",
       "    </tr>\n",
       "    <tr>\n",
       "      <th>802</th>\n",
       "      <td>0</td>\n",
       "      <td>1</td>\n",
       "      <td>0</td>\n",
       "      <td>1</td>\n",
       "      <td>0</td>\n",
       "      <td>1</td>\n",
       "    </tr>\n",
       "    <tr>\n",
       "      <th>803</th>\n",
       "      <td>0</td>\n",
       "      <td>0</td>\n",
       "      <td>1</td>\n",
       "      <td>0</td>\n",
       "      <td>1</td>\n",
       "      <td>1</td>\n",
       "    </tr>\n",
       "  </tbody>\n",
       "</table>\n",
       "<p>804 rows × 6 columns</p>\n",
       "</div>"
      ],
      "text/plain": [
       "     Y  X1  X2  X3  X4  X5\n",
       "0    0   0   0   0   0   1\n",
       "1    0   0   0   0   0   0\n",
       "2    1   0   0   0   0   0\n",
       "3    0   1   0   0   0   0\n",
       "4    0   0   1   0   0   0\n",
       "..  ..  ..  ..  ..  ..  ..\n",
       "799  1   0   1   0   0   1\n",
       "800  0   1   0   1   0   0\n",
       "801  1   0   1   0   1   0\n",
       "802  0   1   0   1   0   1\n",
       "803  0   0   1   0   1   1\n",
       "\n",
       "[804 rows x 6 columns]"
      ]
     },
     "execution_count": 90,
     "metadata": {},
     "output_type": "execute_result"
    }
   ],
   "source": [
    "##Q4\n",
    "y=dat[dat['Country/Region'] == 'Italy'].drop([\"Province/State\", \"Country/Region\", \"Lat\", \"Long\"], axis=1).unstack()\n",
    "## convert from tuple to array\n",
    "y = np.asarray(y)  \n",
    "## get case counts instead of cumulative counts\n",
    "y = y[1 : y.size] - y[0 : (y.size - 1)]\n",
    "y =  y[np.min(np.where(y !=  0)) : y.size]\n",
    "\n",
    "y1= y[np.min(np.where(y !=  0))+5 : y.size]\n",
    "x1=y[np.min(np.where(y !=  0))+4 : y.size-1]\n",
    "x2=y[np.min(np.where(y !=  0))+3 : y.size-2]\n",
    "x3=y[np.min(np.where(y !=  0))+2 : y.size-3]\n",
    "x4=y[np.min(np.where(y !=  0))+1 : y.size-4]\n",
    "x5=y[np.min(np.where(y !=  0)) : y.size-5]\n",
    "\n",
    "\n",
    "yl1=y1-x1\n",
    "xl1=x1-x2\n",
    "xl2=x2-x3\n",
    "xl3=x3-x4\n",
    "xl4=x4-x5\n",
    "xl5=[]\n",
    "for i in range(x5.size):\n",
    "    if i ==0:\n",
    "        xl5.append(x5[i])\n",
    "    else:\n",
    "        xl5.append(x5[i]-y1[i-1])\n",
    "\n",
    "yc1=[]\n",
    "for i in yl1:\n",
    "    if i >0:\n",
    "        yc1.append(1)\n",
    "    else:\n",
    "        yc1.append(0)\n",
    "x1c=[]\n",
    "for i in xl1:\n",
    "    if i >0:\n",
    "        x1c.append(1)\n",
    "    else:\n",
    "        x1c.append(0)\n",
    "x2c=[]\n",
    "for i in xl2:\n",
    "    if i >0:\n",
    "        x2c.append(1)\n",
    "    else:\n",
    "        x2c.append(0)\n",
    "x3c=[]\n",
    "for i in xl3:\n",
    "    if i >0:\n",
    "        x3c.append(1)\n",
    "    else:\n",
    "        x3c.append(0)\n",
    "x4c=[]\n",
    "for i in xl4:\n",
    "    if i >0:\n",
    "        x4c.append(1)\n",
    "    else:\n",
    "        x4c.append(0)\n",
    "x5c=[]\n",
    "for i in xl5:\n",
    "    if i >0:\n",
    "        x5c.append(1)\n",
    "    else:\n",
    "        x5c.append(0)\n",
    "        \n",
    "datac = {\"Y\": yc1, \"X1\": x1c, \"X2\": x2c, \"X3\": x3c,\"X4\": x4c,\"X5\": x5c}\n",
    "\n",
    "dfc = pd.DataFrame(datac)\n",
    "dfc\n"
   ]
  },
  {
   "cell_type": "code",
   "execution_count": 91,
   "id": "e6ea1c3a-b043-4c01-a1a2-b27258fe526e",
   "metadata": {},
   "outputs": [],
   "source": [
    "x = dfc[['X1', 'X2', 'X3', 'X4', 'X5']]\n",
    "y = dfc[['Y']]"
   ]
  },
  {
   "cell_type": "code",
   "execution_count": 92,
   "id": "436f7341-4f24-427a-b77e-a202f87cef9c",
   "metadata": {},
   "outputs": [],
   "source": [
    "x = sm.tools.add_constant(x)\n",
    "\n",
    "xtraining = x[sample]\n",
    "xtesting = x[~sample]\n",
    "ytraining = y[sample]\n",
    "ytesting = y[~sample]"
   ]
  },
  {
   "cell_type": "code",
   "execution_count": 93,
   "id": "93c60e9a-6c3e-4634-a07d-2c08eede87f7",
   "metadata": {},
   "outputs": [],
   "source": [
    "import numpy as np\n",
    "import pandas as pd\n",
    "import seaborn as sns\n",
    "import matplotlib.pyplot as plt\n",
    "import sklearn.linear_model as lm\n",
    "import sklearn as skl\n",
    "import statsmodels.formula.api as smf\n",
    "import statsmodels as sm\n",
    "\n",
    "## this sets some style parameters  \n",
    "sns.set()"
   ]
  },
  {
   "cell_type": "code",
   "execution_count": 94,
   "id": "7b018c6e-1381-4488-a658-f910b8643a5b",
   "metadata": {},
   "outputs": [
    {
     "name": "stdout",
     "output_type": "stream",
     "text": [
      "Optimization terminated successfully.\n",
      "         Current function value: 0.634921\n",
      "         Iterations 5\n"
     ]
    }
   ],
   "source": [
    "fit = sm.discrete.discrete_model.Logit(ytraining, xtraining).fit()"
   ]
  },
  {
   "cell_type": "code",
   "execution_count": 95,
   "id": "3eca4ddd-1016-409b-8480-cde2e9ff2006",
   "metadata": {},
   "outputs": [
    {
     "data": {
      "text/html": [
       "<table class=\"simpletable\">\n",
       "<caption>Logit Regression Results</caption>\n",
       "<tr>\n",
       "  <th>Dep. Variable:</th>           <td>Y</td>        <th>  No. Observations:  </th>  <td>   804</td>  \n",
       "</tr>\n",
       "<tr>\n",
       "  <th>Model:</th>                 <td>Logit</td>      <th>  Df Residuals:      </th>  <td>   798</td>  \n",
       "</tr>\n",
       "<tr>\n",
       "  <th>Method:</th>                 <td>MLE</td>       <th>  Df Model:          </th>  <td>     5</td>  \n",
       "</tr>\n",
       "<tr>\n",
       "  <th>Date:</th>            <td>Tue, 19 Apr 2022</td> <th>  Pseudo R-squ.:     </th>  <td>0.08386</td> \n",
       "</tr>\n",
       "<tr>\n",
       "  <th>Time:</th>                <td>08:48:51</td>     <th>  Log-Likelihood:    </th> <td> -510.48</td> \n",
       "</tr>\n",
       "<tr>\n",
       "  <th>converged:</th>             <td>True</td>       <th>  LL-Null:           </th> <td> -557.20</td> \n",
       "</tr>\n",
       "<tr>\n",
       "  <th>Covariance Type:</th>     <td>nonrobust</td>    <th>  LLR p-value:       </th> <td>1.266e-18</td>\n",
       "</tr>\n",
       "</table>\n",
       "<table class=\"simpletable\">\n",
       "<tr>\n",
       "    <td></td>       <th>coef</th>     <th>std err</th>      <th>z</th>      <th>P>|z|</th>  <th>[0.025</th>    <th>0.975]</th>  \n",
       "</tr>\n",
       "<tr>\n",
       "  <th>const</th> <td>   -0.5718</td> <td>    0.245</td> <td>   -2.335</td> <td> 0.020</td> <td>   -1.052</td> <td>   -0.092</td>\n",
       "</tr>\n",
       "<tr>\n",
       "  <th>X1</th>    <td>    0.8581</td> <td>    0.165</td> <td>    5.195</td> <td> 0.000</td> <td>    0.534</td> <td>    1.182</td>\n",
       "</tr>\n",
       "<tr>\n",
       "  <th>X2</th>    <td>    0.0899</td> <td>    0.163</td> <td>    0.550</td> <td> 0.582</td> <td>   -0.230</td> <td>    0.410</td>\n",
       "</tr>\n",
       "<tr>\n",
       "  <th>X3</th>    <td>   -0.3456</td> <td>    0.163</td> <td>   -2.124</td> <td> 0.034</td> <td>   -0.664</td> <td>   -0.027</td>\n",
       "</tr>\n",
       "<tr>\n",
       "  <th>X4</th>    <td>   -0.3930</td> <td>    0.158</td> <td>   -2.491</td> <td> 0.013</td> <td>   -0.702</td> <td>   -0.084</td>\n",
       "</tr>\n",
       "<tr>\n",
       "  <th>X5</th>    <td>    0.9561</td> <td>    0.189</td> <td>    5.054</td> <td> 0.000</td> <td>    0.585</td> <td>    1.327</td>\n",
       "</tr>\n",
       "</table>"
      ],
      "text/plain": [
       "<class 'statsmodels.iolib.summary.Summary'>\n",
       "\"\"\"\n",
       "                           Logit Regression Results                           \n",
       "==============================================================================\n",
       "Dep. Variable:                      Y   No. Observations:                  804\n",
       "Model:                          Logit   Df Residuals:                      798\n",
       "Method:                           MLE   Df Model:                            5\n",
       "Date:                Tue, 19 Apr 2022   Pseudo R-squ.:                 0.08386\n",
       "Time:                        08:48:51   Log-Likelihood:                -510.48\n",
       "converged:                       True   LL-Null:                       -557.20\n",
       "Covariance Type:            nonrobust   LLR p-value:                 1.266e-18\n",
       "==============================================================================\n",
       "                 coef    std err          z      P>|z|      [0.025      0.975]\n",
       "------------------------------------------------------------------------------\n",
       "const         -0.5718      0.245     -2.335      0.020      -1.052      -0.092\n",
       "X1             0.8581      0.165      5.195      0.000       0.534       1.182\n",
       "X2             0.0899      0.163      0.550      0.582      -0.230       0.410\n",
       "X3            -0.3456      0.163     -2.124      0.034      -0.664      -0.027\n",
       "X4            -0.3930      0.158     -2.491      0.013      -0.702      -0.084\n",
       "X5             0.9561      0.189      5.054      0.000       0.585       1.327\n",
       "==============================================================================\n",
       "\"\"\""
      ]
     },
     "execution_count": 95,
     "metadata": {},
     "output_type": "execute_result"
    }
   ],
   "source": [
    "fit.summary()"
   ]
  },
  {
   "cell_type": "code",
   "execution_count": null,
   "id": "622aa3d8-6408-4d29-a791-59c61a7e3045",
   "metadata": {},
   "outputs": [],
   "source": []
  },
  {
   "cell_type": "code",
   "execution_count": null,
   "id": "aa71c46c-518f-4b3c-b772-ea9d456928b0",
   "metadata": {},
   "outputs": [],
   "source": []
  }
 ],
 "metadata": {
  "kernelspec": {
   "display_name": "Python 3 (ipykernel)",
   "language": "python",
   "name": "python3"
  },
  "language_info": {
   "codemirror_mode": {
    "name": "ipython",
    "version": 3
   },
   "file_extension": ".py",
   "mimetype": "text/x-python",
   "name": "python",
   "nbconvert_exporter": "python",
   "pygments_lexer": "ipython3",
   "version": "3.9.7"
  }
 },
 "nbformat": 4,
 "nbformat_minor": 5
}
