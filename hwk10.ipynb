{
 "cells": [
  {
   "cell_type": "code",
   "execution_count": 97,
   "id": "e72491eb-9198-459a-a329-6735834e9fb3",
   "metadata": {},
   "outputs": [],
   "source": [
    "#homework 10\n",
    "import pandas as pd\n",
    "import numpy as np\n",
    "from sklearn import linear_model\n",
    "import matplotlib.pyplot as plt\n",
    "import statsmodels.api as sm\n",
    "import csv"
   ]
  },
  {
   "cell_type": "code",
   "execution_count": null,
   "id": "0f659441-fedd-4ece-83c6-b4f09543ae76",
   "metadata": {},
   "outputs": [],
   "source": []
  },
  {
   "cell_type": "markdown",
   "id": "fa19f65c-5866-4d02-995d-bda3677414db",
   "metadata": {},
   "source": [
    "A virus is coming where 50% of the cryptopunks will have contracted a disease where they get a white spot. The code below generates the disease. Your job is as follows\n",
    "\n",
    "Generate the data as below\n",
    "Train a convolutional neural network to classify punks as diseased or not\n",
    "1. Create training and validation sets. Contrast in the sensitivity, specificity and accuracy in both sets.\n",
    "2. Visualize some of your algorithm's mistakes (in both directions) and describe what is happening. In other words, consider punks declared very likely to have a cancer that did not and ones that did not have a cancer that it declared very likely that they did. Plot those. Is there a reason why it seems like it's so wrong for these cases?\n",
    "3. Create a python function that takes in an np image array just like the cancerpunks one below and gives probabilities that that punk has this disease."
   ]
  },
  {
   "cell_type": "code",
   "execution_count": 98,
   "id": "0f8f8ffd-cb70-4a1d-a635-cbd56c25debd",
   "metadata": {},
   "outputs": [],
   "source": [
    "\n",
    "import urllib.request\n",
    "import PIL\n",
    "import matplotlib.pyplot as plt\n",
    "import numpy as np\n",
    "import tensorflow as tf\n",
    "from tensorflow.keras import layers, models, losses\n",
    "\n",
    "## Open the image\n",
    "imgURL = \"https://raw.githubusercontent.com/larvalabs/cryptopunks/master/punks.png\"\n",
    "urllib.request.urlretrieve(imgURL, \"cryptoPunksAll.jpg\")\n",
    "img = PIL.Image.open(\"cryptoPunksAll.jpg\").convert(\"RGB\")\n",
    "imgArray = np.asarray(img)\n",
    "\n",
    "n = 10000\n",
    "\n",
    "finalArray = np.empty((n, 24, 24, 3))\n",
    "for i in range(100):\n",
    "  for j in range(100):\n",
    "    a, b = 24 * i, 24 * (i + 1)  \n",
    "    c, d = 24 * j, 24 * (j + 1) \n",
    "    idx = j + i * (100)\n",
    "    finalArray[idx,:,:,:] = imgArray[a:b,c:d,:]\n"
   ]
  },
  {
   "cell_type": "code",
   "execution_count": 99,
   "id": "bdf7c7fb-e483-4f96-8b00-cc0317deafc7",
   "metadata": {},
   "outputs": [
    {
     "data": {
      "text/plain": [
       "<matplotlib.image.AxesImage at 0x7f48f9dec550>"
      ]
     },
     "execution_count": 99,
     "metadata": {},
     "output_type": "execute_result"
    },
    {
     "data": {
      "image/png": "[encoded data removed]",
      "text/plain": [
       "<Figure size 432x288 with 1 Axes>"
      ]
     },
     "metadata": {
      "needs_background": "light"
     },
     "output_type": "display_data"
    }
   ],
   "source": [
    "\n",
    "temp  =  finalArray[0,:,:,:].copy()\n",
    "\n",
    "d2min, d2max = 9,14 \n",
    "d1min, d1max = 11,17\n",
    "\n",
    "temp[d1min : (d1max + 1), d2min : (d2max + 1)] = 255\n",
    "\n",
    "plt.imshow(temp.astype('uint8'))\n",
    "\n"
   ]
  },
  {
   "cell_type": "markdown",
   "id": "45dad281-2563-48c6-b2ac-ce29d56e189b",
   "metadata": {},
   "source": [
    "Our doctors have determined this is the region where the lesion occurs."
   ]
  },
  {
   "cell_type": "code",
   "execution_count": 100,
   "id": "ee471b31-e98e-4f48-838a-db6da35a3c9e",
   "metadata": {},
   "outputs": [],
   "source": [
    "cancerpunks = finalArray.copy()\n",
    "label = np.zeros(n)\n",
    "\n",
    "## Loop over the cryptopunks\n",
    "for i in range(10000):\n",
    "  flip = np.random.randint(0, 2)\n",
    "  if flip is 1:\n",
    "    label[i] = 1\n",
    "    d1loc = np.random.randint(d1min, d1max + 1)\n",
    "    d2loc = np.random.randint(d2min, d2max + 1)\n",
    "    cancerpunks[i,d1loc,d2loc,:] = 255\n"
   ]
  },
  {
   "cell_type": "code",
   "execution_count": 5,
   "id": "93d4a406-952f-427b-97cb-ddf81f8450d6",
   "metadata": {},
   "outputs": [
    {
     "name": "stdout",
     "output_type": "stream",
     "text": [
      "[0. 0. 1. ... 1. 1. 0.]\n",
      "(10000,)\n"
     ]
    }
   ],
   "source": [
    "print(label)\n",
    "print(label.shape)"
   ]
  },
  {
   "cell_type": "code",
   "execution_count": 101,
   "id": "5e55bc7b-f13c-404a-ac61-7eaf2eb72199",
   "metadata": {},
   "outputs": [
    {
     "data": {
      "text/plain": [
       "(10000, 24, 24, 3)"
      ]
     },
     "execution_count": 101,
     "metadata": {},
     "output_type": "execute_result"
    }
   ],
   "source": [
    "cancerpunks.shape"
   ]
  },
  {
   "cell_type": "code",
   "execution_count": 102,
   "id": "27881105-1c0d-46e5-884d-e660159d1690",
   "metadata": {},
   "outputs": [],
   "source": [
    "cancerpunks = cancerpunks.transpose((0, 3, 1, 2))"
   ]
  },
  {
   "cell_type": "code",
   "execution_count": 103,
   "id": "70e0d869-7862-4e18-810e-0a880077aba4",
   "metadata": {},
   "outputs": [
    {
     "data": {
      "text/plain": [
       "(10000, 3, 24, 24)"
      ]
     },
     "execution_count": 103,
     "metadata": {},
     "output_type": "execute_result"
    }
   ],
   "source": [
    "cancerpunks.shape"
   ]
  },
  {
   "cell_type": "code",
   "execution_count": 104,
   "id": "b2f1f9db-3fed-447a-9d83-19f7032b454b",
   "metadata": {},
   "outputs": [
    {
     "name": "stdout",
     "output_type": "stream",
     "text": [
      "Defaulting to user installation because normal site-packages is not writeable\n",
      "Requirement already satisfied: fast_ml in ./.local/lib/python3.9/site-packages (3.68)\n"
     ]
    }
   ],
   "source": [
    "!pip install fast_ml\n",
    "from fast_ml.model_development import train_valid_test_split\n",
    "from sklearn.model_selection import train_test_split"
   ]
  },
  {
   "cell_type": "code",
   "execution_count": null,
   "id": "9369a924-1964-4682-8421-fbb7dacee716",
   "metadata": {},
   "outputs": [],
   "source": []
  },
  {
   "cell_type": "markdown",
   "id": "81a807c8-0de7-444e-9fd6-6d91f1bee98d",
   "metadata": {},
   "source": [
    "2. Train a convolutional neural network to classify punks as diseased or not\n",
    "2.1 Create training and validation sets. Contrast in the sensitivity, specificity and accuracy in both sets."
   ]
  },
  {
   "cell_type": "code",
   "execution_count": 105,
   "id": "5530a4f3-1f2e-4990-b4d9-0a393a6cfe51",
   "metadata": {},
   "outputs": [],
   "source": [
    "import urllib.request\n",
    "import PIL\n",
    "import matplotlib.pyplot as plt\n",
    "import numpy as np\n",
    "import pandas as pd"
   ]
  },
  {
   "cell_type": "code",
   "execution_count": 106,
   "id": "590ba3ba-a037-48ea-a4b4-940ea5c4bb64",
   "metadata": {},
   "outputs": [
    {
     "name": "stdout",
     "output_type": "stream",
     "text": [
      "https://raw.githubusercontent.com/cryptopunksnotdead/punks.attributes/master/original/0-999.csv\n",
      "https://raw.githubusercontent.com/cryptopunksnotdead/punks.attributes/master/original/1000-1999.csv\n",
      "https://raw.githubusercontent.com/cryptopunksnotdead/punks.attributes/master/original/2000-2999.csv\n",
      "https://raw.githubusercontent.com/cryptopunksnotdead/punks.attributes/master/original/3000-3999.csv\n",
      "https://raw.githubusercontent.com/cryptopunksnotdead/punks.attributes/master/original/4000-4999.csv\n",
      "https://raw.githubusercontent.com/cryptopunksnotdead/punks.attributes/master/original/5000-5999.csv\n",
      "https://raw.githubusercontent.com/cryptopunksnotdead/punks.attributes/master/original/6000-6999.csv\n",
      "https://raw.githubusercontent.com/cryptopunksnotdead/punks.attributes/master/original/7000-7999.csv\n",
      "https://raw.githubusercontent.com/cryptopunksnotdead/punks.attributes/master/original/8000-8999.csv\n",
      "https://raw.githubusercontent.com/cryptopunksnotdead/punks.attributes/master/original/9000-9999.csv\n"
     ]
    }
   ],
   "source": [
    "baseUrl = \"https://raw.githubusercontent.com/cryptopunksnotdead/punks.attributes/master/original/\"\n",
    "for i in range(0,10000, 1000):\n",
    "  url = baseUrl+str(i)+\"-\"+str(i + 999)+\".csv\"\n",
    "  print(url)\n",
    "  if (i == 0):\n",
    "    dat = pd.read_csv(url)\n",
    "  else :\n",
    "    dat = pd.concat ([dat, pd.read_csv(url)], \n",
    "                      join = 'inner',\n",
    "                     ignore_index = True)"
   ]
  },
  {
   "cell_type": "code",
   "execution_count": 107,
   "id": "5b4db801-876c-49e1-a30b-c143a197c172",
   "metadata": {},
   "outputs": [],
   "source": [
    "dat.insert(6, 'cancer',  label, allow_duplicates=False)"
   ]
  },
  {
   "cell_type": "code",
   "execution_count": 108,
   "id": "54fe4a7d-3c0b-4e5d-98e2-37f28f2b7674",
   "metadata": {},
   "outputs": [
    {
     "data": {
      "text/html": [
       "<div>\n",
       "<style scoped>\n",
       "    .dataframe tbody tr th:only-of-type {\n",
       "        vertical-align: middle;\n",
       "    }\n",
       "\n",
       "    .dataframe tbody tr th {\n",
       "        vertical-align: top;\n",
       "    }\n",
       "\n",
       "    .dataframe thead th {\n",
       "        text-align: right;\n",
       "    }\n",
       "</style>\n",
       "<table border=\"1\" class=\"dataframe\">\n",
       "  <thead>\n",
       "    <tr style=\"text-align: right;\">\n",
       "      <th></th>\n",
       "      <th>id</th>\n",
       "      <th>type</th>\n",
       "      <th>gender</th>\n",
       "      <th>skin tone</th>\n",
       "      <th>count</th>\n",
       "      <th>accessories</th>\n",
       "      <th>cancer</th>\n",
       "    </tr>\n",
       "  </thead>\n",
       "  <tbody>\n",
       "    <tr>\n",
       "      <th>0</th>\n",
       "      <td>0</td>\n",
       "      <td>Human</td>\n",
       "      <td>Female</td>\n",
       "      <td>Medium</td>\n",
       "      <td>3</td>\n",
       "      <td>Green Eye Shadow / Earring / Blonde Bob</td>\n",
       "      <td>1.0</td>\n",
       "    </tr>\n",
       "    <tr>\n",
       "      <th>1</th>\n",
       "      <td>1</td>\n",
       "      <td>Human</td>\n",
       "      <td>Male</td>\n",
       "      <td>Dark</td>\n",
       "      <td>2</td>\n",
       "      <td>Smile / Mohawk</td>\n",
       "      <td>1.0</td>\n",
       "    </tr>\n",
       "    <tr>\n",
       "      <th>2</th>\n",
       "      <td>2</td>\n",
       "      <td>Human</td>\n",
       "      <td>Female</td>\n",
       "      <td>Light</td>\n",
       "      <td>1</td>\n",
       "      <td>Wild Hair</td>\n",
       "      <td>0.0</td>\n",
       "    </tr>\n",
       "    <tr>\n",
       "      <th>3</th>\n",
       "      <td>3</td>\n",
       "      <td>Human</td>\n",
       "      <td>Male</td>\n",
       "      <td>Dark</td>\n",
       "      <td>3</td>\n",
       "      <td>Wild Hair / Nerd Glasses / Pipe</td>\n",
       "      <td>1.0</td>\n",
       "    </tr>\n",
       "    <tr>\n",
       "      <th>4</th>\n",
       "      <td>4</td>\n",
       "      <td>Human</td>\n",
       "      <td>Male</td>\n",
       "      <td>Medium</td>\n",
       "      <td>4</td>\n",
       "      <td>Big Shades / Wild Hair / Earring / Goat</td>\n",
       "      <td>0.0</td>\n",
       "    </tr>\n",
       "  </tbody>\n",
       "</table>\n",
       "</div>"
      ],
      "text/plain": [
       "   id    type   gender  skin tone   count  \\\n",
       "0   0   Human   Female     Medium       3   \n",
       "1   1   Human     Male       Dark       2   \n",
       "2   2   Human   Female      Light       1   \n",
       "3   3   Human     Male       Dark       3   \n",
       "4   4   Human     Male     Medium       4   \n",
       "\n",
       "                                accessories  cancer  \n",
       "0   Green Eye Shadow / Earring / Blonde Bob     1.0  \n",
       "1                            Smile / Mohawk     1.0  \n",
       "2                                 Wild Hair     0.0  \n",
       "3           Wild Hair / Nerd Glasses / Pipe     1.0  \n",
       "4   Big Shades / Wild Hair / Earring / Goat     0.0  "
      ]
     },
     "execution_count": 108,
     "metadata": {},
     "output_type": "execute_result"
    }
   ],
   "source": [
    "dat.head()"
   ]
  },
  {
   "cell_type": "code",
   "execution_count": 109,
   "id": "b909490b-8340-4dfd-ba80-d099411d7a4b",
   "metadata": {},
   "outputs": [
    {
     "data": {
      "text/plain": [
       "1.0    0.5011\n",
       "0.0    0.4989\n",
       "Name: cancer, dtype: float64"
      ]
     },
     "execution_count": 109,
     "metadata": {},
     "output_type": "execute_result"
    }
   ],
   "source": [
    "dat.cancer.value_counts(normalize=True)"
   ]
  },
  {
   "cell_type": "code",
   "execution_count": 18,
   "id": "8717bd4d-d29b-4a4d-a417-e4a8b4597d39",
   "metadata": {},
   "outputs": [
    {
     "data": {
      "text/plain": [
       "(10000, 3, 24, 24)"
      ]
     },
     "execution_count": 18,
     "metadata": {},
     "output_type": "execute_result"
    }
   ],
   "source": [
    "cancerpunks.shape"
   ]
  },
  {
   "cell_type": "code",
   "execution_count": 110,
   "id": "0e645661-2e8d-4ddd-a26a-58fbb9e36740",
   "metadata": {},
   "outputs": [
    {
     "data": {
      "text/plain": [
       "[(5000, 3, 24, 24),\n",
       " (2500, 3, 24, 24),\n",
       " (2500, 3, 24, 24),\n",
       " (5000, 1),\n",
       " (2500, 1),\n",
       " (2500, 1)]"
      ]
     },
     "execution_count": 110,
     "metadata": {},
     "output_type": "execute_result"
    }
   ],
   "source": [
    "n = cancerpunks.shape[0]\n",
    "trainFraction = .5\n",
    "sample = np.random.uniform(size = n) < trainFraction\n",
    "\n",
    "x = cancerpunks/ 255\n",
    "\n",
    "y = dat.cancer.to_numpy()\n",
    "\n",
    "y= y.reshape(y.shape[0], 1)\n",
    "## Need to have the extra dimension\n",
    "\n",
    "x_train, x_rem, y_train, y_rem = train_test_split(x,y, train_size=0.5)\n",
    "test_size = 0.5\n",
    "x_valid, x_test, y_valid, y_test = train_test_split(x_rem,y_rem, test_size=0.5)\n",
    "[x_train.shape, x_test.shape,x_valid.shape, y_train.shape, y_test.shape, y_valid.shape]\n"
   ]
  },
  {
   "cell_type": "code",
   "execution_count": 111,
   "id": "d07d132e-04c1-435f-8efe-861846ba461d",
   "metadata": {},
   "outputs": [
    {
     "data": {
      "text/plain": [
       "10000"
      ]
     },
     "execution_count": 111,
     "metadata": {},
     "output_type": "execute_result"
    }
   ],
   "source": [
    " label.shape[0]"
   ]
  },
  {
   "cell_type": "code",
   "execution_count": null,
   "id": "6030c682-17ba-4f00-9e2e-3b65d9651ddb",
   "metadata": {},
   "outputs": [],
   "source": []
  },
  {
   "cell_type": "code",
   "execution_count": null,
   "id": "ceff46c9-57f6-4b81-881c-40d001a8e79e",
   "metadata": {},
   "outputs": [],
   "source": [
    "\n"
   ]
  },
  {
   "cell_type": "markdown",
   "id": "e0afe5c9-276b-4183-83d0-ed4334523215",
   "metadata": {},
   "source": [
    "#So, first we have to convert our training data and testing data into pytorch tensors. Then convert them into a dataset format. Then, convert them into a dataloader. The dataloader is useful since it will do things like automate the batch creation for us."
   ]
  },
  {
   "cell_type": "code",
   "execution_count": 112,
   "id": "b8bf5934-7a5d-4a22-9015-8aaf9a54dc93",
   "metadata": {},
   "outputs": [],
   "source": [
    "import torch \n",
    "import torch.nn as nn\n",
    "import torch.nn.functional as F\n",
    "from torch.utils.data import TensorDataset, DataLoader\n",
    "import torchvision\n",
    "import torchvision.transforms as transforms\n",
    "\n",
    "trainDataset = TensorDataset(torch.Tensor(x_train), torch.Tensor(y_train))\n",
    "trainloader = torch.utils.data.DataLoader(trainDataset, batch_size = 100, shuffle = False, num_workers = 1)\n",
    "\n",
    "#Actually, not necessary, I found it's easier to just test out\n",
    "#on the data as a tensor and there's no reason to convert the y test\n",
    "#testDataset  = TensorDataset(torch.Tensor(x_test ), torch.Tensor(y_test ))\n",
    "#testloader  = torch.utils.data.DataLoader(testDataset , batch_size = 100, shuffle = False, num_workers = 1)"
   ]
  },
  {
   "cell_type": "code",
   "execution_count": 113,
   "id": "e4ba9bea-4907-4d24-b75b-0c5734ea0adb",
   "metadata": {},
   "outputs": [
    {
     "data": {
      "image/png": "[encoded data removed]",
      "text/plain": [
       "<Figure size 720x720 with 1 Axes>"
      ]
     },
     "metadata": {},
     "output_type": "display_data"
    },
    {
     "data": {
      "text/plain": [
       "tensor([0., 1., 0., 0., 1., 0., 1., 1.])"
      ]
     },
     "execution_count": 113,
     "metadata": {},
     "output_type": "execute_result"
    }
   ],
   "source": [
    "#use their CIFAR code to check some of our images and labels.\n",
    "dataiter = iter(trainloader)\n",
    "images, labels = dataiter.next()\n",
    "\n",
    "\n",
    "def imshow(img):\n",
    "    npimg = img.numpy()\n",
    "    plt.imshow(np.transpose(npimg, (1, 2, 0)))\n",
    "    plt.xticks([])\n",
    "    plt.yticks([])\n",
    "    plt.show()\n",
    "\n",
    "# get some random training images\n",
    "dataiter = iter(trainloader)\n",
    "images, labels = dataiter.next()\n",
    "\n",
    "\n",
    "# show images\n",
    "\n",
    "plt.figure(figsize = (10, 10))\n",
    "imshow(torchvision.utils.make_grid(images[11 : 19, :, :, :]))\n",
    "\n",
    "# print labels\n",
    "labels[11 : 19,0]"
   ]
  },
  {
   "cell_type": "code",
   "execution_count": 114,
   "id": "314f014a-5d49-461e-817f-ff6df414020c",
   "metadata": {},
   "outputs": [
    {
     "data": {
      "text/plain": [
       "[torch.Size([100, 3, 24, 24]), torch.Size([100, 1])]"
      ]
     },
     "execution_count": 114,
     "metadata": {},
     "output_type": "execute_result"
    }
   ],
   "source": [
    "## Here's the sort of things we can do with the dataloaders\n",
    "## basically iterate over the batches and it gives us stuff in\n",
    "## the right format. Of course, this loop does nothing.\n",
    "for i, data in enumerate(trainloader, 0):\n",
    "  # get the inputs; data is a list of [inputs, labels]\n",
    "  inputs, labels = data\n",
    "[inputs.shape, labels.shape]"
   ]
  },
  {
   "cell_type": "code",
   "execution_count": 115,
   "id": "8b09aaa9-f142-4797-a092-3135127132fc",
   "metadata": {},
   "outputs": [],
   "source": [
    "import torch.nn as nn\n",
    "import torch.nn.functional as F\n",
    "\n",
    "class Net(nn.Module):\n",
    "    def __init__(self):\n",
    "        super().__init__()\n",
    "        self.conv1 = nn.Conv2d(3, 6, 5)\n",
    "        self.pool = nn.MaxPool2d(2, 2)\n",
    "        self.conv2 = nn.Conv2d(6, 16, 5)\n",
    "        ## This has to be changed because the size\n",
    "        ## of our inputs is different than the CFAR\n",
    "        ## example. There's is 32x32 and ours is 24x24\n",
    "        ## Also, I changed the rest of the network architecture\n",
    "        ## here\n",
    "        ## Finally, we only have one output.\n",
    "        self.fc1 = nn.Linear(16 * 3 * 3, 64)\n",
    "        self.fc2 = nn.Linear(64, 32)\n",
    "        self.fc3 = nn.Linear(32, 1)\n",
    "\n",
    "    def forward(self, x):\n",
    "        x = self.pool(F.relu(self.conv1(x)))\n",
    "        x = self.pool(F.relu(self.conv2(x)))\n",
    "        x = torch.flatten(x, 1) # flatten all dimensions except batch\n",
    "        x = F.relu(self.fc1(x))\n",
    "        x = F.relu(self.fc2(x))\n",
    "        x = torch.sigmoid(self.fc3(x))\n",
    "        return x\n",
    "net = Net()"
   ]
  },
  {
   "cell_type": "code",
   "execution_count": 116,
   "id": "0266088a-53b8-4056-a4e7-1ea7e4a08f8a",
   "metadata": {},
   "outputs": [
    {
     "name": "stdout",
     "output_type": "stream",
     "text": [
      "Net(\n",
      "  (conv1): Conv2d(3, 6, kernel_size=(5, 5), stride=(1, 1))\n",
      "  (pool): MaxPool2d(kernel_size=2, stride=2, padding=0, dilation=1, ceil_mode=False)\n",
      "  (conv2): Conv2d(6, 16, kernel_size=(5, 5), stride=(1, 1))\n",
      "  (fc1): Linear(in_features=144, out_features=64, bias=True)\n",
      "  (fc2): Linear(in_features=64, out_features=32, bias=True)\n",
      "  (fc3): Linear(in_features=32, out_features=1, bias=True)\n",
      ")\n"
     ]
    }
   ],
   "source": [
    "print(net)"
   ]
  },
  {
   "cell_type": "code",
   "execution_count": 117,
   "id": "cb497bae-1ed7-44a4-a978-07a519e0b4a2",
   "metadata": {},
   "outputs": [
    {
     "data": {
      "text/plain": [
       "torch.Size([100, 1])"
      ]
     },
     "execution_count": 117,
     "metadata": {},
     "output_type": "execute_result"
    }
   ],
   "source": [
    "net(inputs).shape"
   ]
  },
  {
   "cell_type": "code",
   "execution_count": 118,
   "id": "205d51a4-149f-4d95-9dfe-7c8a29e4ff96",
   "metadata": {},
   "outputs": [],
   "source": [
    "import torch.optim as optim\n",
    "#criterion = nn.CrossEntropyLoss()\n",
    "criterion = nn.BCELoss()\n",
    "optimizer = optim.SGD(net.parameters(), lr=0.001, momentum=0.9)"
   ]
  },
  {
   "cell_type": "code",
   "execution_count": 119,
   "id": "02d84827-6c06-4aea-a195-106dec67d227",
   "metadata": {},
   "outputs": [
    {
     "name": "stdout",
     "output_type": "stream",
     "text": [
      "Finished Training\n"
     ]
    }
   ],
   "source": [
    "for epoch in range(52):  # loop over the dataset multiple times\n",
    "    running_loss = 0.0\n",
    "    for i, data in enumerate(trainloader, 0):\n",
    "        # get the inputs; data is a list of [inputs, labels]\n",
    "        inputs, labels = data\n",
    "\n",
    "        # zero the parameter gradients\n",
    "        optimizer.zero_grad()\n",
    "\n",
    "        # forward + backward + optimize\n",
    "        outputs = net(inputs)\n",
    "\n",
    "        loss = criterion(outputs, labels)\n",
    "        loss.backward()\n",
    "        optimizer.step()\n",
    "\n",
    "        # print statistics\n",
    "        running_loss += loss.item()\n",
    "#        if i % 2000 == 1999:    # print every 2000 mini-batches\n",
    "#            print('[%d, %5d] loss: %.3f' %\n",
    "#                  (epoch + 1, i + 1, running_loss / 2000))\n",
    "#            running_loss = 0.0\n",
    "\n",
    "print('Finished Training')"
   ]
  },
  {
   "cell_type": "code",
   "execution_count": null,
   "id": "e508595b-fb47-418d-bb67-d22c195a31db",
   "metadata": {},
   "outputs": [],
   "source": []
  },
  {
   "cell_type": "code",
   "execution_count": 75,
   "id": "562ce00a-09e4-4dac-9fc4-8ebcab1f9e0b",
   "metadata": {},
   "outputs": [
    {
     "data": {
      "image/png": "[encoded data removed]",
      "text/plain": [
       "<Figure size 432x288 with 1 Axes>"
      ]
     },
     "metadata": {
      "needs_background": "light"
     },
     "output_type": "display_data"
    }
   ],
   "source": [
    "## Run the testing data through the NN\n",
    "testout = net(torch.Tensor(x_test)).detach().numpy()\n",
    "\n",
    "## Compare with the testing labels\n",
    "from sklearn.metrics import accuracy_score, roc_curve, auc\n",
    "fpr, tpr, thresholds = roc_curve(y_test, testout)\n",
    "roc_auc = auc(fpr, tpr)\n",
    "\n",
    "plt.figure()\n",
    "lw = 2\n",
    "plt.plot(fpr, tpr, color='darkorange',\n",
    "         lw=lw, label='ROC curve (area = %0.2f)' % roc_auc)\n",
    "plt.plot([0, 1], [0, 1], color='navy', lw=lw, linestyle='--')\n",
    "plt.xlim([-0.05, 1.05])\n",
    "plt.ylim([-0.05, 1.05])\n",
    "plt.xlabel('1-specificity ')\n",
    "plt.ylabel('sensitivity')\n",
    "plt.title('Receiver operating characteristic example')\n",
    "plt.legend(loc=\"lower right\")\n",
    "plt.show()"
   ]
  },
  {
   "cell_type": "code",
   "execution_count": 79,
   "id": "869f81d2-1e9c-40e3-88b9-012a4abe6e93",
   "metadata": {},
   "outputs": [
    {
     "data": {
      "text/plain": [
       "0.52534208"
      ]
     },
     "execution_count": 79,
     "metadata": {},
     "output_type": "execute_result"
    }
   ],
   "source": [
    "roc_auc"
   ]
  },
  {
   "cell_type": "code",
   "execution_count": null,
   "id": "e00d5878-68f5-488d-b125-317285ec6ba7",
   "metadata": {},
   "outputs": [],
   "source": []
  },
  {
   "cell_type": "markdown",
   "id": "8550fbfa-0356-48e1-bd0a-1be62ccb8309",
   "metadata": {},
   "source": [
    "#Validation sets:"
   ]
  },
  {
   "cell_type": "code",
   "execution_count": 76,
   "id": "554f1bbd-81da-4b27-a608-545d781cc24c",
   "metadata": {},
   "outputs": [
    {
     "data": {
      "image/png": "[encoded data removed]",
      "text/plain": [
       "<Figure size 432x288 with 1 Axes>"
      ]
     },
     "metadata": {
      "needs_background": "light"
     },
     "output_type": "display_data"
    }
   ],
   "source": [
    "## Run the testing data through the NN\n",
    "testout = net(torch.Tensor(x_valid)).detach().numpy()\n",
    "\n",
    "## Compare with the valid labels\n",
    "from sklearn.metrics import accuracy_score, roc_curve, auc\n",
    "fpr, tpr, thresholds = roc_curve(y_valid, testout)\n",
    "roc_auc = auc(fpr, tpr)\n",
    "\n",
    "plt.figure()\n",
    "lw = 2\n",
    "plt.plot(fpr, tpr, color='darkorange',\n",
    "         lw=lw, label='ROC curve (area = %0.2f)' % roc_auc)\n",
    "plt.plot([0, 1], [0, 1], color='navy', lw=lw, linestyle='--')\n",
    "plt.xlim([-0.05, 1.05])\n",
    "plt.ylim([-0.05, 1.05])\n",
    "plt.xlabel('1-specificity ')\n",
    "plt.ylabel('sensitivity')\n",
    "plt.title('Receiver operating characteristic example')\n",
    "plt.legend(loc=\"lower right\")\n",
    "plt.show()"
   ]
  },
  {
   "cell_type": "code",
   "execution_count": 78,
   "id": "11a2c70a-a93c-4e8f-a2ea-d2639e16970c",
   "metadata": {},
   "outputs": [
    {
     "data": {
      "text/plain": [
       "0.52534208"
      ]
     },
     "execution_count": 78,
     "metadata": {},
     "output_type": "execute_result"
    }
   ],
   "source": [
    "roc_auc "
   ]
  },
  {
   "cell_type": "markdown",
   "id": "25aa49ce-7ca2-464e-909a-db31b785404a",
   "metadata": {},
   "source": [
    "Training set: ROC: 0.54  \n",
    "Validation set: ROC 0.53  "
   ]
  },
  {
   "cell_type": "markdown",
   "id": "77c75705-3b0c-407b-b3f4-2309f46cc060",
   "metadata": {},
   "source": [
    "Question 2"
   ]
  },
  {
   "cell_type": "code",
   "execution_count": 82,
   "id": "39e969ec-d053-4ab6-a4f8-68240d685b15",
   "metadata": {},
   "outputs": [
    {
     "data": {
      "image/png": "[encoded data removed]",
      "text/plain": [
       "<Figure size 432x288 with 1 Axes>"
      ]
     },
     "metadata": {
      "needs_background": "light"
     },
     "output_type": "display_data"
    }
   ],
   "source": [
    "##Q2\n",
    "from scipy.optimize import brentq\n",
    "from sklearn.metrics import roc_curve\n",
    "from scipy.interpolate import interp1d\n",
    "##testing set\n",
    "testout = net(torch.Tensor(x_test)).detach().numpy()\n",
    "from sklearn.metrics import accuracy_score, roc_curve, auc\n",
    "fpr, tpr, thresholds = roc_curve(y_test, testout)\n",
    "eer = brentq(lambda x : 1. - x - interp1d(fpr, tpr)(x), 0., 1.)\n",
    "thresh = interp1d(fpr, thresholds)(eer)\n",
    "\n",
    "plt.figure()\n",
    "## TPR + FNR = 1\n",
    "lw = 2\n",
    "plt.plot(fpr, 1-tpr, color='darkorange',\n",
    "         lw=lw, label='EER curve (area = %0.2f)' % eer)\n",
    "plt.plot([0, 1], [0, 1], color='navy', lw=lw, linestyle='--')\n",
    "plt.xlim([-0.05, 1.05])\n",
    "plt.ylim([-0.05, 1.05])\n",
    "plt.xlabel('False positive rate ')\n",
    "plt.ylabel('False negative rate')\n",
    "plt.title('Equal Error Rate')\n",
    "plt.legend(loc=\"lower right\")\n",
    "plt.show()"
   ]
  },
  {
   "cell_type": "code",
   "execution_count": 83,
   "id": "d3adf89c-7bbc-43f5-bfd1-c4e494f2a33e",
   "metadata": {},
   "outputs": [
    {
     "data": {
      "image/png": "[encoded data removed]",
      "text/plain": [
       "<Figure size 432x288 with 1 Axes>"
      ]
     },
     "metadata": {
      "needs_background": "light"
     },
     "output_type": "display_data"
    }
   ],
   "source": [
    "##validation set\n",
    "testout = net(torch.Tensor(x_valid)).detach().numpy()\n",
    "from sklearn.metrics import accuracy_score, roc_curve, auc\n",
    "fpr, tpr, thresholds = roc_curve(y_valid, testout)\n",
    "eer = brentq(lambda x : 1. - x - interp1d(fpr, tpr)(x), 0., 1.)\n",
    "thresh = interp1d(fpr, thresholds)(eer)\n",
    "\n",
    "plt.figure()\n",
    "lw = 2\n",
    "## TPR + FNR = 1\n",
    "plt.plot(fpr, 1-tpr, color='darkorange',\n",
    "         lw=lw, label='EER curve (area = %0.2f)' % eer)\n",
    "plt.plot([0, 1], [0, 1], color='navy', lw=lw, linestyle='--')\n",
    "plt.xlim([-0.05, 1.05])\n",
    "plt.ylim([-0.05, 1.05])\n",
    "plt.xlabel('False positive rate ')\n",
    "plt.ylabel('False negative rate')\n",
    "plt.title('Equal Error Rate')\n",
    "plt.legend(loc=\"lower right\")\n",
    "plt.show()\n"
   ]
  },
  {
   "cell_type": "markdown",
   "id": "23c33fd8-6be1-49e4-b5b3-c51f51b28148",
   "metadata": {},
   "source": [
    " Visualize some of your algorithm's mistakes (in both directions) and describe what is happening. In other words, consider punks declared very likely to have a cancer that did not and ones that did not have a cancer that it declared very likely that they did. Plot those. \n",
    " \n",
    "From the plot we can see the EER curve area=0.48 for testing set and 0.49 for validation set, indicating poor performance.\n",
    "\n",
    " Is there a reason why it seems like it's so wrong for these cases?\n",
    "One reason is that we trained a complex NN models and did not use external validation?"
   ]
  },
  {
   "cell_type": "markdown",
   "id": "a773bfb6-0793-4ca7-834c-bf6704b1836e",
   "metadata": {},
   "source": [
    "Q3. Create a python function that takes in an np image array just like the cancerpunks one below and gives probabilities that that punk has this disease."
   ]
  },
  {
   "cell_type": "code",
   "execution_count": 122,
   "id": "be939655-b64a-4827-86c2-23a4f0a86399",
   "metadata": {},
   "outputs": [],
   "source": [
    "\n",
    "\n",
    "def cancer(i,j):\n",
    "     a, b = 24 * i, 24 * (i + 1)  \n",
    "     c, d = 24 * j, 24 * (j + 1)\n",
    "     idx = j + i * (100)\n",
    "     cancerpunks[idx,0,:,:]=imgArray[a:b,c:d,0]\n",
    "     cancerpunks[idx,1,:,:]=imgArray[a:b,c:d,1]\n",
    "     cancerpunks[idx,2,:,:]=imgArray[a:b,c:d,2]\n",
    "     pro_x = net(torch.Tensor(cancerpunks)).detach().numpy().mean()\n",
    "  \n",
    "     print(pro_x)\n"
   ]
  },
  {
   "cell_type": "code",
   "execution_count": 124,
   "id": "9c3ea1a0-4f22-405c-af2b-cc59e6161d09",
   "metadata": {},
   "outputs": [
    {
     "name": "stdout",
     "output_type": "stream",
     "text": [
      "0.73744434\n"
     ]
    }
   ],
   "source": [
    "cancer(11,2)"
   ]
  },
  {
   "cell_type": "code",
   "execution_count": null,
   "id": "47337266-35a0-4165-8b74-e6bc36b707bc",
   "metadata": {},
   "outputs": [],
   "source": []
  }
 ],
 "metadata": {
  "kernelspec": {
   "display_name": "Python 3 (ipykernel)",
   "language": "python",
   "name": "python3"
  },
  "language_info": {
   "codemirror_mode": {
    "name": "ipython",
    "version": 3
   },
   "file_extension": ".py",
   "mimetype": "text/x-python",
   "name": "python",
   "nbconvert_exporter": "python",
   "pygments_lexer": "ipython3",
   "version": "3.9.7"
  }
 },
 "nbformat": 4,
 "nbformat_minor": 5
}
