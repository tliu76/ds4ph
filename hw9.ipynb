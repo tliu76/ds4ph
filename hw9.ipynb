{
 "cells": [
  {
   "cell_type": "code",
   "execution_count": 1,
   "id": "ed94b6a5-b237-41c4-9089-4060d9bcbbbc",
   "metadata": {},
   "outputs": [
    {
     "data": {
      "text/html": [
       "<div>\n",
       "<style scoped>\n",
       "    .dataframe tbody tr th:only-of-type {\n",
       "        vertical-align: middle;\n",
       "    }\n",
       "\n",
       "    .dataframe tbody tr th {\n",
       "        vertical-align: top;\n",
       "    }\n",
       "\n",
       "    .dataframe thead th {\n",
       "        text-align: right;\n",
       "    }\n",
       "</style>\n",
       "<table border=\"1\" class=\"dataframe\">\n",
       "  <thead>\n",
       "    <tr style=\"text-align: right;\">\n",
       "      <th></th>\n",
       "      <th>Province/State</th>\n",
       "      <th>Country/Region</th>\n",
       "      <th>Lat</th>\n",
       "      <th>Long</th>\n",
       "      <th>1/22/20</th>\n",
       "      <th>1/23/20</th>\n",
       "      <th>1/24/20</th>\n",
       "      <th>1/25/20</th>\n",
       "      <th>1/26/20</th>\n",
       "      <th>1/27/20</th>\n",
       "      <th>...</th>\n",
       "      <th>4/25/22</th>\n",
       "      <th>4/26/22</th>\n",
       "      <th>4/27/22</th>\n",
       "      <th>4/28/22</th>\n",
       "      <th>4/29/22</th>\n",
       "      <th>4/30/22</th>\n",
       "      <th>5/1/22</th>\n",
       "      <th>5/2/22</th>\n",
       "      <th>5/3/22</th>\n",
       "      <th>5/4/22</th>\n",
       "    </tr>\n",
       "  </thead>\n",
       "  <tbody>\n",
       "    <tr>\n",
       "      <th>0</th>\n",
       "      <td>NaN</td>\n",
       "      <td>Afghanistan</td>\n",
       "      <td>33.93911</td>\n",
       "      <td>67.709953</td>\n",
       "      <td>0</td>\n",
       "      <td>0</td>\n",
       "      <td>0</td>\n",
       "      <td>0</td>\n",
       "      <td>0</td>\n",
       "      <td>0</td>\n",
       "      <td>...</td>\n",
       "      <td>178745</td>\n",
       "      <td>178769</td>\n",
       "      <td>178809</td>\n",
       "      <td>178850</td>\n",
       "      <td>178873</td>\n",
       "      <td>178879</td>\n",
       "      <td>178899</td>\n",
       "      <td>178901</td>\n",
       "      <td>178901</td>\n",
       "      <td>178901</td>\n",
       "    </tr>\n",
       "    <tr>\n",
       "      <th>1</th>\n",
       "      <td>NaN</td>\n",
       "      <td>Albania</td>\n",
       "      <td>41.15330</td>\n",
       "      <td>20.168300</td>\n",
       "      <td>0</td>\n",
       "      <td>0</td>\n",
       "      <td>0</td>\n",
       "      <td>0</td>\n",
       "      <td>0</td>\n",
       "      <td>0</td>\n",
       "      <td>...</td>\n",
       "      <td>274828</td>\n",
       "      <td>274862</td>\n",
       "      <td>274929</td>\n",
       "      <td>275002</td>\n",
       "      <td>275055</td>\n",
       "      <td>275107</td>\n",
       "      <td>275167</td>\n",
       "      <td>275177</td>\n",
       "      <td>275191</td>\n",
       "      <td>275211</td>\n",
       "    </tr>\n",
       "    <tr>\n",
       "      <th>2</th>\n",
       "      <td>NaN</td>\n",
       "      <td>Algeria</td>\n",
       "      <td>28.03390</td>\n",
       "      <td>1.659600</td>\n",
       "      <td>0</td>\n",
       "      <td>0</td>\n",
       "      <td>0</td>\n",
       "      <td>0</td>\n",
       "      <td>0</td>\n",
       "      <td>0</td>\n",
       "      <td>...</td>\n",
       "      <td>265771</td>\n",
       "      <td>265772</td>\n",
       "      <td>265773</td>\n",
       "      <td>265776</td>\n",
       "      <td>265779</td>\n",
       "      <td>265780</td>\n",
       "      <td>265782</td>\n",
       "      <td>265782</td>\n",
       "      <td>265782</td>\n",
       "      <td>265782</td>\n",
       "    </tr>\n",
       "    <tr>\n",
       "      <th>3</th>\n",
       "      <td>NaN</td>\n",
       "      <td>Andorra</td>\n",
       "      <td>42.50630</td>\n",
       "      <td>1.521800</td>\n",
       "      <td>0</td>\n",
       "      <td>0</td>\n",
       "      <td>0</td>\n",
       "      <td>0</td>\n",
       "      <td>0</td>\n",
       "      <td>0</td>\n",
       "      <td>...</td>\n",
       "      <td>41013</td>\n",
       "      <td>41013</td>\n",
       "      <td>41013</td>\n",
       "      <td>41349</td>\n",
       "      <td>41349</td>\n",
       "      <td>41349</td>\n",
       "      <td>41349</td>\n",
       "      <td>41349</td>\n",
       "      <td>41349</td>\n",
       "      <td>41717</td>\n",
       "    </tr>\n",
       "    <tr>\n",
       "      <th>4</th>\n",
       "      <td>NaN</td>\n",
       "      <td>Angola</td>\n",
       "      <td>-11.20270</td>\n",
       "      <td>17.873900</td>\n",
       "      <td>0</td>\n",
       "      <td>0</td>\n",
       "      <td>0</td>\n",
       "      <td>0</td>\n",
       "      <td>0</td>\n",
       "      <td>0</td>\n",
       "      <td>...</td>\n",
       "      <td>99287</td>\n",
       "      <td>99287</td>\n",
       "      <td>99287</td>\n",
       "      <td>99287</td>\n",
       "      <td>99287</td>\n",
       "      <td>99287</td>\n",
       "      <td>99287</td>\n",
       "      <td>99287</td>\n",
       "      <td>99287</td>\n",
       "      <td>99287</td>\n",
       "    </tr>\n",
       "  </tbody>\n",
       "</table>\n",
       "<p>5 rows × 838 columns</p>\n",
       "</div>"
      ],
      "text/plain": [
       "  Province/State Country/Region       Lat       Long  1/22/20  1/23/20  \\\n",
       "0            NaN    Afghanistan  33.93911  67.709953        0        0   \n",
       "1            NaN        Albania  41.15330  20.168300        0        0   \n",
       "2            NaN        Algeria  28.03390   1.659600        0        0   \n",
       "3            NaN        Andorra  42.50630   1.521800        0        0   \n",
       "4            NaN         Angola -11.20270  17.873900        0        0   \n",
       "\n",
       "   1/24/20  1/25/20  1/26/20  1/27/20  ...  4/25/22  4/26/22  4/27/22  \\\n",
       "0        0        0        0        0  ...   178745   178769   178809   \n",
       "1        0        0        0        0  ...   274828   274862   274929   \n",
       "2        0        0        0        0  ...   265771   265772   265773   \n",
       "3        0        0        0        0  ...    41013    41013    41013   \n",
       "4        0        0        0        0  ...    99287    99287    99287   \n",
       "\n",
       "   4/28/22  4/29/22  4/30/22  5/1/22  5/2/22  5/3/22  5/4/22  \n",
       "0   178850   178873   178879  178899  178901  178901  178901  \n",
       "1   275002   275055   275107  275167  275177  275191  275211  \n",
       "2   265776   265779   265780  265782  265782  265782  265782  \n",
       "3    41349    41349    41349   41349   41349   41349   41717  \n",
       "4    99287    99287    99287   99287   99287   99287   99287  \n",
       "\n",
       "[5 rows x 838 columns]"
      ]
     },
     "execution_count": 1,
     "metadata": {},
     "output_type": "execute_result"
    }
   ],
   "source": [
    "import pandas as pd\n",
    "import numpy as np\n",
    "from sklearn import linear_model\n",
    "import matplotlib.pyplot as plt\n",
    "import statsmodels.api as sm\n",
    "import csv\n",
    "dat = pd.read_csv('https://raw.githubusercontent.com/CSSEGISandData/COVID-19/master/csse_covid_19_data/csse_covid_19_time_series/time_series_covid19_confirmed_global.csv')\n",
    "dat.head()"
   ]
  },
  {
   "cell_type": "code",
   "execution_count": 2,
   "id": "171d0d24-4d0e-4c15-a97d-89cd65cc410b",
   "metadata": {},
   "outputs": [],
   "source": [
    "## Get Italy, drop everyrthing except dates, convert to long (unstack converts to tuple)\n",
    "y=dat[dat['Country/Region'] == 'Italy'].drop([\"Province/State\", \"Country/Region\", \"Lat\", \"Long\"], axis=1).unstack()\n",
    "## convert from tuple to array\n",
    "y = np.asarray(y)  \n",
    "## get case counts instead of cumulative counts\n",
    "y = y[1 : y.size] - y[0 : (y.size - 1)]\n",
    "## get the first non zero entry\n",
    "y =  y[np.min(np.where(y !=  0)) : y.size]"
   ]
  },
  {
   "cell_type": "code",
   "execution_count": 3,
   "id": "adadb21f-0d0e-458e-aeb8-26fd4acd88db",
   "metadata": {},
   "outputs": [],
   "source": [
    "y1= y[np.min(np.where(y !=  0))+5 : y.size]\n",
    "x1=y[np.min(np.where(y !=  0))+4 : y.size-1]\n",
    "x2=y[np.min(np.where(y !=  0))+3 : y.size-2]\n",
    "x3=y[np.min(np.where(y !=  0))+2 : y.size-3]\n",
    "x4=y[np.min(np.where(y !=  0))+1 : y.size-4]\n",
    "x5=y[np.min(np.where(y !=  0)) : y.size-5]\n",
    "\n",
    "data = {\"Y\": y1, \"X1\": x1, \"X2\": x2, \"X3\": x3,\"X4\": x4,\"X5\": x5}"
   ]
  },
  {
   "cell_type": "code",
   "execution_count": 4,
   "id": "da5010d8-32cf-44c5-a326-68719a778482",
   "metadata": {},
   "outputs": [],
   "source": [
    "df = pd.DataFrame(data)\n",
    "from sklearn.linear_model import LinearRegression\n",
    "import statsmodels.formula.api as smf\n",
    "\n",
    "\n",
    "\n",
    "\n"
   ]
  },
  {
   "cell_type": "code",
   "execution_count": 5,
   "id": "aef1b32b-35f9-47a5-991e-9796c2e79959",
   "metadata": {},
   "outputs": [],
   "source": [
    "import networkx as nx\n",
    "import matplotlib.pyplot as plt\n",
    "import numpy as np\n",
    "import sklearn as skl"
   ]
  },
  {
   "cell_type": "code",
   "execution_count": 6,
   "id": "90e0f4a3-943b-4beb-9fa7-6a1b9df074f9",
   "metadata": {},
   "outputs": [],
   "source": [
    "G = nx.DiGraph()\n",
    "G.add_node(\"X1\",     pos = (0, 2) )\n",
    "G.add_node(\"X2\",     pos = (1, 2) )\n",
    "G.add_node(\"X3\",     pos = (2, 2) )\n",
    "G.add_node(\"X4\",     pos = (3, 2) )\n",
    "G.add_node(\"X5\",     pos = (4, 2) )\n",
    "\n",
    "G.add_node(\"H1\",  pos = (1.0, 1) )\n",
    "G.add_node(\"H2\",  pos = (3.0, 1) )\n",
    "\n",
    "\n",
    "G.add_node(\"Y\" ,  pos = (2, 0) )"
   ]
  },
  {
   "cell_type": "code",
   "execution_count": 7,
   "id": "04c5e2a4-94cd-49a1-9256-569087c8d14c",
   "metadata": {},
   "outputs": [
    {
     "data": {
      "image/png": "[encoded data removed]",
      "text/plain": [
       "<Figure size 432x288 with 1 Axes>"
      ]
     },
     "metadata": {},
     "output_type": "display_data"
    }
   ],
   "source": [
    "G.add_edges_from([ (\"X1\", \"H1\"), (\"X2\", \"H1\"), (\"X3\", \"H1\"),  (\"X4\", \"H1\"), (\"X5\", \"H1\")])\n",
    "G.add_edges_from([ (\"X1\", \"H2\"), (\"X2\", \"H2\"), (\"X3\", \"H2\"),  (\"X4\", \"H2\"), (\"X5\", \"H2\")])\n",
    "\n",
    "\n",
    "G.add_edges_from([ (\"H1\",  \"Y\"), (\"H2\",  \"Y\")])\n",
    "nx.draw(G, \n",
    "        nx.get_node_attributes(G, 'pos'), \n",
    "        with_labels=True, \n",
    "        font_weight='bold', \n",
    "        node_size = 3000,\n",
    "        node_color = \"lightblue\",\n",
    "        linewidths = 3)\n",
    "ax= plt.gca()\n",
    "ax.collections[0].set_edgecolor(\"#000000\")\n",
    "ax.set_xlim([-.5, 5.5])\n",
    "ax.set_ylim([-.3, 2.3])\n",
    "plt.show()"
   ]
  },
  {
   "cell_type": "code",
   "execution_count": 8,
   "id": "b5c97e78-effc-4bb2-bee2-81d899156d53",
   "metadata": {},
   "outputs": [
    {
     "name": "stdout",
     "output_type": "stream",
     "text": [
      "[0 0 0 0 0 2]\n"
     ]
    }
   ],
   "source": [
    "import torch\n",
    "import numpy as np\n",
    "import pandas as pd\n",
    "import seaborn as sns\n",
    "import matplotlib.pyplot as plt\n",
    "import sklearn.linear_model as lm\n",
    "sns.set()\n",
    "X = df.values\n",
    "train_size = int(len(X) * 0.5)\n",
    "train, test = X[0:train_size], X[:]\n",
    "\n",
    "print(X[0])"
   ]
  },
  {
   "cell_type": "code",
   "execution_count": 9,
   "id": "fb0f728e-94d1-487e-a23f-63e8c4a40280",
   "metadata": {},
   "outputs": [],
   "source": [
    "train_X1, train_X2,train_X3,train_X4,train_X5,train_Y = train[:,0], train[:,1], train[:,2], train[:,3], train[:,4], train[:,5]\n",
    "test_X1, test_X2,test_X3,test_X4,test_X5,test_Y = test[:,0], test[:,1], test[:,2], test[:,3], test[:,4], test[:,5]"
   ]
  },
  {
   "cell_type": "code",
   "execution_count": 10,
   "id": "a0c34b35-df82-4254-ab0d-f1157ed77a0e",
   "metadata": {},
   "outputs": [
    {
     "data": {
      "text/plain": [
       "['Ytr', 'X1tr', 'X2tr', 'X3tr', 'X4tr', 'X5tr']"
      ]
     },
     "execution_count": 10,
     "metadata": {},
     "output_type": "execute_result"
    }
   ],
   "source": [
    "data_train = {\"Ytr\": train_Y, \"X1tr\": train_X1, \"X2tr\": train_X2, \"X3tr\": train_X3,\"X4tr\": train_X4,\"X5tr\": train_X5}\n",
    "\n",
    "df_train = pd.DataFrame(data_train)\n",
    "\n",
    "data_test = {\"Yte\": test_Y, \"X1te\": test_X1, \"X2te\": test_X2, \"X3te\": test_X3,\"X4te\": test_X4,\"X5te\": test_X5}\n",
    "\n",
    "df_test = pd.DataFrame(data_test)\n",
    "df_train.columns.values.tolist()"
   ]
  },
  {
   "cell_type": "code",
   "execution_count": 11,
   "id": "58bc0853-d7f9-4cf9-81da-577daf254590",
   "metadata": {},
   "outputs": [],
   "source": [
    "xtr = torch.from_numpy(df_train[['X1tr','X2tr', 'X3tr', 'X4tr', 'X5tr', ]].values)"
   ]
  },
  {
   "cell_type": "code",
   "execution_count": 12,
   "id": "d25a892c-a393-48fd-9896-754e387513c9",
   "metadata": {},
   "outputs": [],
   "source": [
    "ytr = torch.from_numpy(df_train[['Ytr']].values)"
   ]
  },
  {
   "cell_type": "code",
   "execution_count": 13,
   "id": "9b527783-ec7e-4b5f-93c9-4b0771b4aaf6",
   "metadata": {},
   "outputs": [],
   "source": [
    "xte=torch.from_numpy(df_test[['X1te','X2te', 'X3te', 'X4te', 'X5te', ]].values)"
   ]
  },
  {
   "cell_type": "code",
   "execution_count": 14,
   "id": "05600869-02c5-4f67-b4ad-9b22ccf3f3c7",
   "metadata": {},
   "outputs": [],
   "source": [
    "yte=torch.from_numpy(df_test[['Yte' ]].values)"
   ]
  },
  {
   "cell_type": "code",
   "execution_count": 15,
   "id": "3287e59f-4ca4-4006-9944-c4c1d441792a",
   "metadata": {},
   "outputs": [],
   "source": [
    "xtr = xtr.float()\n",
    "ytr = ytr.float()\n",
    "xte = xte.float()\n",
    "yte = yte.float()"
   ]
  },
  {
   "cell_type": "code",
   "execution_count": 16,
   "id": "22068899-6b6c-4943-b1b3-08daef5c6f07",
   "metadata": {},
   "outputs": [
    {
     "data": {
      "text/plain": [
       "[torch.Size([410, 5]),\n",
       " torch.Size([410, 1]),\n",
       " torch.Size([820, 5]),\n",
       " torch.Size([820, 1])]"
      ]
     },
     "execution_count": 16,
     "metadata": {},
     "output_type": "execute_result"
    }
   ],
   "source": [
    "xtraining = xtr\n",
    "xtesting = xte\n",
    "ytraining = ytr \n",
    "ytesting = yte\n",
    "\n",
    "[\n",
    " xtraining.size(),\n",
    " ytraining.size(),\n",
    " xtesting.size(),\n",
    " ytesting.size(),\n",
    "]"
   ]
  },
  {
   "cell_type": "code",
   "execution_count": 17,
   "id": "fccd1e2a-5985-45c1-ad12-cd6dac61f449",
   "metadata": {},
   "outputs": [],
   "source": [
    "## Define the model\n",
    "## Dimension of the hidden layer\n",
    "H = 2\n",
    "\n",
    "## Number of predictors\n",
    "D_in = xtraining.size()[1]\n",
    "D_out = 1\n",
    "\n",
    "model = torch.nn.Sequential(\n",
    "    torch.nn.Linear(D_in, H),\n",
    "    torch.nn.ReLU(),\n",
    "    torch.nn.Linear(H, D_out),\n",
    ")"
   ]
  },
  {
   "cell_type": "code",
   "execution_count": 18,
   "id": "93075459-2c56-4930-8e67-7268a3068750",
   "metadata": {},
   "outputs": [
    {
     "name": "stdout",
     "output_type": "stream",
     "text": [
      "0 140665765888.0\n",
      "10000 39088312320.0\n",
      "20000 39088312320.0\n",
      "30000 39088312320.0\n",
      "40000 39088312320.0\n",
      "50000 39088312320.0\n",
      "60000 39088312320.0\n",
      "70000 39088312320.0\n",
      "80000 39088312320.0\n",
      "90000 39088312320.0\n"
     ]
    }
   ],
   "source": [
    "loss_fn = torch.nn.MSELoss(reduction='sum')\n",
    "\n",
    "learning_rate = 1e-4\n",
    "for t in range(100000):\n",
    "    y_pred = model(xtraining)\n",
    "    loss = loss_fn(y_pred, ytraining)\n",
    "    if t % 10000 == 0:\n",
    "        print(t, loss.item())\n",
    "    model.zero_grad()\n",
    "    loss.backward()\n",
    "    with torch.no_grad():\n",
    "        for param in model.parameters():\n",
    "            param -= learning_rate * param.grad"
   ]
  },
  {
   "cell_type": "code",
   "execution_count": 19,
   "id": "8b5d26d1-2e9f-4bd0-8cde-007a7840c7b2",
   "metadata": {},
   "outputs": [
    {
     "data": {
      "text/plain": [
       "<matplotlib.collections.PathCollection at 0x7f0cf893d5e0>"
      ]
     },
     "execution_count": 19,
     "metadata": {},
     "output_type": "execute_result"
    },
    {
     "data": {
      "image/png": "[encoded data removed]",
      "text/plain": [
       "<Figure size 432x288 with 1 Axes>"
      ]
     },
     "metadata": {},
     "output_type": "display_data"
    }
   ],
   "source": [
    "## try prediction\n",
    "ytesting_pred = model(xtesting)\n",
    "a = ytesting_pred.detach().numpy()\n",
    "\n",
    "plt.scatter(a[:,0], ytesting[:,0])"
   ]
  },
  {
   "cell_type": "code",
   "execution_count": 20,
   "id": "51542516-f1c5-405b-ab82-d53858d97c12",
   "metadata": {},
   "outputs": [],
   "source": [
    "G = nx.DiGraph()\n",
    "G.add_node(\"X1\",     pos = (0, 3) )\n",
    "G.add_node(\"X2\",     pos = (1, 3) )\n",
    "G.add_node(\"X3\",     pos = (2, 3) )\n",
    "G.add_node(\"X4\",     pos = (3, 3) )\n",
    "G.add_node(\"X5\",     pos = (4, 3) )\n",
    "\n",
    "G.add_node(\"H1\",  pos = (1.0, 2) )\n",
    "G.add_node(\"H2\",  pos = (3.0, 2) )\n",
    "\n",
    "G.add_node(\"H3\",  pos = (1.0, 1) )\n",
    "G.add_node(\"H4\",  pos = (3.0, 1) )\n",
    "\n",
    "G.add_node(\"Y\" ,  pos = (2, 0) )"
   ]
  },
  {
   "cell_type": "code",
   "execution_count": 21,
   "id": "6015fcb1-46a9-4139-99dc-f8586854b904",
   "metadata": {},
   "outputs": [
    {
     "data": {
      "image/png": "[encoded data removed]",
      "text/plain": [
       "<Figure size 432x288 with 1 Axes>"
      ]
     },
     "metadata": {},
     "output_type": "display_data"
    }
   ],
   "source": [
    "G.add_edges_from([ (\"X1\", \"H1\"), (\"X2\", \"H1\"), (\"X3\", \"H1\"),  (\"X4\", \"H1\"), (\"X5\", \"H1\")])\n",
    "G.add_edges_from([ (\"X1\", \"H2\"), (\"X2\", \"H2\"), (\"X3\", \"H2\"),  (\"X4\", \"H2\"), (\"X5\", \"H2\")])\n",
    "G.add_edges_from([ (\"H1\", \"H3\"), (\"H2\", \"H3\")])\n",
    "G.add_edges_from([ (\"H1\", \"H4\"), (\"H2\", \"H4\")])\n",
    "\n",
    "G.add_edges_from([ (\"H3\",  \"Y\"), (\"H4\",  \"Y\")])\n",
    "nx.draw(G, \n",
    "        nx.get_node_attributes(G, 'pos'), \n",
    "        with_labels=True, \n",
    "        font_weight='bold', \n",
    "        node_size = 3000,\n",
    "        node_color = \"lightblue\",\n",
    "        linewidths = 2)\n",
    "ax= plt.gca()\n",
    "ax.collections[0].set_edgecolor(\"#000000\")\n",
    "ax.set_xlim([-.5, 6.5])\n",
    "ax.set_ylim([-.8, 3.3])\n",
    "plt.show()"
   ]
  },
  {
   "cell_type": "code",
   "execution_count": 22,
   "id": "13594d70-9c00-4170-b8b3-128c2ca56ae3",
   "metadata": {},
   "outputs": [],
   "source": [
    "## Define the model\n",
    "## Dimension of the hidden layer\n",
    "H1 = 2\n",
    "H2=2\n",
    "## Number of predictors\n",
    "D_in = xtraining.size()[1]\n",
    "D_out = 1\n",
    "\n",
    "model = torch.nn.Sequential(\n",
    "    torch.nn.Linear(D_in, H1),\n",
    "    torch.nn.ReLU(),\n",
    "    torch.nn.Linear(H1, H2),\n",
    "    torch.nn.ReLU(),\n",
    "    torch.nn.Linear(H2, D_out),\n",
    ")"
   ]
  },
  {
   "cell_type": "code",
   "execution_count": 23,
   "id": "ce7520c1-ab45-4162-8132-f72fa7713b0c",
   "metadata": {},
   "outputs": [
    {
     "name": "stdout",
     "output_type": "stream",
     "text": [
      "0 72604303360.0\n",
      "10000 39088312320.0\n",
      "20000 39088312320.0\n",
      "30000 39088312320.0\n",
      "40000 39088312320.0\n",
      "50000 39088312320.0\n",
      "60000 39088312320.0\n",
      "70000 39088312320.0\n",
      "80000 39088312320.0\n",
      "90000 39088312320.0\n"
     ]
    }
   ],
   "source": [
    "loss_fn = torch.nn.MSELoss(reduction='sum')\n",
    "\n",
    "learning_rate = 1e-4\n",
    "for t in range(100000):\n",
    "    y_pred = model(xtraining)\n",
    "    loss = loss_fn(y_pred, ytraining)\n",
    "    if t % 10000 == 0:\n",
    "        print(t, loss.item())\n",
    "    model.zero_grad()\n",
    "    loss.backward()\n",
    "    with torch.no_grad():\n",
    "        for param in model.parameters():\n",
    "            param -= learning_rate * param.grad"
   ]
  },
  {
   "cell_type": "code",
   "execution_count": 24,
   "id": "162c84da-f9ba-4768-acb2-73dc997ce233",
   "metadata": {},
   "outputs": [
    {
     "data": {
      "text/plain": [
       "<matplotlib.collections.PathCollection at 0x7f0cf077de50>"
      ]
     },
     "execution_count": 24,
     "metadata": {},
     "output_type": "execute_result"
    },
    {
     "data": {
      "image/png": "[encoded data removed]",
      "text/plain": [
       "<Figure size 432x288 with 1 Axes>"
      ]
     },
     "metadata": {},
     "output_type": "display_data"
    }
   ],
   "source": [
    "## try prediction\n",
    "ytesting_pred = model(xtesting)\n",
    "a = ytesting_pred.detach().numpy()\n",
    "\n",
    "plt.scatter(a[:,0], ytesting[:,0])"
   ]
  },
  {
   "cell_type": "code",
   "execution_count": null,
   "id": "29525e2f-4549-4947-ba14-0a66927c986f",
   "metadata": {},
   "outputs": [],
   "source": []
  },
  {
   "cell_type": "code",
   "execution_count": null,
   "id": "111846f1-a011-4612-8f60-d9c5222458c7",
   "metadata": {},
   "outputs": [],
   "source": []
  }
 ],
 "metadata": {
  "kernelspec": {
   "display_name": "Python 3 (ipykernel)",
   "language": "python",
   "name": "python3"
  },
  "language_info": {
   "codemirror_mode": {
    "name": "ipython",
    "version": 3
   },
   "file_extension": ".py",
   "mimetype": "text/x-python",
   "name": "python",
   "nbconvert_exporter": "python",
   "pygments_lexer": "ipython3",
   "version": "3.9.7"
  }
 },
 "nbformat": 4,
 "nbformat_minor": 5
}
